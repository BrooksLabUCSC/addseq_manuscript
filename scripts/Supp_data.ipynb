{
 "cells": [
  {
   "cell_type": "code",
   "execution_count": null,
   "id": "77603161-1ac8-4e66-a74a-e9c0cbcfef0e",
   "metadata": {},
   "outputs": [],
   "source": [
    "import pod5\n",
    "import numpy as np\n",
    "import random\n",
    "import matplotlib.pyplot as plt\n",
    "import matplotlib as mpl\n",
    "import sys\n",
    "plt.rcdefaults()\n",
    "mpl.rcParams['pdf.fonttype'] = 42\n",
    "mpl.rcParams['font.size'] = 12\n",
    "sys.path.insert(0, '/private/groups/brookslab/gabai/tools/NEMO/src/')\n",
    "\n",
    "import importlib\n",
    "\n",
    "from findWellPosGenes import *\n",
    "importlib.reload(sys.modules['findWellPosGenes'])\n",
    "importlib.reload(sys.modules['plot'])\n",
    "from findWellPosGenes import *\n",
    "from qc import *\n",
    "from predict import *\n",
    "from plot import *"
   ]
  },
  {
   "cell_type": "markdown",
   "id": "9f080c54-3092-4aaa-9942-1952f0b8f470",
   "metadata": {},
   "source": [
    "## Supp table1: Data QC"
   ]
  },
  {
   "cell_type": "code",
   "execution_count": 1,
   "id": "aba469bb-678e-4123-8035-4a278aa8d5d9",
   "metadata": {},
   "outputs": [],
   "source": [
    "# control\n",
    "neg_nuclei = '/private/groups/brookslab/gabai/projects/Add-seq/data/ctrl/pod5/220308_ang_0.sorted.stats'\n",
    "pos_nuclei_20 = '/private/groups/brookslab/gabai/projects/Add-seq/data/ctrl/pod5/220308_ang_20.sorted.stats'\n",
    "pos_nuclei_100 = '/private/groups/brookslab/gabai/projects/Add-seq/data/ctrl/pod5/220308_ang_100.sorted.stats'\n",
    "pos_nuclei_500 = '/private/groups/brookslab/gabai/projects/Add-seq/data/ctrl/pod5/220308_ang_500.sorted.stats'\n",
    "\n",
    "# chrom nuclei\n",
    "# rep1\n",
    "nuclei_chrom_190429 = '/private/groups/brookslab/gabai/projects/Add-seq/data/chrom/mapping/20190429_chrom.sorted.stats'\n",
    "# rep2\n",
    "nuclei_chrom_210615 = '/private/groups/brookslab/gabai/projects/Add-seq/data/chrom/mapping/20210615_0802_shelansky_chrom.sorted.stats'\n",
    "# rep3\n",
    "chrom_nuclei_500 = '/private/groups/brookslab/gabai/projects/Add-seq/data/chrom/mapping/220331_Nuclei_Ang500_doradoBasecalled_movesOut.sorted.stats'\n",
    "\n",
    "# chrom sphe\n",
    "chrom_sphe_500 = '/private/groups/brookslab/gabai/projects/Add-seq/data/chrom/sphe/220524_500Ang_Spheroblast_dorado_movesOut_sorted.stats'"
   ]
  },
  {
   "cell_type": "code",
   "execution_count": 2,
   "id": "de35aed6-a1c6-4f90-8e6e-587f43708c71",
   "metadata": {},
   "outputs": [],
   "source": [
    "def read_samstats(stat, names = [\"raw total sequences\", \"average quality\", \"average length\", \"reads mapped\", \"bases mapped (cigar)\"]):\n",
    "    infos = {}\n",
    "    thisinfo = []\n",
    "    \n",
    "    with open(stat, 'r') as infile:\n",
    "        for line in infile:\n",
    "            line = line.strip().split('\\t', 3)\n",
    "            infos[line[1].split(':')[0]] = line[2]\n",
    "    for i in names:\n",
    "        thisinfo.append(infos[i])\n",
    "    \n",
    "    percent_mapped = int(infos[\"reads mapped\"])/int(infos[\"raw total sequences\"])\n",
    "    thisinfo.append(str(round(percent_mapped*100, 3)))\n",
    "\n",
    "    covf = stat.split('.stats')[0] + '.cov'\n",
    "    covs = []\n",
    "    with open(covf, 'r') as infile:\n",
    "        header = infile.readlines(1)\n",
    "        for line in infile:\n",
    "            line = line.strip().split('\\t')\n",
    "            chr = line[0]\n",
    "            if chr != 'chrM': covs.append(float(line[6]))\n",
    "    \n",
    "    avecovs = np.mean(covs)\n",
    "    thisinfo.append(str(round(avecovs,3)))\n",
    "    return thisinfo"
   ]
  },
  {
   "cell_type": "code",
   "execution_count": null,
   "id": "29cf7147-4964-428f-b446-c3a3730e6a6a",
   "metadata": {},
   "outputs": [],
   "source": [
    "stats = [ neg_nuclei, pos_nuclei_20, pos_nuclei_100, pos_nuclei_500, \n",
    "         nuclei_chrom_190429, nuclei_chrom_210615, nuclei_chrom_190429, chrom_sphe_500]\n",
    "\n",
    "labels = ['0uM negative control', '20uM positive control', '100uM positive control', '500uM positive control',\n",
    "          'Nuclei rep1', 'Nuclei rep2', 'Nuclei rep3', 'Spheroplast']"
   ]
  },
  {
   "cell_type": "code",
   "execution_count": null,
   "id": "90156773-15ac-4627-aae9-62ebfcfa735f",
   "metadata": {},
   "outputs": [],
   "source": [
    "outf = open('../data/' + 'Supplemental_Table1.tsv', 'w')\n",
    "outf.write('sample\\tnumber of reads\\taverage quality\\taverage read length\\t# of reads mapped\\tnumber of bases mapped\\tpercent of reads mapped (100%)\\taverage coverage\\n')\n",
    "for i in range(len(stats)):\n",
    "    sample = labels[i]\n",
    "    info = read_samstats(stats[i])\n",
    "    outf.write(f'{sample}\\t' + '\\t'.join(info) + '\\n')\n",
    "outf.close()"
   ]
  },
  {
   "cell_type": "markdown",
   "id": "dc1cfde1-aa8a-430f-8511-7dd07cd2af14",
   "metadata": {},
   "source": [
    "## Supp table2: well-positioned gene analysis"
   ]
  },
  {
   "cell_type": "code",
   "execution_count": 11,
   "id": "79728578-9bf6-4e24-a63b-fa6bcbde0c17",
   "metadata": {},
   "outputs": [],
   "source": [
    "dt_outpath = '../data/'\n",
    "fig_outpath = '../figures/'\n",
    "window = 1200"
   ]
  }
 ],
 "metadata": {
  "kernelspec": {
   "display_name": "Python 3 (ipykernel)",
   "language": "python",
   "name": "python3"
  },
  "language_info": {
   "codemirror_mode": {
    "name": "ipython",
    "version": 3
   },
   "file_extension": ".py",
   "mimetype": "text/x-python",
   "name": "python",
   "nbconvert_exporter": "python",
   "pygments_lexer": "ipython3",
   "version": "3.9.18"
  }
 },
 "nbformat": 4,
 "nbformat_minor": 5
}
