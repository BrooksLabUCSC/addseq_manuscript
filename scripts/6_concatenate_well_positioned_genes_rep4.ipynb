{
 "cells": [
  {
   "cell_type": "code",
   "execution_count": 10,
   "id": "bd105337-ea6a-442b-aefd-47a40cc64248",
   "metadata": {},
   "outputs": [],
   "source": [
    "import pod5\n",
    "import numpy as np\n",
    "import random\n",
    "import matplotlib.pyplot as plt\n",
    "import matplotlib as mpl\n",
    "import sys\n",
    "mpl.rcParams['pdf.fonttype'] = 42\n",
    "mpl.rcParams['font.size'] = 12\n",
    "sys.path.insert(0, '/private/groups/brookslab/gabai/tools/NEMO/src/')\n",
    "from predict import *\n",
    "from plot import *\n",
    "import importlib\n",
    "from qc import *\n",
    "from findWellPosGenes import *\n",
    "importlib.reload(sys.modules['findWellPosGenes'])\n",
    "from findWellPosGenes import *"
   ]
  },
  {
   "cell_type": "code",
   "execution_count": 11,
   "id": "374c4cec-f797-4fb5-b690-b56a17bdf7d1",
   "metadata": {},
   "outputs": [],
   "source": [
    "from tqdm import tqdm"
   ]
  },
  {
   "cell_type": "code",
   "execution_count": 8,
   "id": "067940f2-e2cb-48b3-b413-7b9c9d5ff674",
   "metadata": {},
   "outputs": [],
   "source": [
    "dt_outpath = '../data/'\n",
    "fig_outpath = '../figures/'"
   ]
  },
  {
   "cell_type": "code",
   "execution_count": 5,
   "id": "f422135d-aefd-4cbf-bf37-d3a327a093a3",
   "metadata": {},
   "outputs": [
    {
     "name": "stdout",
     "output_type": "stream",
     "text": [
      "n genes: 18\n"
     ]
    }
   ],
   "source": [
    "# read well positioned genes\n",
    "nuclei_rep4 = '../data/4_dorado_20190819_chrom_well_positioned_genes_cov3_cor0.5_var5300.bed'\n",
    "nuclei_rep4_gene ={}\n",
    "with open(nuclei_rep4) as infile:\n",
    "    for line in infile:\n",
    "        line=line.strip().split('\\t')\n",
    "        chr, start, end, genename, strand = line[0], line[1], line[2], line[3], line[5]\n",
    "        nuclei_rep4_gene[(genename, strand)] = f'{chr}:{start}-{end}'\n",
    "print(f'n genes: {len(nuclei_rep4_gene)}')"
   ]
  },
  {
   "cell_type": "code",
   "execution_count": 6,
   "id": "82cc5854-c4fa-458d-b722-fc325c7c6141",
   "metadata": {},
   "outputs": [],
   "source": [
    "top = 20\n",
    "pregions ={}\n",
    "i = 0\n",
    "for gene in nuclei_rep4_gene:\n",
    "    pregions[gene] = nuclei_rep4_gene[gene]\n",
    "    i+=1\n",
    "    if i ==top:\n",
    "        break\n",
    "    \n",
    "outf = open(f'6_rep4_well_positioned_genes_top_{top}.tsv', 'w')\n",
    "for gene in pregions:\n",
    "    outf.write(f'{gene}\\n')"
   ]
  },
  {
   "cell_type": "code",
   "execution_count": 12,
   "id": "9bb6019a-0892-4649-ab82-339e4c0b237d",
   "metadata": {},
   "outputs": [
    {
     "name": "stderr",
     "output_type": "stream",
     "text": [
      "1118it [00:00, 11179.24it/s]"
     ]
    },
    {
     "name": "stdout",
     "output_type": "stream",
     "text": [
      "start processing gene SOL3...\n"
     ]
    },
    {
     "name": "stderr",
     "output_type": "stream",
     "text": [
      "21646it [00:02, 8163.01it/s] \n",
      "5012it [00:00, 25735.87it/s]"
     ]
    },
    {
     "name": "stdout",
     "output_type": "stream",
     "text": [
      "finished processing gene SOL3...\n",
      "start processing gene MTC7...\n"
     ]
    },
    {
     "name": "stderr",
     "output_type": "stream",
     "text": [
      "21646it [00:01, 11673.81it/s]\n",
      "4275it [00:00, 22070.73it/s]"
     ]
    },
    {
     "name": "stdout",
     "output_type": "stream",
     "text": [
      "finished processing gene MTC7...\n",
      "start processing gene RRD1...\n"
     ]
    },
    {
     "name": "stderr",
     "output_type": "stream",
     "text": [
      "21646it [00:01, 13069.30it/s]\n",
      "2359it [00:00, 23572.99it/s]"
     ]
    },
    {
     "name": "stdout",
     "output_type": "stream",
     "text": [
      "finished processing gene RRD1...\n",
      "start processing gene YTA7...\n"
     ]
    },
    {
     "name": "stderr",
     "output_type": "stream",
     "text": [
      "21646it [00:02, 9184.11it/s] \n",
      "2146it [00:00, 21355.54it/s]"
     ]
    },
    {
     "name": "stdout",
     "output_type": "stream",
     "text": [
      "finished processing gene YTA7...\n",
      "start processing gene SAN1...\n"
     ]
    },
    {
     "name": "stderr",
     "output_type": "stream",
     "text": [
      "21646it [00:02, 7424.68it/s]\n",
      "2298it [00:00, 22973.83it/s]"
     ]
    },
    {
     "name": "stdout",
     "output_type": "stream",
     "text": [
      "finished processing gene SAN1...\n",
      "start processing gene MDM32...\n"
     ]
    },
    {
     "name": "stderr",
     "output_type": "stream",
     "text": [
      "21646it [00:02, 8303.91it/s] \n",
      "482it [00:00, 4800.06it/s]"
     ]
    },
    {
     "name": "stdout",
     "output_type": "stream",
     "text": [
      "finished processing gene MDM32...\n",
      "start processing gene REI1...\n"
     ]
    },
    {
     "name": "stderr",
     "output_type": "stream",
     "text": [
      "21646it [00:01, 10887.50it/s]\n",
      "2501it [00:00, 24993.82it/s]"
     ]
    },
    {
     "name": "stdout",
     "output_type": "stream",
     "text": [
      "finished processing gene REI1...\n",
      "start processing gene HAC1...\n"
     ]
    },
    {
     "name": "stderr",
     "output_type": "stream",
     "text": [
      "21646it [00:01, 15533.85it/s]\n",
      "2594it [00:00, 25919.26it/s]"
     ]
    },
    {
     "name": "stdout",
     "output_type": "stream",
     "text": [
      "finished processing gene HAC1...\n",
      "start processing gene ERC1...\n"
     ]
    },
    {
     "name": "stderr",
     "output_type": "stream",
     "text": [
      "21646it [00:02, 9793.91it/s] \n",
      "2157it [00:00, 21266.71it/s]"
     ]
    },
    {
     "name": "stdout",
     "output_type": "stream",
     "text": [
      "finished processing gene ERC1...\n",
      "start processing gene RQC1...\n"
     ]
    },
    {
     "name": "stderr",
     "output_type": "stream",
     "text": [
      "21646it [00:02, 7349.38it/s]\n",
      "1567it [00:00, 15560.72it/s]"
     ]
    },
    {
     "name": "stdout",
     "output_type": "stream",
     "text": [
      "finished processing gene RQC1...\n",
      "start processing gene MSH3...\n"
     ]
    },
    {
     "name": "stderr",
     "output_type": "stream",
     "text": [
      "21646it [00:01, 15473.79it/s]\n",
      "2800it [00:00, 27994.89it/s]"
     ]
    },
    {
     "name": "stdout",
     "output_type": "stream",
     "text": [
      "finished processing gene MSH3...\n",
      "start processing gene CTR9...\n"
     ]
    },
    {
     "name": "stderr",
     "output_type": "stream",
     "text": [
      "21646it [00:02, 8196.05it/s] \n",
      "1562it [00:00, 15501.01it/s]"
     ]
    },
    {
     "name": "stdout",
     "output_type": "stream",
     "text": [
      "finished processing gene CTR9...\n",
      "start processing gene ARE1...\n"
     ]
    },
    {
     "name": "stderr",
     "output_type": "stream",
     "text": [
      "21646it [00:01, 15371.77it/s]\n",
      "2791it [00:00, 27908.56it/s]"
     ]
    },
    {
     "name": "stdout",
     "output_type": "stream",
     "text": [
      "finished processing gene ARE1...\n",
      "start processing gene NAF1...\n"
     ]
    },
    {
     "name": "stderr",
     "output_type": "stream",
     "text": [
      "21646it [00:02, 10597.61it/s]\n",
      "2819it [00:00, 28189.76it/s]"
     ]
    },
    {
     "name": "stdout",
     "output_type": "stream",
     "text": [
      "finished processing gene NAF1...\n",
      "start processing gene RAD23...\n"
     ]
    },
    {
     "name": "stderr",
     "output_type": "stream",
     "text": [
      "21646it [00:01, 11837.42it/s]\n",
      "2613it [00:00, 26068.12it/s]"
     ]
    },
    {
     "name": "stdout",
     "output_type": "stream",
     "text": [
      "finished processing gene RAD23...\n",
      "start processing gene PGC1...\n"
     ]
    },
    {
     "name": "stderr",
     "output_type": "stream",
     "text": [
      "21646it [00:02, 10050.98it/s]\n",
      "2802it [00:00, 28016.89it/s]"
     ]
    },
    {
     "name": "stdout",
     "output_type": "stream",
     "text": [
      "finished processing gene PGC1...\n",
      "start processing gene DUG1...\n"
     ]
    },
    {
     "name": "stderr",
     "output_type": "stream",
     "text": [
      "21646it [00:01, 15786.48it/s]\n",
      "2801it [00:00, 28007.56it/s]"
     ]
    },
    {
     "name": "stdout",
     "output_type": "stream",
     "text": [
      "finished processing gene DUG1...\n",
      "start processing gene PCP1...\n"
     ]
    },
    {
     "name": "stderr",
     "output_type": "stream",
     "text": [
      "21646it [00:02, 9232.61it/s] "
     ]
    },
    {
     "name": "stdout",
     "output_type": "stream",
     "text": [
      "finished processing gene PCP1...\n",
      "number of reads before filtering: 104\n",
      "filtering reads with more than 0.2 NA...\n",
      "number of reads kept: 54\n",
      "filtering hyper-methylated reads...\n",
      "number of reads kept: 52\n",
      "writing output to file:  ../data/6_rep4_well_positioned_genes_top_20.mtx\n"
     ]
    },
    {
     "name": "stderr",
     "output_type": "stream",
     "text": [
      "\n"
     ]
    }
   ],
   "source": [
    "# get single reads\n",
    "predfile = '../data/prediction/240909_dorado_20190819_chrom.tsv'\n",
    "strand = ''\n",
    "outpath = dt_outpath\n",
    "na_thred = 0.2\n",
    "max_meth = 200\n",
    "prefix = f'6_rep4_well_positioned_genes_top_{top}'\n",
    "stranded = False\n",
    "mtx, readnames, strands, genenames = [], [], [], []\n",
    "\n",
    "for (genename, strand), pregion in pregions.items():\n",
    "    \n",
    "    print(f'start processing gene {genename}...')\n",
    "    \n",
    "    chrom = pregion.split(':')[0]\n",
    "    locus = pregion.split(':')[1].split('-')\n",
    "    pstart, pend = int(locus[0]), int(locus[1])\n",
    "    with open(predfile, 'r') as infile:\n",
    "        for line in tqdm(infile):\n",
    "            thischrom = line.strip().split('\\t')[1]\n",
    "            if thischrom!= chrom:\n",
    "                continue\n",
    "            thisread = line.strip().split('\\t')[0]\n",
    "            thisstrand = 1 if line.strip().split('\\t')[2] == '+' else -1\n",
    "            if stranded:\n",
    "                if thisstrand != strand:\n",
    "                    continue\n",
    "            start = int(line.strip().split('\\t')[3])\n",
    "            scores = line.strip().split('\\t')[-1]\n",
    "            scores = [float(i) for i in scores.split(',')]\n",
    "            \n",
    "            sortedread = [(start+i,j) for i, j in enumerate(scores)]\n",
    "            if sortedread[0][0] > pend or sortedread[-1][0] < pstart: continue\n",
    "            \n",
    "            pos_scores = {i:-1 for i in range(pstart, pend+1)}\n",
    "            poss = [i[0] for i in sortedread]\n",
    "            \n",
    "            left = bisect_left(poss, pstart)\n",
    "            \n",
    "            for i in range(left, len(sortedread)):\n",
    "                pos, score = sortedread[i]\n",
    "                if pos > pend:\n",
    "                    break\n",
    "                if pos not in pos_scores:\n",
    "                    continue\n",
    "                pos_scores[pos] = score\n",
    "            \n",
    "            thisscores = np.array([v for v in pos_scores.values()])\n",
    "            # flip if the gene is on reverse strand\n",
    "            thisscores = np.flip(thisscores) if strand == '-' else thisscores\n",
    "            \n",
    "            if np.sum(thisscores) != -1*len(thisscores):\n",
    "                mtx.append(thisscores)\n",
    "                readnames.append(thisread)\n",
    "                strands.append(thisstrand)\n",
    "                genenames.append(genename)\n",
    "    print(f'finished processing gene {genename}...')\n",
    "\n",
    "mtx = np.array(mtx, dtype = float)\n",
    "mtx[mtx==-1] = np.nan\n",
    "readnames = np.array(readnames, dtype = str)\n",
    "strands = np.array(strands, dtype = int)\n",
    "genenames = np.array(genenames, dtype = str)\n",
    "\n",
    "print('number of reads before filtering:', len(readnames))\n",
    "print(f'filtering reads with more than {na_thred} NA...')\n",
    "little_na = np.invert(np.isnan(mtx).sum(axis = 1)>(mtx.shape[1]*na_thred))\n",
    "mtx = mtx[little_na,:]\n",
    "readnames = readnames[little_na]\n",
    "strands = strands[little_na]\n",
    "genenames = genenames[little_na]\n",
    "print(f'number of reads kept: {len(readnames)}', )\n",
    "print(f'filtering hyper-methylated reads...')\n",
    "hyper_meth= np.invert(np.nanmean(mtx, axis = 1)>max_meth)\n",
    "mtx = mtx[hyper_meth,:]\n",
    "readnames = readnames[hyper_meth]\n",
    "strands = strands[hyper_meth]\n",
    "genenames = genenames[hyper_meth]\n",
    "print(f'number of reads kept: {len(readnames)}')\n",
    "\n",
    "outfile = outpath + prefix + '.mtx'\n",
    "print('writing output to file: ', outfile)\n",
    "mtxFh = open(outfile, 'w')\n",
    "for line in mtx:\n",
    "    mtxFh.write(','.join(np.array(line, dtype = str)) + '\\n')\n",
    "mtxFh.close()\n",
    "\n",
    "outfile2 = outpath + prefix + '_rowannot.tsv'\n",
    "outf = open(outfile2, 'w')\n",
    "for i,j,k in zip(readnames, strands, genenames):\n",
    "    outf.write(f'{i}\\t{j}\\t{k}\\n')\n",
    "outf.close()"
   ]
  },
  {
   "cell_type": "code",
   "execution_count": 14,
   "id": "165f04c1-c7cb-4a3c-8ecf-6db79e0e1374",
   "metadata": {},
   "outputs": [
    {
     "name": "stdout",
     "output_type": "stream",
     "text": [
      "Clustering for ARE1\n",
      "Clustering for CTR9\n",
      "Clustering for DUG1\n",
      "Clustering for ERC1\n"
     ]
    },
    {
     "name": "stderr",
     "output_type": "stream",
     "text": [
      "/private/groups/brookslab/gabai/miniconda3/envs/addseq/lib/python3.9/site-packages/sklearn/utils/validation.py:757: FutureWarning: is_sparse is deprecated and will be removed in a future version. Check `isinstance(dtype, pd.SparseDtype)` instead.\n",
      "  if not hasattr(array, \"sparse\") and array.dtypes.apply(is_sparse).any():\n",
      "/private/groups/brookslab/gabai/miniconda3/envs/addseq/lib/python3.9/site-packages/sklearn/utils/validation.py:595: FutureWarning: is_sparse is deprecated and will be removed in a future version. Check `isinstance(dtype, pd.SparseDtype)` instead.\n",
      "  if is_sparse(pd_dtype):\n",
      "/private/groups/brookslab/gabai/miniconda3/envs/addseq/lib/python3.9/site-packages/sklearn/utils/validation.py:604: FutureWarning: is_sparse is deprecated and will be removed in a future version. Check `isinstance(dtype, pd.SparseDtype)` instead.\n",
      "  if is_sparse(pd_dtype) or not is_extension_array_dtype(pd_dtype):\n",
      "/private/groups/brookslab/gabai/miniconda3/envs/addseq/lib/python3.9/site-packages/sklearn/utils/validation.py:757: FutureWarning: is_sparse is deprecated and will be removed in a future version. Check `isinstance(dtype, pd.SparseDtype)` instead.\n",
      "  if not hasattr(array, \"sparse\") and array.dtypes.apply(is_sparse).any():\n",
      "/private/groups/brookslab/gabai/miniconda3/envs/addseq/lib/python3.9/site-packages/sklearn/utils/validation.py:595: FutureWarning: is_sparse is deprecated and will be removed in a future version. Check `isinstance(dtype, pd.SparseDtype)` instead.\n",
      "  if is_sparse(pd_dtype):\n",
      "/private/groups/brookslab/gabai/miniconda3/envs/addseq/lib/python3.9/site-packages/sklearn/utils/validation.py:604: FutureWarning: is_sparse is deprecated and will be removed in a future version. Check `isinstance(dtype, pd.SparseDtype)` instead.\n",
      "  if is_sparse(pd_dtype) or not is_extension_array_dtype(pd_dtype):\n",
      "/private/groups/brookslab/gabai/miniconda3/envs/addseq/lib/python3.9/site-packages/sklearn/utils/validation.py:757: FutureWarning: is_sparse is deprecated and will be removed in a future version. Check `isinstance(dtype, pd.SparseDtype)` instead.\n",
      "  if not hasattr(array, \"sparse\") and array.dtypes.apply(is_sparse).any():\n",
      "/private/groups/brookslab/gabai/miniconda3/envs/addseq/lib/python3.9/site-packages/sklearn/utils/validation.py:595: FutureWarning: is_sparse is deprecated and will be removed in a future version. Check `isinstance(dtype, pd.SparseDtype)` instead.\n",
      "  if is_sparse(pd_dtype):\n",
      "/private/groups/brookslab/gabai/miniconda3/envs/addseq/lib/python3.9/site-packages/sklearn/utils/validation.py:604: FutureWarning: is_sparse is deprecated and will be removed in a future version. Check `isinstance(dtype, pd.SparseDtype)` instead.\n",
      "  if is_sparse(pd_dtype) or not is_extension_array_dtype(pd_dtype):\n",
      "/private/groups/brookslab/gabai/miniconda3/envs/addseq/lib/python3.9/site-packages/sklearn/utils/validation.py:757: FutureWarning: is_sparse is deprecated and will be removed in a future version. Check `isinstance(dtype, pd.SparseDtype)` instead.\n",
      "  if not hasattr(array, \"sparse\") and array.dtypes.apply(is_sparse).any():\n",
      "/private/groups/brookslab/gabai/miniconda3/envs/addseq/lib/python3.9/site-packages/sklearn/utils/validation.py:595: FutureWarning: is_sparse is deprecated and will be removed in a future version. Check `isinstance(dtype, pd.SparseDtype)` instead.\n",
      "  if is_sparse(pd_dtype):\n",
      "/private/groups/brookslab/gabai/miniconda3/envs/addseq/lib/python3.9/site-packages/sklearn/utils/validation.py:604: FutureWarning: is_sparse is deprecated and will be removed in a future version. Check `isinstance(dtype, pd.SparseDtype)` instead.\n",
      "  if is_sparse(pd_dtype) or not is_extension_array_dtype(pd_dtype):\n"
     ]
    },
    {
     "name": "stdout",
     "output_type": "stream",
     "text": [
      "Clustering for HAC1\n",
      "Clustering for MDM32\n",
      "Clustering for MSH3\n",
      "Clustering for MTC7\n"
     ]
    },
    {
     "name": "stderr",
     "output_type": "stream",
     "text": [
      "/private/groups/brookslab/gabai/miniconda3/envs/addseq/lib/python3.9/site-packages/sklearn/utils/validation.py:757: FutureWarning: is_sparse is deprecated and will be removed in a future version. Check `isinstance(dtype, pd.SparseDtype)` instead.\n",
      "  if not hasattr(array, \"sparse\") and array.dtypes.apply(is_sparse).any():\n",
      "/private/groups/brookslab/gabai/miniconda3/envs/addseq/lib/python3.9/site-packages/sklearn/utils/validation.py:595: FutureWarning: is_sparse is deprecated and will be removed in a future version. Check `isinstance(dtype, pd.SparseDtype)` instead.\n",
      "  if is_sparse(pd_dtype):\n",
      "/private/groups/brookslab/gabai/miniconda3/envs/addseq/lib/python3.9/site-packages/sklearn/utils/validation.py:604: FutureWarning: is_sparse is deprecated and will be removed in a future version. Check `isinstance(dtype, pd.SparseDtype)` instead.\n",
      "  if is_sparse(pd_dtype) or not is_extension_array_dtype(pd_dtype):\n",
      "/private/groups/brookslab/gabai/miniconda3/envs/addseq/lib/python3.9/site-packages/sklearn/utils/validation.py:757: FutureWarning: is_sparse is deprecated and will be removed in a future version. Check `isinstance(dtype, pd.SparseDtype)` instead.\n",
      "  if not hasattr(array, \"sparse\") and array.dtypes.apply(is_sparse).any():\n",
      "/private/groups/brookslab/gabai/miniconda3/envs/addseq/lib/python3.9/site-packages/sklearn/utils/validation.py:595: FutureWarning: is_sparse is deprecated and will be removed in a future version. Check `isinstance(dtype, pd.SparseDtype)` instead.\n",
      "  if is_sparse(pd_dtype):\n",
      "/private/groups/brookslab/gabai/miniconda3/envs/addseq/lib/python3.9/site-packages/sklearn/utils/validation.py:604: FutureWarning: is_sparse is deprecated and will be removed in a future version. Check `isinstance(dtype, pd.SparseDtype)` instead.\n",
      "  if is_sparse(pd_dtype) or not is_extension_array_dtype(pd_dtype):\n",
      "/private/groups/brookslab/gabai/miniconda3/envs/addseq/lib/python3.9/site-packages/sklearn/utils/validation.py:757: FutureWarning: is_sparse is deprecated and will be removed in a future version. Check `isinstance(dtype, pd.SparseDtype)` instead.\n",
      "  if not hasattr(array, \"sparse\") and array.dtypes.apply(is_sparse).any():\n",
      "/private/groups/brookslab/gabai/miniconda3/envs/addseq/lib/python3.9/site-packages/sklearn/utils/validation.py:595: FutureWarning: is_sparse is deprecated and will be removed in a future version. Check `isinstance(dtype, pd.SparseDtype)` instead.\n",
      "  if is_sparse(pd_dtype):\n",
      "/private/groups/brookslab/gabai/miniconda3/envs/addseq/lib/python3.9/site-packages/sklearn/utils/validation.py:604: FutureWarning: is_sparse is deprecated and will be removed in a future version. Check `isinstance(dtype, pd.SparseDtype)` instead.\n",
      "  if is_sparse(pd_dtype) or not is_extension_array_dtype(pd_dtype):\n",
      "/private/groups/brookslab/gabai/miniconda3/envs/addseq/lib/python3.9/site-packages/sklearn/utils/validation.py:757: FutureWarning: is_sparse is deprecated and will be removed in a future version. Check `isinstance(dtype, pd.SparseDtype)` instead.\n",
      "  if not hasattr(array, \"sparse\") and array.dtypes.apply(is_sparse).any():\n",
      "/private/groups/brookslab/gabai/miniconda3/envs/addseq/lib/python3.9/site-packages/sklearn/utils/validation.py:595: FutureWarning: is_sparse is deprecated and will be removed in a future version. Check `isinstance(dtype, pd.SparseDtype)` instead.\n",
      "  if is_sparse(pd_dtype):\n",
      "/private/groups/brookslab/gabai/miniconda3/envs/addseq/lib/python3.9/site-packages/sklearn/utils/validation.py:604: FutureWarning: is_sparse is deprecated and will be removed in a future version. Check `isinstance(dtype, pd.SparseDtype)` instead.\n",
      "  if is_sparse(pd_dtype) or not is_extension_array_dtype(pd_dtype):\n"
     ]
    },
    {
     "name": "stdout",
     "output_type": "stream",
     "text": [
      "Clustering for NAF1\n",
      "Clustering for PCP1\n",
      "Clustering for RAD23\n",
      "Clustering for REI1\n"
     ]
    },
    {
     "name": "stderr",
     "output_type": "stream",
     "text": [
      "/private/groups/brookslab/gabai/miniconda3/envs/addseq/lib/python3.9/site-packages/sklearn/utils/validation.py:757: FutureWarning: is_sparse is deprecated and will be removed in a future version. Check `isinstance(dtype, pd.SparseDtype)` instead.\n",
      "  if not hasattr(array, \"sparse\") and array.dtypes.apply(is_sparse).any():\n",
      "/private/groups/brookslab/gabai/miniconda3/envs/addseq/lib/python3.9/site-packages/sklearn/utils/validation.py:595: FutureWarning: is_sparse is deprecated and will be removed in a future version. Check `isinstance(dtype, pd.SparseDtype)` instead.\n",
      "  if is_sparse(pd_dtype):\n",
      "/private/groups/brookslab/gabai/miniconda3/envs/addseq/lib/python3.9/site-packages/sklearn/utils/validation.py:604: FutureWarning: is_sparse is deprecated and will be removed in a future version. Check `isinstance(dtype, pd.SparseDtype)` instead.\n",
      "  if is_sparse(pd_dtype) or not is_extension_array_dtype(pd_dtype):\n",
      "/private/groups/brookslab/gabai/miniconda3/envs/addseq/lib/python3.9/site-packages/sklearn/utils/validation.py:757: FutureWarning: is_sparse is deprecated and will be removed in a future version. Check `isinstance(dtype, pd.SparseDtype)` instead.\n",
      "  if not hasattr(array, \"sparse\") and array.dtypes.apply(is_sparse).any():\n",
      "/private/groups/brookslab/gabai/miniconda3/envs/addseq/lib/python3.9/site-packages/sklearn/utils/validation.py:595: FutureWarning: is_sparse is deprecated and will be removed in a future version. Check `isinstance(dtype, pd.SparseDtype)` instead.\n",
      "  if is_sparse(pd_dtype):\n",
      "/private/groups/brookslab/gabai/miniconda3/envs/addseq/lib/python3.9/site-packages/sklearn/utils/validation.py:604: FutureWarning: is_sparse is deprecated and will be removed in a future version. Check `isinstance(dtype, pd.SparseDtype)` instead.\n",
      "  if is_sparse(pd_dtype) or not is_extension_array_dtype(pd_dtype):\n",
      "/private/groups/brookslab/gabai/miniconda3/envs/addseq/lib/python3.9/site-packages/sklearn/utils/validation.py:757: FutureWarning: is_sparse is deprecated and will be removed in a future version. Check `isinstance(dtype, pd.SparseDtype)` instead.\n",
      "  if not hasattr(array, \"sparse\") and array.dtypes.apply(is_sparse).any():\n",
      "/private/groups/brookslab/gabai/miniconda3/envs/addseq/lib/python3.9/site-packages/sklearn/utils/validation.py:595: FutureWarning: is_sparse is deprecated and will be removed in a future version. Check `isinstance(dtype, pd.SparseDtype)` instead.\n",
      "  if is_sparse(pd_dtype):\n",
      "/private/groups/brookslab/gabai/miniconda3/envs/addseq/lib/python3.9/site-packages/sklearn/utils/validation.py:604: FutureWarning: is_sparse is deprecated and will be removed in a future version. Check `isinstance(dtype, pd.SparseDtype)` instead.\n",
      "  if is_sparse(pd_dtype) or not is_extension_array_dtype(pd_dtype):\n",
      "/private/groups/brookslab/gabai/miniconda3/envs/addseq/lib/python3.9/site-packages/sklearn/utils/validation.py:757: FutureWarning: is_sparse is deprecated and will be removed in a future version. Check `isinstance(dtype, pd.SparseDtype)` instead.\n",
      "  if not hasattr(array, \"sparse\") and array.dtypes.apply(is_sparse).any():\n",
      "/private/groups/brookslab/gabai/miniconda3/envs/addseq/lib/python3.9/site-packages/sklearn/utils/validation.py:595: FutureWarning: is_sparse is deprecated and will be removed in a future version. Check `isinstance(dtype, pd.SparseDtype)` instead.\n",
      "  if is_sparse(pd_dtype):\n",
      "/private/groups/brookslab/gabai/miniconda3/envs/addseq/lib/python3.9/site-packages/sklearn/utils/validation.py:604: FutureWarning: is_sparse is deprecated and will be removed in a future version. Check `isinstance(dtype, pd.SparseDtype)` instead.\n",
      "  if is_sparse(pd_dtype) or not is_extension_array_dtype(pd_dtype):\n"
     ]
    },
    {
     "name": "stdout",
     "output_type": "stream",
     "text": [
      "Clustering for RQC1\n",
      "Clustering for RRD1\n",
      "Clustering for SAN1\n",
      "Clustering for SOL3\n"
     ]
    },
    {
     "name": "stderr",
     "output_type": "stream",
     "text": [
      "/private/groups/brookslab/gabai/miniconda3/envs/addseq/lib/python3.9/site-packages/sklearn/utils/validation.py:757: FutureWarning: is_sparse is deprecated and will be removed in a future version. Check `isinstance(dtype, pd.SparseDtype)` instead.\n",
      "  if not hasattr(array, \"sparse\") and array.dtypes.apply(is_sparse).any():\n",
      "/private/groups/brookslab/gabai/miniconda3/envs/addseq/lib/python3.9/site-packages/sklearn/utils/validation.py:595: FutureWarning: is_sparse is deprecated and will be removed in a future version. Check `isinstance(dtype, pd.SparseDtype)` instead.\n",
      "  if is_sparse(pd_dtype):\n",
      "/private/groups/brookslab/gabai/miniconda3/envs/addseq/lib/python3.9/site-packages/sklearn/utils/validation.py:604: FutureWarning: is_sparse is deprecated and will be removed in a future version. Check `isinstance(dtype, pd.SparseDtype)` instead.\n",
      "  if is_sparse(pd_dtype) or not is_extension_array_dtype(pd_dtype):\n",
      "/private/groups/brookslab/gabai/miniconda3/envs/addseq/lib/python3.9/site-packages/sklearn/utils/validation.py:757: FutureWarning: is_sparse is deprecated and will be removed in a future version. Check `isinstance(dtype, pd.SparseDtype)` instead.\n",
      "  if not hasattr(array, \"sparse\") and array.dtypes.apply(is_sparse).any():\n",
      "/private/groups/brookslab/gabai/miniconda3/envs/addseq/lib/python3.9/site-packages/sklearn/utils/validation.py:595: FutureWarning: is_sparse is deprecated and will be removed in a future version. Check `isinstance(dtype, pd.SparseDtype)` instead.\n",
      "  if is_sparse(pd_dtype):\n",
      "/private/groups/brookslab/gabai/miniconda3/envs/addseq/lib/python3.9/site-packages/sklearn/utils/validation.py:604: FutureWarning: is_sparse is deprecated and will be removed in a future version. Check `isinstance(dtype, pd.SparseDtype)` instead.\n",
      "  if is_sparse(pd_dtype) or not is_extension_array_dtype(pd_dtype):\n",
      "/private/groups/brookslab/gabai/miniconda3/envs/addseq/lib/python3.9/site-packages/sklearn/utils/validation.py:757: FutureWarning: is_sparse is deprecated and will be removed in a future version. Check `isinstance(dtype, pd.SparseDtype)` instead.\n",
      "  if not hasattr(array, \"sparse\") and array.dtypes.apply(is_sparse).any():\n",
      "/private/groups/brookslab/gabai/miniconda3/envs/addseq/lib/python3.9/site-packages/sklearn/utils/validation.py:595: FutureWarning: is_sparse is deprecated and will be removed in a future version. Check `isinstance(dtype, pd.SparseDtype)` instead.\n",
      "  if is_sparse(pd_dtype):\n",
      "/private/groups/brookslab/gabai/miniconda3/envs/addseq/lib/python3.9/site-packages/sklearn/utils/validation.py:604: FutureWarning: is_sparse is deprecated and will be removed in a future version. Check `isinstance(dtype, pd.SparseDtype)` instead.\n",
      "  if is_sparse(pd_dtype) or not is_extension_array_dtype(pd_dtype):\n",
      "/private/groups/brookslab/gabai/miniconda3/envs/addseq/lib/python3.9/site-packages/sklearn/utils/validation.py:757: FutureWarning: is_sparse is deprecated and will be removed in a future version. Check `isinstance(dtype, pd.SparseDtype)` instead.\n",
      "  if not hasattr(array, \"sparse\") and array.dtypes.apply(is_sparse).any():\n",
      "/private/groups/brookslab/gabai/miniconda3/envs/addseq/lib/python3.9/site-packages/sklearn/utils/validation.py:595: FutureWarning: is_sparse is deprecated and will be removed in a future version. Check `isinstance(dtype, pd.SparseDtype)` instead.\n",
      "  if is_sparse(pd_dtype):\n",
      "/private/groups/brookslab/gabai/miniconda3/envs/addseq/lib/python3.9/site-packages/sklearn/utils/validation.py:604: FutureWarning: is_sparse is deprecated and will be removed in a future version. Check `isinstance(dtype, pd.SparseDtype)` instead.\n",
      "  if is_sparse(pd_dtype) or not is_extension_array_dtype(pd_dtype):\n"
     ]
    },
    {
     "name": "stdout",
     "output_type": "stream",
     "text": [
      "Clustering for YTA7\n",
      "clustered matrix shape: (52, 1201)\n"
     ]
    },
    {
     "name": "stderr",
     "output_type": "stream",
     "text": [
      "/private/groups/brookslab/gabai/miniconda3/envs/addseq/lib/python3.9/site-packages/sklearn/utils/validation.py:757: FutureWarning: is_sparse is deprecated and will be removed in a future version. Check `isinstance(dtype, pd.SparseDtype)` instead.\n",
      "  if not hasattr(array, \"sparse\") and array.dtypes.apply(is_sparse).any():\n",
      "/private/groups/brookslab/gabai/miniconda3/envs/addseq/lib/python3.9/site-packages/sklearn/utils/validation.py:595: FutureWarning: is_sparse is deprecated and will be removed in a future version. Check `isinstance(dtype, pd.SparseDtype)` instead.\n",
      "  if is_sparse(pd_dtype):\n",
      "/private/groups/brookslab/gabai/miniconda3/envs/addseq/lib/python3.9/site-packages/sklearn/utils/validation.py:604: FutureWarning: is_sparse is deprecated and will be removed in a future version. Check `isinstance(dtype, pd.SparseDtype)` instead.\n",
      "  if is_sparse(pd_dtype) or not is_extension_array_dtype(pd_dtype):\n"
     ]
    }
   ],
   "source": [
    "import pandas as pd\n",
    "from sklearn.cluster import KMeans\n",
    "from scipy.cluster.hierarchy import linkage, fcluster\n",
    "from sklearn.impute import SimpleImputer\n",
    "\n",
    "if np.isnan(mtx).sum() != 0:\n",
    "    imp = SimpleImputer(missing_values=np.nan, strategy='most_frequent')\n",
    "    new_mtx = imp.fit_transform(mtx)\n",
    "else:\n",
    "    new_mtx = mtx\n",
    "\n",
    "df = pd.DataFrame(new_mtx)\n",
    "df['gene'] = genenames  # Add the gene annotation to the matrix as a new column\n",
    "\n",
    "# Group the matrix by gene\n",
    "grouped_by_gene = df.groupby('gene')\n",
    "\n",
    "# Function for KMeans clustering for each gene\n",
    "def kmeans_clustering_for_gene(gene_group, n_clusters=3):\n",
    "    # Exclude the 'gene' column for clustering\n",
    "    gene_reads = gene_group.drop(columns=['gene'])\n",
    "    \n",
    "    # Perform KMeans clustering\n",
    "    kmeans = KMeans(n_clusters=n_clusters, random_state=42)\n",
    "    clusters = kmeans.fit_predict(gene_reads)\n",
    "    \n",
    "    # Add the cluster labels as a new column\n",
    "    gene_group['cluster'] = clusters\n",
    "    \n",
    "    # Sort the rows by cluster labels\n",
    "    sorted_gene_group = gene_group.sort_values(by='cluster')\n",
    "    \n",
    "    return sorted_gene_group.drop(columns=['cluster'])  # Drop the cluster column after sorting\n",
    "\n",
    "# Function for hierarchical clustering for each gene\n",
    "def hierarchical_clustering_for_gene(gene_group, method='ward', n_clusters=3):\n",
    "    # Exclude the 'gene' column for clustering\n",
    "    gene_reads = gene_group.drop(columns=['gene'])\n",
    "    \n",
    "    # Perform hierarchical clustering\n",
    "    linkage_matrix = linkage(gene_reads, method=method)\n",
    "    \n",
    "    # Get the flat clusters based on n_clusters\n",
    "    clusters = fcluster(linkage_matrix, t=n_clusters, criterion='maxclust')\n",
    "    \n",
    "    # Add the cluster labels as a new column\n",
    "    gene_group['cluster'] = clusters\n",
    "    \n",
    "    # Sort the rows by cluster labels\n",
    "    sorted_gene_group = gene_group.sort_values(by='cluster')\n",
    "    \n",
    "    return sorted_gene_group.drop(columns=['cluster'])  # Drop the cluster column after sorting\n",
    "\n",
    "# 1. Apply clustering on each gene group and collect sorted groups\n",
    "sorted_groups, clustered_genes = [], []\n",
    "\n",
    "for gene_name, gene_group in grouped_by_gene:\n",
    "    print(f\"Clustering for {gene_name}\")\n",
    "    \n",
    "    # Choose KMeans or Hierarchical clustering\n",
    "    sorted_gene_group = kmeans_clustering_for_gene(gene_group, n_clusters=1)\n",
    "    # Alternatively, use hierarchical clustering:\n",
    "    # sorted_gene_group = hierarchical_clustering_for_gene(gene_group, n_clusters=3)\n",
    "\n",
    "    # Append the sorted group to the list\n",
    "    sorted_groups.append(sorted_gene_group.drop(columns=['gene']))  # Remove 'gene' column\n",
    "\n",
    "    clustered_genes.extend([gene_name] * len(sorted_gene_group))\n",
    "# 2. Concatenate all sorted groups back into one matrix\n",
    "clustered_mtx = pd.concat(sorted_groups, axis=0).values  # Convert to numpy array\n",
    "\n",
    "# The final output matrix\n",
    "print(\"clustered matrix shape:\", clustered_mtx.shape)"
   ]
  },
  {
   "cell_type": "code",
   "execution_count": 15,
   "id": "7c0e403c-edd0-43b4-b1de-70a1188c8f92",
   "metadata": {},
   "outputs": [
    {
     "name": "stderr",
     "output_type": "stream",
     "text": [
      "100%|████████████████████████████████████████████████████████████████████████████████████████████████████████████████████████████████████████| 52/52 [00:59<00:00,  1.29s/it]\n"
     ]
    },
    {
     "data": {
      "image/png": "[encoded data removed]",
      "text/plain": [
       "<Figure size 500x800 with 1 Axes>"
      ]
     },
     "metadata": {},
     "output_type": "display_data"
    }
   ],
   "source": [
    "plt.figure(figsize=(5, 8))\n",
    "pstart, pend = (-600, 600)\n",
    "xticks_space = 150\n",
    "ax = plt.axes((0.1, 0.1, 0.9, 0.9))\n",
    "ax.spines['top'].set_visible(True)\n",
    "ax.spines['right'].set_visible(False)\n",
    "ax.spines['left'].set_visible(False)\n",
    "ax.spines['bottom'].set_visible(True)\n",
    "ax.set_xticks(ticks= np.arange(pstart, pend+1, xticks_space))\n",
    "ax.set_xticklabels(ax.get_xticks(), rotation = 50)\n",
    "ax.set_xlim(pstart, pend)\n",
    "ax.yaxis.tick_right()\n",
    "ax.yaxis.set_label_position(\"right\")\n",
    "height = (1, 1)\n",
    "bottom=0\n",
    "tick_yaxis, label_yaxis = [],[]\n",
    "total, count = np.zeros(clustered_mtx.shape[1], dtype = int), np.zeros(clustered_mtx.shape[1], dtype = int)\n",
    "(R,G,B) = colorMap(palette = 'viridis', log_scale=False)\n",
    "thisgene = ''\n",
    "\n",
    "for i in tqdm(range(clustered_mtx.shape[0])):\n",
    "    left = -600\n",
    "    if thisgene != clustered_genes[i]:\n",
    "        tick_yaxis.append(bottom)\n",
    "        label_yaxis.append(clustered_genes[i])\n",
    "        thisgene = clustered_genes[i]\n",
    "    for j in range(clustered_mtx.shape[1]):\n",
    "        score = clustered_mtx[i, j]\n",
    "        if not np.isnan(score):\n",
    "            count[j] += score\n",
    "            total[j] += 1\n",
    "        # no score at this position\n",
    "        if np.isnan(score):\n",
    "            col = 'lightgray'\n",
    "        else:\n",
    "            color = int((score/256)*100)\n",
    "            col=(R[color],G[color],B[color])\n",
    "        thisalpha = 1\n",
    "        rectangle = mplpatches.Rectangle([left, bottom-(height[0]*0.5)], 1, height[0], \n",
    "                                         facecolor = col, edgecolor = 'silver', linewidth = 0, alpha=thisalpha)\n",
    "        ax.add_patch(rectangle)\n",
    "        left += 1\n",
    "    bottom +=height[0]\n",
    "\n",
    "aggregate = np.divide(np.divide(count, total), 256)\n",
    "if np.max(total) < 1:\n",
    "    aggregate = np.zeros(clustered_mtx.shape[1])\n",
    "ax.bar(np.arange(pstart, pend+1), aggregate, bottom=bottom, width = 1.0, color = 'tab:blue')\n",
    "bottom+=1\n",
    "ax.set_yticks(ticks = tick_yaxis, labels = label_yaxis)\n",
    "ax.set_ylim(0-0.5*height[0], bottom)\n",
    "\n",
    "plt.savefig(fig_outpath+ f'6_top_{top}_well_positioned_genes_clustered_within_gene_rep4.pdf', bbox_inches='tight')"
   ]
  },
  {
   "cell_type": "code",
   "execution_count": 16,
   "id": "35d21277-9a22-41a6-99a9-05783f4e4b7c",
   "metadata": {},
   "outputs": [
    {
     "data": {
      "image/png": "[encoded data removed]",
      "text/plain": [
       "<Figure size 500x200 with 1 Axes>"
      ]
     },
     "metadata": {},
     "output_type": "display_data"
    }
   ],
   "source": [
    "from scipy.signal import savgol_filter\n",
    "smoothed_agg = savgol_filter(aggregate, 150, 3, mode=\"nearest\")\n",
    "plt.figure(figsize=(5, 2))\n",
    "plt.plot(np.arange(pstart, pend+1), smoothed_agg)\n",
    "plt.xticks(ticks= np.arange(pstart, pend+1, xticks_space))\n",
    "plt.ylim(min(smoothed_agg), max(smoothed_agg))\n",
    "plt.xlim(-600, 600)\n",
    "plt.savefig(fig_outpath+ f'6_top_{top}_aggregated_panel_rep4.pdf', bbox_inches='tight')"
   ]
  }
 ],
 "metadata": {
  "kernelspec": {
   "display_name": "Python 3 (ipykernel)",
   "language": "python",
   "name": "python3"
  },
  "language_info": {
   "codemirror_mode": {
    "name": "ipython",
    "version": 3
   },
   "file_extension": ".py",
   "mimetype": "text/x-python",
   "name": "python",
   "nbconvert_exporter": "python",
   "pygments_lexer": "ipython3",
   "version": "3.9.18"
  }
 },
 "nbformat": 4,
 "nbformat_minor": 5
}
