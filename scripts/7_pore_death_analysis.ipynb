{
 "cells": [
  {
   "cell_type": "code",
   "execution_count": 4,
   "id": "fb90a814-7da9-4b4e-bcc6-3571234f8631",
   "metadata": {},
   "outputs": [],
   "source": [
    "import pandas as pd\n",
    "import matplotlib.pyplot as plt\n",
    "import seaborn as sns\n",
    "import argparse\n",
    "from pathlib import Path\n",
    "import sys\n",
    "import matplotlib.pyplot as plt\n",
    "import matplotlib as mpl\n",
    "mpl.rcParams['pdf.fonttype'] = 42\n",
    "mpl.rcParams['font.size'] = 12"
   ]
  },
  {
   "cell_type": "code",
   "execution_count": 30,
   "id": "7dde77a3-2a01-4d9f-98a3-23fd26677f19",
   "metadata": {},
   "outputs": [],
   "source": [
    "def process_sequencing_summary(file_path):\n",
    "    try:\n",
    "        df = pd.read_csv(file_path, sep='\\t')\n",
    "        print(f\"\\nAvailable columns in {file_path}:\")\n",
    "        for col in df.columns:\n",
    "            print(f\"  - {col}\")\n",
    "        sequence_length_cols = [col for col in df.columns if 'sequence_length' in col.lower()]\n",
    "\n",
    "        if not sequence_length_cols:\n",
    "            raise ValueError(f\"Could not find sequence length column in {file_path}\")\n",
    "        sequence_length_col = sequence_length_cols[0]\n",
    "        print(f\"\\nUsing column '{sequence_length_col}' for sequence length\")\n",
    "        time_cols = [col for col in df.columns if 'time' in col.lower()]\n",
    "        if not time_cols:\n",
    "            raise ValueError(f\"Could not find time column in {file_path}\")\n",
    "        start_time_col = next((col for col in time_cols if 'start' in col.lower()), time_cols[0])\n",
    "        print(f\"Using column '{start_time_col}' for start time\")\n",
    "        print(df[start_time_col].head())\n",
    "        if pd.api.types.is_numeric_dtype(df[start_time_col]):\n",
    "            df['hours'] = df[start_time_col] / 3600\n",
    "        else:\n",
    "            df['start_time'] = pd.to_datetime(df[start_time_col])\n",
    "            start_time = df['start_time'].min()\n",
    "            df['hours'] = (df['start_time'] - start_time).dt.total_seconds() / 3600\n",
    "        df = df.sort_values('hours')\n",
    "        df['cumulative_gigabases'] = df[sequence_length_col].cumsum() / 1e9\n",
    "\n",
    "        return df[['hours', 'cumulative_gigabases']]\n",
    "\n",
    "    except Exception as e:\n",
    "        print(f\"\\nError processing file {file_path}:\")\n",
    "        print(f\"Error details: {str(e)}\")\n",
    "        sys.exit(1)\n",
    "\n",
    "\n",
    "def plot_readOutput (input_files, output_file):\n",
    "    sns.set_style(\"white\")\n",
    "    fig, ax = plt.subplots(figsize=(5, 4))\n",
    "    colors = ['tab:blue', 'tab:orange']\n",
    "    labels = ['negative control', '500uM positive control']\n",
    "    min_x_limit = float('inf')\n",
    "    for i, (file_path, color) in enumerate(zip(input_files, colors)):\n",
    "        data = process_sequencing_summary(file_path)\n",
    "        max_hours = data['hours'].max()\n",
    "        if max_hours < min_x_limit:\n",
    "            min_x_limit = max_hours\n",
    "        ax.plot(data['hours'], data['cumulative_gigabases'],\n",
    "                label=labels[i], color=color, linewidth=2)\n",
    "    ax.set_xlabel('Time (hours)')\n",
    "    ax.set_ylabel('Cumulative output (Gb)')\n",
    "    ax.set_title('Cumulative sequencing output over time', fontsize=14, pad=20)\n",
    "    ax.set_xlim(0, 20)\n",
    "    ax.set_ylim(0, None)\n",
    "    plt.tight_layout()\n",
    "    plt.savefig(output_file)\n",
    "    plt.show()\n",
    "    plt.close()"
   ]
  },
  {
   "cell_type": "code",
   "execution_count": 12,
   "id": "c4246f85-80ed-4a81-bc09-a144986f6c1c",
   "metadata": {},
   "outputs": [],
   "source": [
    "neg = '../data/sequencing_summary/0uM_220331_sequencing_summary.txt'\n",
    "pos = '../data/sequencing_summary/500uM_220331_sequencing_summary.txt'"
   ]
  },
  {
   "cell_type": "code",
   "execution_count": 31,
   "id": "24bb1b93-3700-44db-8d4b-61c266ea3f5f",
   "metadata": {
    "scrolled": true
   },
   "outputs": [
    {
     "name": "stdout",
     "output_type": "stream",
     "text": [
      "\n",
      "Available columns in ../data/sequencing_summary/0uM_220331_sequencing_summary.txt:\n",
      "  - filename\n",
      "  - read_id\n",
      "  - run_id\n",
      "  - batch_id\n",
      "  - channel\n",
      "  - mux\n",
      "  - start_time\n",
      "  - duration\n",
      "  - num_events\n",
      "  - passes_filtering\n",
      "  - template_start\n",
      "  - num_events_template\n",
      "  - template_duration\n",
      "  - sequence_length_template\n",
      "  - mean_qscore_template\n",
      "  - strand_score_template\n",
      "  - median_template\n",
      "  - mad_template\n",
      "  - scaling_median_template\n",
      "  - scaling_mad_template\n",
      "\n",
      "Using column 'sequence_length_template' for sequence length\n",
      "Using column 'start_time' for start time\n",
      "0    82345.71300\n",
      "1    82173.40225\n",
      "2    81977.16025\n",
      "3    82351.45525\n",
      "4    83432.46400\n",
      "Name: start_time, dtype: float64\n",
      "\n",
      "Available columns in ../data/sequencing_summary/500uM_220331_sequencing_summary.txt:\n",
      "  - filename\n",
      "  - read_id\n",
      "  - run_id\n",
      "  - batch_id\n",
      "  - channel\n",
      "  - mux\n",
      "  - start_time\n",
      "  - duration\n",
      "  - num_events\n",
      "  - passes_filtering\n",
      "  - template_start\n",
      "  - num_events_template\n",
      "  - template_duration\n",
      "  - sequence_length_template\n",
      "  - mean_qscore_template\n",
      "  - strand_score_template\n",
      "  - median_template\n",
      "  - mad_template\n",
      "  - scaling_median_template\n",
      "  - scaling_mad_template\n",
      "\n",
      "Using column 'sequence_length_template' for sequence length\n",
      "Using column 'start_time' for start time\n",
      "0    1595.1885\n",
      "1    1280.9190\n",
      "2    1288.2825\n",
      "3    1215.2640\n",
      "4    1492.0575\n",
      "Name: start_time, dtype: float64\n"
     ]
    },
    {
     "data": {
      "image/png": "[encoded data removed]",
      "text/plain": [
       "<Figure size 500x400 with 1 Axes>"
      ]
     },
     "metadata": {},
     "output_type": "display_data"
    }
   ],
   "source": [
    "plot_readOutput([neg, pos], '../figures/7_pore_activity_summary.pdf')"
   ]
  }
 ],
 "metadata": {
  "kernelspec": {
   "display_name": "Python 3 (ipykernel)",
   "language": "python",
   "name": "python3"
  },
  "language_info": {
   "codemirror_mode": {
    "name": "ipython",
    "version": 3
   },
   "file_extension": ".py",
   "mimetype": "text/x-python",
   "name": "python",
   "nbconvert_exporter": "python",
   "pygments_lexer": "ipython3",
   "version": "3.9.18"
  }
 },
 "nbformat": 4,
 "nbformat_minor": 5
}
