{
 "cells": [
  {
   "cell_type": "code",
   "execution_count": 1,
   "id": "6fc15891-7c25-4b86-a365-6f8b42a8b0eb",
   "metadata": {},
   "outputs": [],
   "source": [
    "import pod5\n",
    "import numpy as np\n",
    "import random\n",
    "import matplotlib.pyplot as plt\n",
    "import matplotlib as mpl\n",
    "import sys\n",
    "mpl.rcParams['pdf.fonttype'] = 42\n",
    "mpl.rcParams['font.size'] = 12\n",
    "sys.path.insert(0, '/private/groups/brookslab/gabai/tools/NEMO/src/')\n",
    "from predict import *\n",
    "from plot import *\n",
    "import importlib\n",
    "from qc import *\n",
    "from findWellPosGenes import *\n",
    "importlib.reload(sys.modules['findWellPosGenes'])\n",
    "from findWellPosGenes import *"
   ]
  },
  {
   "cell_type": "code",
   "execution_count": 2,
   "id": "d08fccf5-8a21-450a-8e0f-fdebc86dde5c",
   "metadata": {},
   "outputs": [],
   "source": [
    "dt_outpath = '../data/'\n",
    "fig_outpath = '../figures/'"
   ]
  },
  {
   "cell_type": "markdown",
   "id": "98511b83-2df1-43aa-8b39-ae78c5da7c2f",
   "metadata": {},
   "source": [
    "## Figure3A:"
   ]
  },
  {
   "cell_type": "code",
   "execution_count": 10,
   "id": "7c6b04a9-e702-4a83-9acc-fb99addb5827",
   "metadata": {},
   "outputs": [
    {
     "name": "stdout",
     "output_type": "stream",
     "text": [
      "n genes: 380\n"
     ]
    }
   ],
   "source": [
    "# read well positioned genes\n",
    "nuclei_rep1 = '../data/4_dorado_20190429_chrom_well_positioned_genes_cov22_cor0.5_var7100.bed'\n",
    "nuclei_rep1_gene ={}\n",
    "with open(nuclei_rep1) as infile:\n",
    "    for line in infile:\n",
    "        line=line.strip().split('\\t')\n",
    "        chr, start, end, genename, strand = line[0], line[1], line[2], line[3], line[5]\n",
    "        nuclei_rep1_gene[(genename, strand)] = f'{chr}:{start}-{end}'\n",
    "print(f'n genes: {len(nuclei_rep1_gene)}')"
   ]
  },
  {
   "cell_type": "code",
   "execution_count": 11,
   "id": "69f9ac59-470b-4404-8458-5cee292f5034",
   "metadata": {},
   "outputs": [
    {
     "name": "stdout",
     "output_type": "stream",
     "text": [
      "n genes: 230\n"
     ]
    }
   ],
   "source": [
    "# read well positioned genes\n",
    "nuclei_rep2 = '../data/4_dorado_20210615_chrom_well_positioned_genes_cov29_cor0.6_var9400.bed'\n",
    "nuclei_rep2_gene ={}\n",
    "with open(nuclei_rep2) as infile:\n",
    "    for line in infile:\n",
    "        line=line.strip().split('\\t')\n",
    "        chr, start, end, genename, strand = line[0], line[1], line[2], line[3], line[5]\n",
    "        nuclei_rep2_gene[(genename, strand)] = f'{chr}:{start}-{end}'\n",
    "print(f'n genes: {len(nuclei_rep2_gene)}')"
   ]
  },
  {
   "cell_type": "code",
   "execution_count": 13,
   "id": "0f807fe2-dafd-4d9f-8345-23fc5ebdaf8a",
   "metadata": {},
   "outputs": [
    {
     "name": "stdout",
     "output_type": "stream",
     "text": [
      "n genes: 57\n"
     ]
    }
   ],
   "source": [
    "# read well positioned genes\n",
    "sphe = '../data/4_dorado_202205_sphe_chrom__well_positioned_genes_cov16_cor0.5_var5500.bed'\n",
    "sphe_gene ={}\n",
    "with open(sphe) as infile:\n",
    "    for line in infile:\n",
    "        line=line.strip().split('\\t')\n",
    "        chr, start, end, genename, strand = line[0], line[1], line[2], line[3], line[5]\n",
    "        sphe_gene[(genename, strand)] = f'{chr}:{start}-{end}'\n",
    "print(f'n genes: {len(sphe_gene)}')"
   ]
  },
  {
   "cell_type": "code",
   "execution_count": 12,
   "id": "43744186-7db7-45d5-852d-cf74f9f6c3bf",
   "metadata": {},
   "outputs": [
    {
     "name": "stdout",
     "output_type": "stream",
     "text": [
      "38\n"
     ]
    }
   ],
   "source": [
    "# get shared well-positioned genes between 2 replicates\n",
    "shared_nuclei_genes = list(set(nuclei_rep1_gene.keys()) & set(nuclei_rep2_gene.keys()))\n",
    "print(len(shared_nuclei_genes))\n",
    "# shared_nuclei_genes = list(set(nuclei_rep1_gene.keys()) & set(nuclei_rep2_gene.keys()) & set(sphe_gene.keys()))\n",
    "# print(len(shared_nuclei_genes))\n",
    "pregions ={}\n",
    "for gene in nuclei_rep1_gene:\n",
    "    if gene in shared_nuclei_genes:\n",
    "        pregions[gene] = nuclei_rep1_gene[gene]"
   ]
  },
  {
   "cell_type": "code",
   "execution_count": 11,
   "id": "c7777d69-18a6-4cfa-9be3-296e429208bb",
   "metadata": {},
   "outputs": [
    {
     "name": "stderr",
     "output_type": "stream",
     "text": [
      "0it [00:00, ?it/s]"
     ]
    },
    {
     "name": "stdout",
     "output_type": "stream",
     "text": [
      "start processing gene zz-YIL161W...\n"
     ]
    },
    {
     "name": "stderr",
     "output_type": "stream",
     "text": [
      "58289it [00:26, 2170.70it/s]\n",
      "803it [00:00, 8026.52it/s]"
     ]
    },
    {
     "name": "stdout",
     "output_type": "stream",
     "text": [
      "finished processing gene zz-YIL161W...\n",
      "start processing gene SMC4...\n"
     ]
    },
    {
     "name": "stderr",
     "output_type": "stream",
     "text": [
      "58289it [00:22, 2605.45it/s] \n",
      "1017it [00:00, 10162.69it/s]"
     ]
    },
    {
     "name": "stdout",
     "output_type": "stream",
     "text": [
      "finished processing gene SMC4...\n",
      "start processing gene GLE1...\n"
     ]
    },
    {
     "name": "stderr",
     "output_type": "stream",
     "text": [
      "58289it [00:21, 2775.44it/s] \n",
      "1012it [00:00, 10099.83it/s]"
     ]
    },
    {
     "name": "stdout",
     "output_type": "stream",
     "text": [
      "finished processing gene GLE1...\n",
      "start processing gene FMP32...\n"
     ]
    },
    {
     "name": "stderr",
     "output_type": "stream",
     "text": [
      "58289it [00:08, 6627.43it/s] \n",
      "1016it [00:00, 10153.01it/s]"
     ]
    },
    {
     "name": "stdout",
     "output_type": "stream",
     "text": [
      "finished processing gene FMP32...\n",
      "start processing gene TOR2...\n"
     ]
    },
    {
     "name": "stderr",
     "output_type": "stream",
     "text": [
      "58289it [00:12, 4751.79it/s] \n",
      "1012it [00:00, 10119.60it/s]"
     ]
    },
    {
     "name": "stdout",
     "output_type": "stream",
     "text": [
      "finished processing gene TOR2...\n",
      "start processing gene ALR2...\n"
     ]
    },
    {
     "name": "stderr",
     "output_type": "stream",
     "text": [
      "58289it [00:08, 6611.70it/s] \n",
      "1006it [00:00, 10053.71it/s]"
     ]
    },
    {
     "name": "stdout",
     "output_type": "stream",
     "text": [
      "finished processing gene ALR2...\n",
      "start processing gene ATG8...\n"
     ]
    },
    {
     "name": "stderr",
     "output_type": "stream",
     "text": [
      "58289it [00:14, 4116.82it/s] \n",
      "1004it [00:00, 10028.39it/s]"
     ]
    },
    {
     "name": "stdout",
     "output_type": "stream",
     "text": [
      "finished processing gene ATG8...\n",
      "start processing gene VPS75...\n"
     ]
    },
    {
     "name": "stderr",
     "output_type": "stream",
     "text": [
      "58289it [00:14, 4155.33it/s] \n",
      "1004it [00:00, 10030.59it/s]"
     ]
    },
    {
     "name": "stdout",
     "output_type": "stream",
     "text": [
      "finished processing gene VPS75...\n",
      "start processing gene SEC2...\n"
     ]
    },
    {
     "name": "stderr",
     "output_type": "stream",
     "text": [
      "58289it [00:14, 4154.97it/s] \n",
      "950it [00:00, 9499.83it/s]"
     ]
    },
    {
     "name": "stdout",
     "output_type": "stream",
     "text": [
      "finished processing gene SEC2...\n",
      "start processing gene TAF2...\n"
     ]
    },
    {
     "name": "stderr",
     "output_type": "stream",
     "text": [
      "58289it [00:08, 6654.67it/s] \n",
      "1006it [00:00, 10057.37it/s]"
     ]
    },
    {
     "name": "stdout",
     "output_type": "stream",
     "text": [
      "finished processing gene TAF2...\n",
      "start processing gene SPT6...\n"
     ]
    },
    {
     "name": "stderr",
     "output_type": "stream",
     "text": [
      "58289it [00:16, 3583.57it/s] \n",
      "1007it [00:00, 10069.27it/s]"
     ]
    },
    {
     "name": "stdout",
     "output_type": "stream",
     "text": [
      "finished processing gene SPT6...\n",
      "start processing gene FEX2...\n"
     ]
    },
    {
     "name": "stderr",
     "output_type": "stream",
     "text": [
      "58289it [00:15, 3766.19it/s] \n",
      "894it [00:00, 8929.83it/s]"
     ]
    },
    {
     "name": "stdout",
     "output_type": "stream",
     "text": [
      "finished processing gene FEX2...\n",
      "start processing gene zz-YOL029C...\n"
     ]
    },
    {
     "name": "stderr",
     "output_type": "stream",
     "text": [
      "58289it [00:17, 3400.96it/s] \n",
      "1017it [00:00, 10162.67it/s]"
     ]
    },
    {
     "name": "stdout",
     "output_type": "stream",
     "text": [
      "finished processing gene zz-YOL029C...\n",
      "start processing gene FPR4...\n"
     ]
    },
    {
     "name": "stderr",
     "output_type": "stream",
     "text": [
      "58289it [00:22, 2615.52it/s] \n",
      "1021it [00:00, 10192.08it/s]"
     ]
    },
    {
     "name": "stdout",
     "output_type": "stream",
     "text": [
      "finished processing gene FPR4...\n",
      "start processing gene SIR1...\n"
     ]
    },
    {
     "name": "stderr",
     "output_type": "stream",
     "text": [
      "58289it [00:12, 4826.24it/s] \n",
      "1021it [00:00, 10205.02it/s]"
     ]
    },
    {
     "name": "stdout",
     "output_type": "stream",
     "text": [
      "finished processing gene SIR1...\n",
      "start processing gene BNA5...\n"
     ]
    },
    {
     "name": "stderr",
     "output_type": "stream",
     "text": [
      "58289it [00:22, 2621.34it/s] \n",
      "1021it [00:00, 10185.68it/s]"
     ]
    },
    {
     "name": "stdout",
     "output_type": "stream",
     "text": [
      "finished processing gene BNA5...\n",
      "start processing gene NPR3...\n"
     ]
    },
    {
     "name": "stderr",
     "output_type": "stream",
     "text": [
      "58289it [00:12, 4841.93it/s] \n",
      "1014it [00:00, 10133.41it/s]"
     ]
    },
    {
     "name": "stdout",
     "output_type": "stream",
     "text": [
      "finished processing gene NPR3...\n",
      "start processing gene MSH6...\n"
     ]
    },
    {
     "name": "stderr",
     "output_type": "stream",
     "text": [
      "58289it [00:20, 2776.56it/s] \n",
      "1021it [00:00, 10189.17it/s]"
     ]
    },
    {
     "name": "stdout",
     "output_type": "stream",
     "text": [
      "finished processing gene MSH6...\n",
      "start processing gene RTF1...\n"
     ]
    },
    {
     "name": "stderr",
     "output_type": "stream",
     "text": [
      "58289it [00:16, 3600.60it/s] \n",
      "1012it [00:00, 10117.09it/s]"
     ]
    },
    {
     "name": "stdout",
     "output_type": "stream",
     "text": [
      "finished processing gene RTF1...\n",
      "start processing gene VPS60...\n"
     ]
    },
    {
     "name": "stderr",
     "output_type": "stream",
     "text": [
      "58289it [00:21, 2768.66it/s] \n",
      "1021it [00:00, 10179.96it/s]"
     ]
    },
    {
     "name": "stdout",
     "output_type": "stream",
     "text": [
      "finished processing gene VPS60...\n",
      "start processing gene YJU2...\n"
     ]
    },
    {
     "name": "stderr",
     "output_type": "stream",
     "text": [
      "58289it [00:12, 4820.80it/s] \n",
      "1016it [00:00, 10157.83it/s]"
     ]
    },
    {
     "name": "stdout",
     "output_type": "stream",
     "text": [
      "finished processing gene YJU2...\n",
      "start processing gene MPA43...\n"
     ]
    },
    {
     "name": "stderr",
     "output_type": "stream",
     "text": [
      "58289it [00:13, 4191.16it/s] \n",
      "1012it [00:00, 10109.19it/s]"
     ]
    },
    {
     "name": "stdout",
     "output_type": "stream",
     "text": [
      "finished processing gene MPA43...\n",
      "start processing gene HOM6...\n"
     ]
    },
    {
     "name": "stderr",
     "output_type": "stream",
     "text": [
      "58289it [00:14, 4045.48it/s] \n",
      "1021it [00:00, 10180.81it/s]"
     ]
    },
    {
     "name": "stdout",
     "output_type": "stream",
     "text": [
      "finished processing gene HOM6...\n",
      "start processing gene ERV41...\n"
     ]
    },
    {
     "name": "stderr",
     "output_type": "stream",
     "text": [
      "58289it [00:13, 4176.58it/s] \n",
      "1017it [00:00, 10162.38it/s]"
     ]
    },
    {
     "name": "stdout",
     "output_type": "stream",
     "text": [
      "finished processing gene ERV41...\n",
      "start processing gene PUF6...\n"
     ]
    },
    {
     "name": "stderr",
     "output_type": "stream",
     "text": [
      "58289it [00:21, 2772.44it/s] \n",
      "1016it [00:00, 10149.07it/s]"
     ]
    },
    {
     "name": "stdout",
     "output_type": "stream",
     "text": [
      "finished processing gene PUF6...\n",
      "start processing gene CDC9...\n"
     ]
    },
    {
     "name": "stderr",
     "output_type": "stream",
     "text": [
      "58289it [00:21, 2745.55it/s] \n",
      "1014it [00:00, 10133.99it/s]"
     ]
    },
    {
     "name": "stdout",
     "output_type": "stream",
     "text": [
      "finished processing gene CDC9...\n",
      "start processing gene YKT6...\n"
     ]
    },
    {
     "name": "stderr",
     "output_type": "stream",
     "text": [
      "58289it [00:12, 4768.38it/s] \n",
      "978it [00:00, 9779.50it/s]"
     ]
    },
    {
     "name": "stdout",
     "output_type": "stream",
     "text": [
      "finished processing gene YKT6...\n",
      "start processing gene YPF1...\n"
     ]
    },
    {
     "name": "stderr",
     "output_type": "stream",
     "text": [
      "58289it [00:12, 4787.42it/s] \n",
      "914it [00:00, 9136.07it/s]"
     ]
    },
    {
     "name": "stdout",
     "output_type": "stream",
     "text": [
      "finished processing gene YPF1...\n",
      "start processing gene SPR28...\n"
     ]
    },
    {
     "name": "stderr",
     "output_type": "stream",
     "text": [
      "58289it [00:21, 2759.04it/s] \n",
      "878it [00:00, 8776.53it/s]"
     ]
    },
    {
     "name": "stdout",
     "output_type": "stream",
     "text": [
      "finished processing gene SPR28...\n",
      "start processing gene REA1...\n"
     ]
    },
    {
     "name": "stderr",
     "output_type": "stream",
     "text": [
      "58289it [00:22, 2611.89it/s] \n",
      "1021it [00:00, 10202.08it/s]"
     ]
    },
    {
     "name": "stdout",
     "output_type": "stream",
     "text": [
      "finished processing gene REA1...\n",
      "start processing gene IMG2...\n"
     ]
    },
    {
     "name": "stderr",
     "output_type": "stream",
     "text": [
      "58289it [00:08, 6652.98it/s] \n",
      "1021it [00:00, 10176.72it/s]"
     ]
    },
    {
     "name": "stdout",
     "output_type": "stream",
     "text": [
      "finished processing gene IMG2...\n",
      "start processing gene FOB1...\n"
     ]
    },
    {
     "name": "stderr",
     "output_type": "stream",
     "text": [
      "58289it [00:21, 2774.04it/s] \n",
      "1013it [00:00, 10115.30it/s]"
     ]
    },
    {
     "name": "stdout",
     "output_type": "stream",
     "text": [
      "finished processing gene FOB1...\n",
      "start processing gene FET5...\n"
     ]
    },
    {
     "name": "stderr",
     "output_type": "stream",
     "text": [
      "58289it [00:08, 6579.71it/s] \n",
      "1007it [00:00, 10055.39it/s]"
     ]
    },
    {
     "name": "stdout",
     "output_type": "stream",
     "text": [
      "finished processing gene FET5...\n",
      "start processing gene RFA2...\n"
     ]
    },
    {
     "name": "stderr",
     "output_type": "stream",
     "text": [
      "58289it [00:14, 4159.22it/s] \n",
      "977it [00:00, 9767.10it/s]"
     ]
    },
    {
     "name": "stdout",
     "output_type": "stream",
     "text": [
      "finished processing gene RFA2...\n",
      "start processing gene IOC3...\n"
     ]
    },
    {
     "name": "stderr",
     "output_type": "stream",
     "text": [
      "58289it [00:08, 6614.32it/s] \n",
      "1016it [00:00, 10154.13it/s]"
     ]
    },
    {
     "name": "stdout",
     "output_type": "stream",
     "text": [
      "finished processing gene IOC3...\n",
      "start processing gene RPS14B...\n"
     ]
    },
    {
     "name": "stderr",
     "output_type": "stream",
     "text": [
      "58289it [00:14, 4055.60it/s] \n",
      "1021it [00:00, 10191.49it/s]"
     ]
    },
    {
     "name": "stdout",
     "output_type": "stream",
     "text": [
      "finished processing gene RPS14B...\n",
      "start processing gene SCH9...\n"
     ]
    },
    {
     "name": "stderr",
     "output_type": "stream",
     "text": [
      "58289it [00:11, 4902.97it/s] \n",
      "945it [00:00, 9447.24it/s]"
     ]
    },
    {
     "name": "stdout",
     "output_type": "stream",
     "text": [
      "finished processing gene SCH9...\n",
      "start processing gene PMT5...\n"
     ]
    },
    {
     "name": "stderr",
     "output_type": "stream",
     "text": [
      "58289it [00:21, 2745.25it/s] \n"
     ]
    },
    {
     "name": "stdout",
     "output_type": "stream",
     "text": [
      "finished processing gene PMT5...\n",
      "number of reads before filtering: 1317\n",
      "filtering reads with more than 0.2 NA...\n",
      "number of reads kept: 966\n",
      "filtering hyper-methylated reads...\n",
      "number of reads kept: 925\n",
      "writing output to file:  ../data/6_rep1_rep2_shared_38_gene_tss_modifications.mtx\n"
     ]
    },
    {
     "ename": "NameError",
     "evalue": "name 'genes' is not defined",
     "output_type": "error",
     "traceback": [
      "\u001b[0;31m---------------------------------------------------------------------------\u001b[0m",
      "\u001b[0;31mNameError\u001b[0m                                 Traceback (most recent call last)",
      "Cell \u001b[0;32mIn[11], line 90\u001b[0m\n\u001b[1;32m     88\u001b[0m outfile2 \u001b[38;5;241m=\u001b[39m outpath \u001b[38;5;241m+\u001b[39m prefix \u001b[38;5;241m+\u001b[39m \u001b[38;5;124m'\u001b[39m\u001b[38;5;124m_rowannot.tsv\u001b[39m\u001b[38;5;124m'\u001b[39m\n\u001b[1;32m     89\u001b[0m outf \u001b[38;5;241m=\u001b[39m \u001b[38;5;28mopen\u001b[39m(outfile2, \u001b[38;5;124m'\u001b[39m\u001b[38;5;124mw\u001b[39m\u001b[38;5;124m'\u001b[39m)\n\u001b[0;32m---> 90\u001b[0m \u001b[38;5;28;01mfor\u001b[39;00m i,j,k \u001b[38;5;129;01min\u001b[39;00m \u001b[38;5;28mzip\u001b[39m(readnames, strands, \u001b[43mgenes\u001b[49m):\n\u001b[1;32m     91\u001b[0m     outf\u001b[38;5;241m.\u001b[39mwrite(\u001b[38;5;124mf\u001b[39m\u001b[38;5;124m'\u001b[39m\u001b[38;5;132;01m{\u001b[39;00mi\u001b[38;5;132;01m}\u001b[39;00m\u001b[38;5;130;01m\\t\u001b[39;00m\u001b[38;5;132;01m{\u001b[39;00mj\u001b[38;5;132;01m}\u001b[39;00m\u001b[38;5;130;01m\\t\u001b[39;00m\u001b[38;5;132;01m{\u001b[39;00mk\u001b[38;5;132;01m}\u001b[39;00m\u001b[38;5;130;01m\\n\u001b[39;00m\u001b[38;5;124m'\u001b[39m)\n\u001b[1;32m     92\u001b[0m outf\u001b[38;5;241m.\u001b[39mclose()\n",
      "\u001b[0;31mNameError\u001b[0m: name 'genes' is not defined"
     ]
    }
   ],
   "source": [
    "# get single reads\n",
    "predfile = '../data/prediction/240912_dorado_20190429_chrom.tsv'\n",
    "strand = ''\n",
    "outpath = dt_outpath\n",
    "na_thred = 0.2\n",
    "max_meth = 200\n",
    "prefix = '6_rep1_rep2_shared_38_gene_tss_modifications'\n",
    "stranded = False\n",
    "mtx, readnames, strands, genenames = [], [], [], []\n",
    "\n",
    "for (genename, strand), pregion in pregions.items():\n",
    "    \n",
    "    print(f'start processing gene {genename}...')\n",
    "    \n",
    "    chrom = pregion.split(':')[0]\n",
    "    locus = pregion.split(':')[1].split('-')\n",
    "    pstart, pend = int(locus[0]), int(locus[1])\n",
    "    with open(predfile, 'r') as infile:\n",
    "        for line in tqdm(infile):\n",
    "            thischrom = line.strip().split('\\t')[1]\n",
    "            if thischrom!= chrom:\n",
    "                continue\n",
    "            thisread = line.strip().split('\\t')[0]\n",
    "            thisstrand = 1 if line.strip().split('\\t')[2] == '+' else -1\n",
    "            if stranded:\n",
    "                if thisstrand != strand:\n",
    "                    continue\n",
    "            start = int(line.strip().split('\\t')[3])\n",
    "            scores = line.strip().split('\\t')[-1]\n",
    "            scores = [float(i) for i in scores.split(',')]\n",
    "            \n",
    "            sortedread = [(start+i,j) for i, j in enumerate(scores)]\n",
    "            if sortedread[0][0] > pend or sortedread[-1][0] < pstart: continue\n",
    "            \n",
    "            pos_scores = {i:-1 for i in range(pstart, pend+1)}\n",
    "            poss = [i[0] for i in sortedread]\n",
    "            \n",
    "            left = bisect_left(poss, pstart)\n",
    "            \n",
    "            for i in range(left, len(sortedread)):\n",
    "                pos, score = sortedread[i]\n",
    "                if pos > pend:\n",
    "                    break\n",
    "                if pos not in pos_scores:\n",
    "                    continue\n",
    "                pos_scores[pos] = score\n",
    "            \n",
    "            thisscores = np.array([v for v in pos_scores.values()])\n",
    "            # flip if the gene is on reverse strand\n",
    "            thisscores = np.flip(thisscores) if strand == '-' else thisscores\n",
    "            \n",
    "            if np.sum(thisscores) != -1*len(thisscores):\n",
    "                mtx.append(thisscores)\n",
    "                readnames.append(thisread)\n",
    "                strands.append(thisstrand)\n",
    "                genenames.append(genename)\n",
    "    print(f'finished processing gene {genename}...')\n",
    "\n",
    "mtx = np.array(mtx, dtype = float)\n",
    "mtx[mtx==-1] = np.nan\n",
    "readnames = np.array(readnames, dtype = str)\n",
    "strands = np.array(strands, dtype = int)\n",
    "genenames = np.array(genenames, dtype = str)\n",
    "\n",
    "print('number of reads before filtering:', len(readnames))\n",
    "print(f'filtering reads with more than {na_thred} NA...')\n",
    "little_na = np.invert(np.isnan(mtx).sum(axis = 1)>(mtx.shape[1]*na_thred))\n",
    "mtx = mtx[little_na,:]\n",
    "readnames = readnames[little_na]\n",
    "strands = strands[little_na]\n",
    "genenames = genenames[little_na]\n",
    "print(f'number of reads kept: {len(readnames)}', )\n",
    "print(f'filtering hyper-methylated reads...')\n",
    "hyper_meth= np.invert(np.nanmean(mtx, axis = 1)>max_meth)\n",
    "mtx = mtx[hyper_meth,:]\n",
    "readnames = readnames[hyper_meth]\n",
    "strands = strands[hyper_meth]\n",
    "genenames = genenames[hyper_meth]\n",
    "print(f'number of reads kept: {len(readnames)}')\n",
    "\n",
    "outfile = outpath + prefix + '.mtx'\n",
    "print('writing output to file: ', outfile)\n",
    "mtxFh = open(outfile, 'w')\n",
    "for line in mtx:\n",
    "    mtxFh.write(','.join(np.array(line, dtype = str)) + '\\n')\n",
    "mtxFh.close()\n",
    "\n",
    "outfile2 = outpath + prefix + '_rowannot.tsv'\n",
    "outf = open(outfile2, 'w')\n",
    "for i,j,k in zip(readnames, strands, genenames):\n",
    "    outf.write(f'{i}\\t{j}\\t{k}\\n')\n",
    "outf.close()"
   ]
  },
  {
   "cell_type": "markdown",
   "id": "194042f0-7723-4c4f-afc1-b7aa48c36b59",
   "metadata": {},
   "source": [
    "## kmeans clustering of reads within each gene"
   ]
  },
  {
   "cell_type": "code",
   "execution_count": 7,
   "id": "b6cb02eb-1f88-4213-baab-32ea4b5c9447",
   "metadata": {},
   "outputs": [],
   "source": [
    "mtx = []\n",
    "with open('../data/6_rep1_rep2_shared_38_gene_tss_modifications.mtx', 'r') as infile:\n",
    "    for line in infile:\n",
    "        mod = [float(i) for i in line.strip().split(',')]\n",
    "        mtx.append(mod)\n",
    "\n",
    "readnames, strands, genenames = [], [], []\n",
    "with open('../data/6_rep1_rep2_shared_38_gene_tss_modifications_rowannot.tsv', 'r') as infile:\n",
    "    for line in infile:\n",
    "        line = line.strip().split('\\t')\n",
    "        readnames.append(str(line[0]))\n",
    "        strands.append(str(line[1]))\n",
    "        genenames.append(str(line[2]))\n",
    "\n",
    "\n",
    "mtx = np.array(mtx, dtype = float)\n",
    "readnames = np.array(readnames, dtype = str)\n",
    "strands = np.array(strands, dtype = int)\n",
    "genenames = np.array(genenames, dtype = str)"
   ]
  },
  {
   "cell_type": "code",
   "execution_count": 8,
   "id": "ac04e6ad-7cdb-4455-8dd9-4c93320c61cf",
   "metadata": {},
   "outputs": [],
   "source": [
    "import pandas as pd\n",
    "from sklearn.cluster import KMeans\n",
    "from scipy.cluster.hierarchy import linkage, fcluster\n",
    "from sklearn.impute import SimpleImputer"
   ]
  },
  {
   "cell_type": "code",
   "execution_count": 14,
   "id": "9c0324a9-1b1c-4cd7-8831-31d9ca6c672c",
   "metadata": {
    "scrolled": true
   },
   "outputs": [
    {
     "name": "stderr",
     "output_type": "stream",
     "text": [
      "/data/tmp/ipykernel_1760020/1171544895.py:14: FutureWarning: The default of observed=False is deprecated and will be changed to True in a future version of pandas. Pass observed=False to retain current behavior or observed=True to adopt the future default and silence this warning.\n",
      "  grouped_by_gene = df.groupby('gene', sort=False)\n",
      "/private/groups/brookslab/gabai/miniconda3/envs/addseq/lib/python3.9/site-packages/sklearn/utils/validation.py:757: FutureWarning: is_sparse is deprecated and will be removed in a future version. Check `isinstance(dtype, pd.SparseDtype)` instead.\n",
      "  if not hasattr(array, \"sparse\") and array.dtypes.apply(is_sparse).any():\n",
      "/private/groups/brookslab/gabai/miniconda3/envs/addseq/lib/python3.9/site-packages/sklearn/utils/validation.py:595: FutureWarning: is_sparse is deprecated and will be removed in a future version. Check `isinstance(dtype, pd.SparseDtype)` instead.\n",
      "  if is_sparse(pd_dtype):\n",
      "/private/groups/brookslab/gabai/miniconda3/envs/addseq/lib/python3.9/site-packages/sklearn/utils/validation.py:604: FutureWarning: is_sparse is deprecated and will be removed in a future version. Check `isinstance(dtype, pd.SparseDtype)` instead.\n",
      "  if is_sparse(pd_dtype) or not is_extension_array_dtype(pd_dtype):\n"
     ]
    },
    {
     "name": "stdout",
     "output_type": "stream",
     "text": [
      "Clustering for PMT5\n",
      "Clustering for SCH9\n"
     ]
    },
    {
     "name": "stderr",
     "output_type": "stream",
     "text": [
      "/private/groups/brookslab/gabai/miniconda3/envs/addseq/lib/python3.9/site-packages/sklearn/utils/validation.py:757: FutureWarning: is_sparse is deprecated and will be removed in a future version. Check `isinstance(dtype, pd.SparseDtype)` instead.\n",
      "  if not hasattr(array, \"sparse\") and array.dtypes.apply(is_sparse).any():\n",
      "/private/groups/brookslab/gabai/miniconda3/envs/addseq/lib/python3.9/site-packages/sklearn/utils/validation.py:595: FutureWarning: is_sparse is deprecated and will be removed in a future version. Check `isinstance(dtype, pd.SparseDtype)` instead.\n",
      "  if is_sparse(pd_dtype):\n",
      "/private/groups/brookslab/gabai/miniconda3/envs/addseq/lib/python3.9/site-packages/sklearn/utils/validation.py:604: FutureWarning: is_sparse is deprecated and will be removed in a future version. Check `isinstance(dtype, pd.SparseDtype)` instead.\n",
      "  if is_sparse(pd_dtype) or not is_extension_array_dtype(pd_dtype):\n"
     ]
    },
    {
     "name": "stdout",
     "output_type": "stream",
     "text": [
      "Clustering for RPS14B\n"
     ]
    },
    {
     "name": "stderr",
     "output_type": "stream",
     "text": [
      "/private/groups/brookslab/gabai/miniconda3/envs/addseq/lib/python3.9/site-packages/sklearn/utils/validation.py:757: FutureWarning: is_sparse is deprecated and will be removed in a future version. Check `isinstance(dtype, pd.SparseDtype)` instead.\n",
      "  if not hasattr(array, \"sparse\") and array.dtypes.apply(is_sparse).any():\n",
      "/private/groups/brookslab/gabai/miniconda3/envs/addseq/lib/python3.9/site-packages/sklearn/utils/validation.py:595: FutureWarning: is_sparse is deprecated and will be removed in a future version. Check `isinstance(dtype, pd.SparseDtype)` instead.\n",
      "  if is_sparse(pd_dtype):\n",
      "/private/groups/brookslab/gabai/miniconda3/envs/addseq/lib/python3.9/site-packages/sklearn/utils/validation.py:604: FutureWarning: is_sparse is deprecated and will be removed in a future version. Check `isinstance(dtype, pd.SparseDtype)` instead.\n",
      "  if is_sparse(pd_dtype) or not is_extension_array_dtype(pd_dtype):\n"
     ]
    },
    {
     "name": "stdout",
     "output_type": "stream",
     "text": [
      "Clustering for IOC3\n"
     ]
    },
    {
     "name": "stderr",
     "output_type": "stream",
     "text": [
      "/private/groups/brookslab/gabai/miniconda3/envs/addseq/lib/python3.9/site-packages/sklearn/utils/validation.py:757: FutureWarning: is_sparse is deprecated and will be removed in a future version. Check `isinstance(dtype, pd.SparseDtype)` instead.\n",
      "  if not hasattr(array, \"sparse\") and array.dtypes.apply(is_sparse).any():\n",
      "/private/groups/brookslab/gabai/miniconda3/envs/addseq/lib/python3.9/site-packages/sklearn/utils/validation.py:595: FutureWarning: is_sparse is deprecated and will be removed in a future version. Check `isinstance(dtype, pd.SparseDtype)` instead.\n",
      "  if is_sparse(pd_dtype):\n",
      "/private/groups/brookslab/gabai/miniconda3/envs/addseq/lib/python3.9/site-packages/sklearn/utils/validation.py:604: FutureWarning: is_sparse is deprecated and will be removed in a future version. Check `isinstance(dtype, pd.SparseDtype)` instead.\n",
      "  if is_sparse(pd_dtype) or not is_extension_array_dtype(pd_dtype):\n"
     ]
    },
    {
     "name": "stdout",
     "output_type": "stream",
     "text": [
      "Clustering for RFA2\n"
     ]
    },
    {
     "name": "stderr",
     "output_type": "stream",
     "text": [
      "/private/groups/brookslab/gabai/miniconda3/envs/addseq/lib/python3.9/site-packages/sklearn/utils/validation.py:757: FutureWarning: is_sparse is deprecated and will be removed in a future version. Check `isinstance(dtype, pd.SparseDtype)` instead.\n",
      "  if not hasattr(array, \"sparse\") and array.dtypes.apply(is_sparse).any():\n",
      "/private/groups/brookslab/gabai/miniconda3/envs/addseq/lib/python3.9/site-packages/sklearn/utils/validation.py:595: FutureWarning: is_sparse is deprecated and will be removed in a future version. Check `isinstance(dtype, pd.SparseDtype)` instead.\n",
      "  if is_sparse(pd_dtype):\n",
      "/private/groups/brookslab/gabai/miniconda3/envs/addseq/lib/python3.9/site-packages/sklearn/utils/validation.py:604: FutureWarning: is_sparse is deprecated and will be removed in a future version. Check `isinstance(dtype, pd.SparseDtype)` instead.\n",
      "  if is_sparse(pd_dtype) or not is_extension_array_dtype(pd_dtype):\n"
     ]
    },
    {
     "name": "stdout",
     "output_type": "stream",
     "text": [
      "Clustering for FET5\n"
     ]
    },
    {
     "name": "stderr",
     "output_type": "stream",
     "text": [
      "/private/groups/brookslab/gabai/miniconda3/envs/addseq/lib/python3.9/site-packages/sklearn/utils/validation.py:757: FutureWarning: is_sparse is deprecated and will be removed in a future version. Check `isinstance(dtype, pd.SparseDtype)` instead.\n",
      "  if not hasattr(array, \"sparse\") and array.dtypes.apply(is_sparse).any():\n",
      "/private/groups/brookslab/gabai/miniconda3/envs/addseq/lib/python3.9/site-packages/sklearn/utils/validation.py:595: FutureWarning: is_sparse is deprecated and will be removed in a future version. Check `isinstance(dtype, pd.SparseDtype)` instead.\n",
      "  if is_sparse(pd_dtype):\n",
      "/private/groups/brookslab/gabai/miniconda3/envs/addseq/lib/python3.9/site-packages/sklearn/utils/validation.py:604: FutureWarning: is_sparse is deprecated and will be removed in a future version. Check `isinstance(dtype, pd.SparseDtype)` instead.\n",
      "  if is_sparse(pd_dtype) or not is_extension_array_dtype(pd_dtype):\n"
     ]
    },
    {
     "name": "stdout",
     "output_type": "stream",
     "text": [
      "Clustering for FOB1\n"
     ]
    },
    {
     "name": "stderr",
     "output_type": "stream",
     "text": [
      "/private/groups/brookslab/gabai/miniconda3/envs/addseq/lib/python3.9/site-packages/sklearn/utils/validation.py:757: FutureWarning: is_sparse is deprecated and will be removed in a future version. Check `isinstance(dtype, pd.SparseDtype)` instead.\n",
      "  if not hasattr(array, \"sparse\") and array.dtypes.apply(is_sparse).any():\n",
      "/private/groups/brookslab/gabai/miniconda3/envs/addseq/lib/python3.9/site-packages/sklearn/utils/validation.py:595: FutureWarning: is_sparse is deprecated and will be removed in a future version. Check `isinstance(dtype, pd.SparseDtype)` instead.\n",
      "  if is_sparse(pd_dtype):\n",
      "/private/groups/brookslab/gabai/miniconda3/envs/addseq/lib/python3.9/site-packages/sklearn/utils/validation.py:604: FutureWarning: is_sparse is deprecated and will be removed in a future version. Check `isinstance(dtype, pd.SparseDtype)` instead.\n",
      "  if is_sparse(pd_dtype) or not is_extension_array_dtype(pd_dtype):\n"
     ]
    },
    {
     "name": "stdout",
     "output_type": "stream",
     "text": [
      "Clustering for IMG2\n"
     ]
    },
    {
     "name": "stderr",
     "output_type": "stream",
     "text": [
      "/private/groups/brookslab/gabai/miniconda3/envs/addseq/lib/python3.9/site-packages/sklearn/utils/validation.py:757: FutureWarning: is_sparse is deprecated and will be removed in a future version. Check `isinstance(dtype, pd.SparseDtype)` instead.\n",
      "  if not hasattr(array, \"sparse\") and array.dtypes.apply(is_sparse).any():\n",
      "/private/groups/brookslab/gabai/miniconda3/envs/addseq/lib/python3.9/site-packages/sklearn/utils/validation.py:595: FutureWarning: is_sparse is deprecated and will be removed in a future version. Check `isinstance(dtype, pd.SparseDtype)` instead.\n",
      "  if is_sparse(pd_dtype):\n",
      "/private/groups/brookslab/gabai/miniconda3/envs/addseq/lib/python3.9/site-packages/sklearn/utils/validation.py:604: FutureWarning: is_sparse is deprecated and will be removed in a future version. Check `isinstance(dtype, pd.SparseDtype)` instead.\n",
      "  if is_sparse(pd_dtype) or not is_extension_array_dtype(pd_dtype):\n"
     ]
    },
    {
     "name": "stdout",
     "output_type": "stream",
     "text": [
      "Clustering for REA1\n"
     ]
    },
    {
     "name": "stderr",
     "output_type": "stream",
     "text": [
      "/private/groups/brookslab/gabai/miniconda3/envs/addseq/lib/python3.9/site-packages/sklearn/utils/validation.py:757: FutureWarning: is_sparse is deprecated and will be removed in a future version. Check `isinstance(dtype, pd.SparseDtype)` instead.\n",
      "  if not hasattr(array, \"sparse\") and array.dtypes.apply(is_sparse).any():\n",
      "/private/groups/brookslab/gabai/miniconda3/envs/addseq/lib/python3.9/site-packages/sklearn/utils/validation.py:595: FutureWarning: is_sparse is deprecated and will be removed in a future version. Check `isinstance(dtype, pd.SparseDtype)` instead.\n",
      "  if is_sparse(pd_dtype):\n",
      "/private/groups/brookslab/gabai/miniconda3/envs/addseq/lib/python3.9/site-packages/sklearn/utils/validation.py:604: FutureWarning: is_sparse is deprecated and will be removed in a future version. Check `isinstance(dtype, pd.SparseDtype)` instead.\n",
      "  if is_sparse(pd_dtype) or not is_extension_array_dtype(pd_dtype):\n"
     ]
    },
    {
     "name": "stdout",
     "output_type": "stream",
     "text": [
      "Clustering for SPR28\n"
     ]
    },
    {
     "name": "stderr",
     "output_type": "stream",
     "text": [
      "/private/groups/brookslab/gabai/miniconda3/envs/addseq/lib/python3.9/site-packages/sklearn/utils/validation.py:757: FutureWarning: is_sparse is deprecated and will be removed in a future version. Check `isinstance(dtype, pd.SparseDtype)` instead.\n",
      "  if not hasattr(array, \"sparse\") and array.dtypes.apply(is_sparse).any():\n",
      "/private/groups/brookslab/gabai/miniconda3/envs/addseq/lib/python3.9/site-packages/sklearn/utils/validation.py:595: FutureWarning: is_sparse is deprecated and will be removed in a future version. Check `isinstance(dtype, pd.SparseDtype)` instead.\n",
      "  if is_sparse(pd_dtype):\n",
      "/private/groups/brookslab/gabai/miniconda3/envs/addseq/lib/python3.9/site-packages/sklearn/utils/validation.py:604: FutureWarning: is_sparse is deprecated and will be removed in a future version. Check `isinstance(dtype, pd.SparseDtype)` instead.\n",
      "  if is_sparse(pd_dtype) or not is_extension_array_dtype(pd_dtype):\n"
     ]
    },
    {
     "name": "stdout",
     "output_type": "stream",
     "text": [
      "Clustering for YPF1\n"
     ]
    },
    {
     "name": "stderr",
     "output_type": "stream",
     "text": [
      "/private/groups/brookslab/gabai/miniconda3/envs/addseq/lib/python3.9/site-packages/sklearn/utils/validation.py:757: FutureWarning: is_sparse is deprecated and will be removed in a future version. Check `isinstance(dtype, pd.SparseDtype)` instead.\n",
      "  if not hasattr(array, \"sparse\") and array.dtypes.apply(is_sparse).any():\n",
      "/private/groups/brookslab/gabai/miniconda3/envs/addseq/lib/python3.9/site-packages/sklearn/utils/validation.py:595: FutureWarning: is_sparse is deprecated and will be removed in a future version. Check `isinstance(dtype, pd.SparseDtype)` instead.\n",
      "  if is_sparse(pd_dtype):\n",
      "/private/groups/brookslab/gabai/miniconda3/envs/addseq/lib/python3.9/site-packages/sklearn/utils/validation.py:604: FutureWarning: is_sparse is deprecated and will be removed in a future version. Check `isinstance(dtype, pd.SparseDtype)` instead.\n",
      "  if is_sparse(pd_dtype) or not is_extension_array_dtype(pd_dtype):\n"
     ]
    },
    {
     "name": "stdout",
     "output_type": "stream",
     "text": [
      "Clustering for YKT6\n"
     ]
    },
    {
     "name": "stderr",
     "output_type": "stream",
     "text": [
      "/private/groups/brookslab/gabai/miniconda3/envs/addseq/lib/python3.9/site-packages/sklearn/utils/validation.py:757: FutureWarning: is_sparse is deprecated and will be removed in a future version. Check `isinstance(dtype, pd.SparseDtype)` instead.\n",
      "  if not hasattr(array, \"sparse\") and array.dtypes.apply(is_sparse).any():\n",
      "/private/groups/brookslab/gabai/miniconda3/envs/addseq/lib/python3.9/site-packages/sklearn/utils/validation.py:595: FutureWarning: is_sparse is deprecated and will be removed in a future version. Check `isinstance(dtype, pd.SparseDtype)` instead.\n",
      "  if is_sparse(pd_dtype):\n",
      "/private/groups/brookslab/gabai/miniconda3/envs/addseq/lib/python3.9/site-packages/sklearn/utils/validation.py:604: FutureWarning: is_sparse is deprecated and will be removed in a future version. Check `isinstance(dtype, pd.SparseDtype)` instead.\n",
      "  if is_sparse(pd_dtype) or not is_extension_array_dtype(pd_dtype):\n"
     ]
    },
    {
     "name": "stdout",
     "output_type": "stream",
     "text": [
      "Clustering for CDC9\n"
     ]
    },
    {
     "name": "stderr",
     "output_type": "stream",
     "text": [
      "/private/groups/brookslab/gabai/miniconda3/envs/addseq/lib/python3.9/site-packages/sklearn/utils/validation.py:757: FutureWarning: is_sparse is deprecated and will be removed in a future version. Check `isinstance(dtype, pd.SparseDtype)` instead.\n",
      "  if not hasattr(array, \"sparse\") and array.dtypes.apply(is_sparse).any():\n",
      "/private/groups/brookslab/gabai/miniconda3/envs/addseq/lib/python3.9/site-packages/sklearn/utils/validation.py:595: FutureWarning: is_sparse is deprecated and will be removed in a future version. Check `isinstance(dtype, pd.SparseDtype)` instead.\n",
      "  if is_sparse(pd_dtype):\n",
      "/private/groups/brookslab/gabai/miniconda3/envs/addseq/lib/python3.9/site-packages/sklearn/utils/validation.py:604: FutureWarning: is_sparse is deprecated and will be removed in a future version. Check `isinstance(dtype, pd.SparseDtype)` instead.\n",
      "  if is_sparse(pd_dtype) or not is_extension_array_dtype(pd_dtype):\n"
     ]
    },
    {
     "name": "stdout",
     "output_type": "stream",
     "text": [
      "Clustering for PUF6\n"
     ]
    },
    {
     "name": "stderr",
     "output_type": "stream",
     "text": [
      "/private/groups/brookslab/gabai/miniconda3/envs/addseq/lib/python3.9/site-packages/sklearn/utils/validation.py:757: FutureWarning: is_sparse is deprecated and will be removed in a future version. Check `isinstance(dtype, pd.SparseDtype)` instead.\n",
      "  if not hasattr(array, \"sparse\") and array.dtypes.apply(is_sparse).any():\n",
      "/private/groups/brookslab/gabai/miniconda3/envs/addseq/lib/python3.9/site-packages/sklearn/utils/validation.py:595: FutureWarning: is_sparse is deprecated and will be removed in a future version. Check `isinstance(dtype, pd.SparseDtype)` instead.\n",
      "  if is_sparse(pd_dtype):\n",
      "/private/groups/brookslab/gabai/miniconda3/envs/addseq/lib/python3.9/site-packages/sklearn/utils/validation.py:604: FutureWarning: is_sparse is deprecated and will be removed in a future version. Check `isinstance(dtype, pd.SparseDtype)` instead.\n",
      "  if is_sparse(pd_dtype) or not is_extension_array_dtype(pd_dtype):\n"
     ]
    },
    {
     "name": "stdout",
     "output_type": "stream",
     "text": [
      "Clustering for ERV41\n"
     ]
    },
    {
     "name": "stderr",
     "output_type": "stream",
     "text": [
      "/private/groups/brookslab/gabai/miniconda3/envs/addseq/lib/python3.9/site-packages/sklearn/utils/validation.py:757: FutureWarning: is_sparse is deprecated and will be removed in a future version. Check `isinstance(dtype, pd.SparseDtype)` instead.\n",
      "  if not hasattr(array, \"sparse\") and array.dtypes.apply(is_sparse).any():\n",
      "/private/groups/brookslab/gabai/miniconda3/envs/addseq/lib/python3.9/site-packages/sklearn/utils/validation.py:595: FutureWarning: is_sparse is deprecated and will be removed in a future version. Check `isinstance(dtype, pd.SparseDtype)` instead.\n",
      "  if is_sparse(pd_dtype):\n",
      "/private/groups/brookslab/gabai/miniconda3/envs/addseq/lib/python3.9/site-packages/sklearn/utils/validation.py:604: FutureWarning: is_sparse is deprecated and will be removed in a future version. Check `isinstance(dtype, pd.SparseDtype)` instead.\n",
      "  if is_sparse(pd_dtype) or not is_extension_array_dtype(pd_dtype):\n"
     ]
    },
    {
     "name": "stdout",
     "output_type": "stream",
     "text": [
      "Clustering for HOM6\n"
     ]
    },
    {
     "name": "stderr",
     "output_type": "stream",
     "text": [
      "/private/groups/brookslab/gabai/miniconda3/envs/addseq/lib/python3.9/site-packages/sklearn/utils/validation.py:757: FutureWarning: is_sparse is deprecated and will be removed in a future version. Check `isinstance(dtype, pd.SparseDtype)` instead.\n",
      "  if not hasattr(array, \"sparse\") and array.dtypes.apply(is_sparse).any():\n",
      "/private/groups/brookslab/gabai/miniconda3/envs/addseq/lib/python3.9/site-packages/sklearn/utils/validation.py:595: FutureWarning: is_sparse is deprecated and will be removed in a future version. Check `isinstance(dtype, pd.SparseDtype)` instead.\n",
      "  if is_sparse(pd_dtype):\n",
      "/private/groups/brookslab/gabai/miniconda3/envs/addseq/lib/python3.9/site-packages/sklearn/utils/validation.py:604: FutureWarning: is_sparse is deprecated and will be removed in a future version. Check `isinstance(dtype, pd.SparseDtype)` instead.\n",
      "  if is_sparse(pd_dtype) or not is_extension_array_dtype(pd_dtype):\n"
     ]
    },
    {
     "name": "stdout",
     "output_type": "stream",
     "text": [
      "Clustering for MPA43\n"
     ]
    },
    {
     "name": "stderr",
     "output_type": "stream",
     "text": [
      "/private/groups/brookslab/gabai/miniconda3/envs/addseq/lib/python3.9/site-packages/sklearn/utils/validation.py:757: FutureWarning: is_sparse is deprecated and will be removed in a future version. Check `isinstance(dtype, pd.SparseDtype)` instead.\n",
      "  if not hasattr(array, \"sparse\") and array.dtypes.apply(is_sparse).any():\n",
      "/private/groups/brookslab/gabai/miniconda3/envs/addseq/lib/python3.9/site-packages/sklearn/utils/validation.py:595: FutureWarning: is_sparse is deprecated and will be removed in a future version. Check `isinstance(dtype, pd.SparseDtype)` instead.\n",
      "  if is_sparse(pd_dtype):\n",
      "/private/groups/brookslab/gabai/miniconda3/envs/addseq/lib/python3.9/site-packages/sklearn/utils/validation.py:604: FutureWarning: is_sparse is deprecated and will be removed in a future version. Check `isinstance(dtype, pd.SparseDtype)` instead.\n",
      "  if is_sparse(pd_dtype) or not is_extension_array_dtype(pd_dtype):\n"
     ]
    },
    {
     "name": "stdout",
     "output_type": "stream",
     "text": [
      "Clustering for YJU2\n"
     ]
    },
    {
     "name": "stderr",
     "output_type": "stream",
     "text": [
      "/private/groups/brookslab/gabai/miniconda3/envs/addseq/lib/python3.9/site-packages/sklearn/utils/validation.py:757: FutureWarning: is_sparse is deprecated and will be removed in a future version. Check `isinstance(dtype, pd.SparseDtype)` instead.\n",
      "  if not hasattr(array, \"sparse\") and array.dtypes.apply(is_sparse).any():\n",
      "/private/groups/brookslab/gabai/miniconda3/envs/addseq/lib/python3.9/site-packages/sklearn/utils/validation.py:595: FutureWarning: is_sparse is deprecated and will be removed in a future version. Check `isinstance(dtype, pd.SparseDtype)` instead.\n",
      "  if is_sparse(pd_dtype):\n",
      "/private/groups/brookslab/gabai/miniconda3/envs/addseq/lib/python3.9/site-packages/sklearn/utils/validation.py:604: FutureWarning: is_sparse is deprecated and will be removed in a future version. Check `isinstance(dtype, pd.SparseDtype)` instead.\n",
      "  if is_sparse(pd_dtype) or not is_extension_array_dtype(pd_dtype):\n"
     ]
    },
    {
     "name": "stdout",
     "output_type": "stream",
     "text": [
      "Clustering for VPS60\n"
     ]
    },
    {
     "name": "stderr",
     "output_type": "stream",
     "text": [
      "/private/groups/brookslab/gabai/miniconda3/envs/addseq/lib/python3.9/site-packages/sklearn/utils/validation.py:757: FutureWarning: is_sparse is deprecated and will be removed in a future version. Check `isinstance(dtype, pd.SparseDtype)` instead.\n",
      "  if not hasattr(array, \"sparse\") and array.dtypes.apply(is_sparse).any():\n",
      "/private/groups/brookslab/gabai/miniconda3/envs/addseq/lib/python3.9/site-packages/sklearn/utils/validation.py:595: FutureWarning: is_sparse is deprecated and will be removed in a future version. Check `isinstance(dtype, pd.SparseDtype)` instead.\n",
      "  if is_sparse(pd_dtype):\n",
      "/private/groups/brookslab/gabai/miniconda3/envs/addseq/lib/python3.9/site-packages/sklearn/utils/validation.py:604: FutureWarning: is_sparse is deprecated and will be removed in a future version. Check `isinstance(dtype, pd.SparseDtype)` instead.\n",
      "  if is_sparse(pd_dtype) or not is_extension_array_dtype(pd_dtype):\n"
     ]
    },
    {
     "name": "stdout",
     "output_type": "stream",
     "text": [
      "Clustering for RTF1\n"
     ]
    },
    {
     "name": "stderr",
     "output_type": "stream",
     "text": [
      "/private/groups/brookslab/gabai/miniconda3/envs/addseq/lib/python3.9/site-packages/sklearn/utils/validation.py:757: FutureWarning: is_sparse is deprecated and will be removed in a future version. Check `isinstance(dtype, pd.SparseDtype)` instead.\n",
      "  if not hasattr(array, \"sparse\") and array.dtypes.apply(is_sparse).any():\n",
      "/private/groups/brookslab/gabai/miniconda3/envs/addseq/lib/python3.9/site-packages/sklearn/utils/validation.py:595: FutureWarning: is_sparse is deprecated and will be removed in a future version. Check `isinstance(dtype, pd.SparseDtype)` instead.\n",
      "  if is_sparse(pd_dtype):\n",
      "/private/groups/brookslab/gabai/miniconda3/envs/addseq/lib/python3.9/site-packages/sklearn/utils/validation.py:604: FutureWarning: is_sparse is deprecated and will be removed in a future version. Check `isinstance(dtype, pd.SparseDtype)` instead.\n",
      "  if is_sparse(pd_dtype) or not is_extension_array_dtype(pd_dtype):\n"
     ]
    },
    {
     "name": "stdout",
     "output_type": "stream",
     "text": [
      "Clustering for MSH6\n"
     ]
    },
    {
     "name": "stderr",
     "output_type": "stream",
     "text": [
      "/private/groups/brookslab/gabai/miniconda3/envs/addseq/lib/python3.9/site-packages/sklearn/utils/validation.py:757: FutureWarning: is_sparse is deprecated and will be removed in a future version. Check `isinstance(dtype, pd.SparseDtype)` instead.\n",
      "  if not hasattr(array, \"sparse\") and array.dtypes.apply(is_sparse).any():\n",
      "/private/groups/brookslab/gabai/miniconda3/envs/addseq/lib/python3.9/site-packages/sklearn/utils/validation.py:595: FutureWarning: is_sparse is deprecated and will be removed in a future version. Check `isinstance(dtype, pd.SparseDtype)` instead.\n",
      "  if is_sparse(pd_dtype):\n",
      "/private/groups/brookslab/gabai/miniconda3/envs/addseq/lib/python3.9/site-packages/sklearn/utils/validation.py:604: FutureWarning: is_sparse is deprecated and will be removed in a future version. Check `isinstance(dtype, pd.SparseDtype)` instead.\n",
      "  if is_sparse(pd_dtype) or not is_extension_array_dtype(pd_dtype):\n"
     ]
    },
    {
     "name": "stdout",
     "output_type": "stream",
     "text": [
      "Clustering for NPR3\n"
     ]
    },
    {
     "name": "stderr",
     "output_type": "stream",
     "text": [
      "/private/groups/brookslab/gabai/miniconda3/envs/addseq/lib/python3.9/site-packages/sklearn/utils/validation.py:757: FutureWarning: is_sparse is deprecated and will be removed in a future version. Check `isinstance(dtype, pd.SparseDtype)` instead.\n",
      "  if not hasattr(array, \"sparse\") and array.dtypes.apply(is_sparse).any():\n",
      "/private/groups/brookslab/gabai/miniconda3/envs/addseq/lib/python3.9/site-packages/sklearn/utils/validation.py:595: FutureWarning: is_sparse is deprecated and will be removed in a future version. Check `isinstance(dtype, pd.SparseDtype)` instead.\n",
      "  if is_sparse(pd_dtype):\n",
      "/private/groups/brookslab/gabai/miniconda3/envs/addseq/lib/python3.9/site-packages/sklearn/utils/validation.py:604: FutureWarning: is_sparse is deprecated and will be removed in a future version. Check `isinstance(dtype, pd.SparseDtype)` instead.\n",
      "  if is_sparse(pd_dtype) or not is_extension_array_dtype(pd_dtype):\n"
     ]
    },
    {
     "name": "stdout",
     "output_type": "stream",
     "text": [
      "Clustering for BNA5\n"
     ]
    },
    {
     "name": "stderr",
     "output_type": "stream",
     "text": [
      "/private/groups/brookslab/gabai/miniconda3/envs/addseq/lib/python3.9/site-packages/sklearn/utils/validation.py:757: FutureWarning: is_sparse is deprecated and will be removed in a future version. Check `isinstance(dtype, pd.SparseDtype)` instead.\n",
      "  if not hasattr(array, \"sparse\") and array.dtypes.apply(is_sparse).any():\n",
      "/private/groups/brookslab/gabai/miniconda3/envs/addseq/lib/python3.9/site-packages/sklearn/utils/validation.py:595: FutureWarning: is_sparse is deprecated and will be removed in a future version. Check `isinstance(dtype, pd.SparseDtype)` instead.\n",
      "  if is_sparse(pd_dtype):\n",
      "/private/groups/brookslab/gabai/miniconda3/envs/addseq/lib/python3.9/site-packages/sklearn/utils/validation.py:604: FutureWarning: is_sparse is deprecated and will be removed in a future version. Check `isinstance(dtype, pd.SparseDtype)` instead.\n",
      "  if is_sparse(pd_dtype) or not is_extension_array_dtype(pd_dtype):\n"
     ]
    },
    {
     "name": "stdout",
     "output_type": "stream",
     "text": [
      "Clustering for SIR1\n"
     ]
    },
    {
     "name": "stderr",
     "output_type": "stream",
     "text": [
      "/private/groups/brookslab/gabai/miniconda3/envs/addseq/lib/python3.9/site-packages/sklearn/utils/validation.py:757: FutureWarning: is_sparse is deprecated and will be removed in a future version. Check `isinstance(dtype, pd.SparseDtype)` instead.\n",
      "  if not hasattr(array, \"sparse\") and array.dtypes.apply(is_sparse).any():\n",
      "/private/groups/brookslab/gabai/miniconda3/envs/addseq/lib/python3.9/site-packages/sklearn/utils/validation.py:595: FutureWarning: is_sparse is deprecated and will be removed in a future version. Check `isinstance(dtype, pd.SparseDtype)` instead.\n",
      "  if is_sparse(pd_dtype):\n",
      "/private/groups/brookslab/gabai/miniconda3/envs/addseq/lib/python3.9/site-packages/sklearn/utils/validation.py:604: FutureWarning: is_sparse is deprecated and will be removed in a future version. Check `isinstance(dtype, pd.SparseDtype)` instead.\n",
      "  if is_sparse(pd_dtype) or not is_extension_array_dtype(pd_dtype):\n"
     ]
    },
    {
     "name": "stdout",
     "output_type": "stream",
     "text": [
      "Clustering for FPR4\n"
     ]
    },
    {
     "name": "stderr",
     "output_type": "stream",
     "text": [
      "/private/groups/brookslab/gabai/miniconda3/envs/addseq/lib/python3.9/site-packages/sklearn/utils/validation.py:757: FutureWarning: is_sparse is deprecated and will be removed in a future version. Check `isinstance(dtype, pd.SparseDtype)` instead.\n",
      "  if not hasattr(array, \"sparse\") and array.dtypes.apply(is_sparse).any():\n",
      "/private/groups/brookslab/gabai/miniconda3/envs/addseq/lib/python3.9/site-packages/sklearn/utils/validation.py:595: FutureWarning: is_sparse is deprecated and will be removed in a future version. Check `isinstance(dtype, pd.SparseDtype)` instead.\n",
      "  if is_sparse(pd_dtype):\n",
      "/private/groups/brookslab/gabai/miniconda3/envs/addseq/lib/python3.9/site-packages/sklearn/utils/validation.py:604: FutureWarning: is_sparse is deprecated and will be removed in a future version. Check `isinstance(dtype, pd.SparseDtype)` instead.\n",
      "  if is_sparse(pd_dtype) or not is_extension_array_dtype(pd_dtype):\n"
     ]
    },
    {
     "name": "stdout",
     "output_type": "stream",
     "text": [
      "Clustering for zz-YOL029C\n"
     ]
    },
    {
     "name": "stderr",
     "output_type": "stream",
     "text": [
      "/private/groups/brookslab/gabai/miniconda3/envs/addseq/lib/python3.9/site-packages/sklearn/utils/validation.py:757: FutureWarning: is_sparse is deprecated and will be removed in a future version. Check `isinstance(dtype, pd.SparseDtype)` instead.\n",
      "  if not hasattr(array, \"sparse\") and array.dtypes.apply(is_sparse).any():\n",
      "/private/groups/brookslab/gabai/miniconda3/envs/addseq/lib/python3.9/site-packages/sklearn/utils/validation.py:595: FutureWarning: is_sparse is deprecated and will be removed in a future version. Check `isinstance(dtype, pd.SparseDtype)` instead.\n",
      "  if is_sparse(pd_dtype):\n",
      "/private/groups/brookslab/gabai/miniconda3/envs/addseq/lib/python3.9/site-packages/sklearn/utils/validation.py:604: FutureWarning: is_sparse is deprecated and will be removed in a future version. Check `isinstance(dtype, pd.SparseDtype)` instead.\n",
      "  if is_sparse(pd_dtype) or not is_extension_array_dtype(pd_dtype):\n"
     ]
    },
    {
     "name": "stdout",
     "output_type": "stream",
     "text": [
      "Clustering for FEX2\n"
     ]
    },
    {
     "name": "stderr",
     "output_type": "stream",
     "text": [
      "/private/groups/brookslab/gabai/miniconda3/envs/addseq/lib/python3.9/site-packages/sklearn/utils/validation.py:757: FutureWarning: is_sparse is deprecated and will be removed in a future version. Check `isinstance(dtype, pd.SparseDtype)` instead.\n",
      "  if not hasattr(array, \"sparse\") and array.dtypes.apply(is_sparse).any():\n",
      "/private/groups/brookslab/gabai/miniconda3/envs/addseq/lib/python3.9/site-packages/sklearn/utils/validation.py:595: FutureWarning: is_sparse is deprecated and will be removed in a future version. Check `isinstance(dtype, pd.SparseDtype)` instead.\n",
      "  if is_sparse(pd_dtype):\n",
      "/private/groups/brookslab/gabai/miniconda3/envs/addseq/lib/python3.9/site-packages/sklearn/utils/validation.py:604: FutureWarning: is_sparse is deprecated and will be removed in a future version. Check `isinstance(dtype, pd.SparseDtype)` instead.\n",
      "  if is_sparse(pd_dtype) or not is_extension_array_dtype(pd_dtype):\n"
     ]
    },
    {
     "name": "stdout",
     "output_type": "stream",
     "text": [
      "Clustering for SPT6\n"
     ]
    },
    {
     "name": "stderr",
     "output_type": "stream",
     "text": [
      "/private/groups/brookslab/gabai/miniconda3/envs/addseq/lib/python3.9/site-packages/sklearn/utils/validation.py:757: FutureWarning: is_sparse is deprecated and will be removed in a future version. Check `isinstance(dtype, pd.SparseDtype)` instead.\n",
      "  if not hasattr(array, \"sparse\") and array.dtypes.apply(is_sparse).any():\n",
      "/private/groups/brookslab/gabai/miniconda3/envs/addseq/lib/python3.9/site-packages/sklearn/utils/validation.py:595: FutureWarning: is_sparse is deprecated and will be removed in a future version. Check `isinstance(dtype, pd.SparseDtype)` instead.\n",
      "  if is_sparse(pd_dtype):\n",
      "/private/groups/brookslab/gabai/miniconda3/envs/addseq/lib/python3.9/site-packages/sklearn/utils/validation.py:604: FutureWarning: is_sparse is deprecated and will be removed in a future version. Check `isinstance(dtype, pd.SparseDtype)` instead.\n",
      "  if is_sparse(pd_dtype) or not is_extension_array_dtype(pd_dtype):\n"
     ]
    },
    {
     "name": "stdout",
     "output_type": "stream",
     "text": [
      "Clustering for TAF2\n"
     ]
    },
    {
     "name": "stderr",
     "output_type": "stream",
     "text": [
      "/private/groups/brookslab/gabai/miniconda3/envs/addseq/lib/python3.9/site-packages/sklearn/utils/validation.py:757: FutureWarning: is_sparse is deprecated and will be removed in a future version. Check `isinstance(dtype, pd.SparseDtype)` instead.\n",
      "  if not hasattr(array, \"sparse\") and array.dtypes.apply(is_sparse).any():\n",
      "/private/groups/brookslab/gabai/miniconda3/envs/addseq/lib/python3.9/site-packages/sklearn/utils/validation.py:595: FutureWarning: is_sparse is deprecated and will be removed in a future version. Check `isinstance(dtype, pd.SparseDtype)` instead.\n",
      "  if is_sparse(pd_dtype):\n",
      "/private/groups/brookslab/gabai/miniconda3/envs/addseq/lib/python3.9/site-packages/sklearn/utils/validation.py:604: FutureWarning: is_sparse is deprecated and will be removed in a future version. Check `isinstance(dtype, pd.SparseDtype)` instead.\n",
      "  if is_sparse(pd_dtype) or not is_extension_array_dtype(pd_dtype):\n"
     ]
    },
    {
     "name": "stdout",
     "output_type": "stream",
     "text": [
      "Clustering for SEC2\n"
     ]
    },
    {
     "name": "stderr",
     "output_type": "stream",
     "text": [
      "/private/groups/brookslab/gabai/miniconda3/envs/addseq/lib/python3.9/site-packages/sklearn/utils/validation.py:757: FutureWarning: is_sparse is deprecated and will be removed in a future version. Check `isinstance(dtype, pd.SparseDtype)` instead.\n",
      "  if not hasattr(array, \"sparse\") and array.dtypes.apply(is_sparse).any():\n",
      "/private/groups/brookslab/gabai/miniconda3/envs/addseq/lib/python3.9/site-packages/sklearn/utils/validation.py:595: FutureWarning: is_sparse is deprecated and will be removed in a future version. Check `isinstance(dtype, pd.SparseDtype)` instead.\n",
      "  if is_sparse(pd_dtype):\n",
      "/private/groups/brookslab/gabai/miniconda3/envs/addseq/lib/python3.9/site-packages/sklearn/utils/validation.py:604: FutureWarning: is_sparse is deprecated and will be removed in a future version. Check `isinstance(dtype, pd.SparseDtype)` instead.\n",
      "  if is_sparse(pd_dtype) or not is_extension_array_dtype(pd_dtype):\n"
     ]
    },
    {
     "name": "stdout",
     "output_type": "stream",
     "text": [
      "Clustering for VPS75\n"
     ]
    },
    {
     "name": "stderr",
     "output_type": "stream",
     "text": [
      "/private/groups/brookslab/gabai/miniconda3/envs/addseq/lib/python3.9/site-packages/sklearn/utils/validation.py:757: FutureWarning: is_sparse is deprecated and will be removed in a future version. Check `isinstance(dtype, pd.SparseDtype)` instead.\n",
      "  if not hasattr(array, \"sparse\") and array.dtypes.apply(is_sparse).any():\n",
      "/private/groups/brookslab/gabai/miniconda3/envs/addseq/lib/python3.9/site-packages/sklearn/utils/validation.py:595: FutureWarning: is_sparse is deprecated and will be removed in a future version. Check `isinstance(dtype, pd.SparseDtype)` instead.\n",
      "  if is_sparse(pd_dtype):\n",
      "/private/groups/brookslab/gabai/miniconda3/envs/addseq/lib/python3.9/site-packages/sklearn/utils/validation.py:604: FutureWarning: is_sparse is deprecated and will be removed in a future version. Check `isinstance(dtype, pd.SparseDtype)` instead.\n",
      "  if is_sparse(pd_dtype) or not is_extension_array_dtype(pd_dtype):\n"
     ]
    },
    {
     "name": "stdout",
     "output_type": "stream",
     "text": [
      "Clustering for ATG8\n"
     ]
    },
    {
     "name": "stderr",
     "output_type": "stream",
     "text": [
      "/private/groups/brookslab/gabai/miniconda3/envs/addseq/lib/python3.9/site-packages/sklearn/utils/validation.py:757: FutureWarning: is_sparse is deprecated and will be removed in a future version. Check `isinstance(dtype, pd.SparseDtype)` instead.\n",
      "  if not hasattr(array, \"sparse\") and array.dtypes.apply(is_sparse).any():\n",
      "/private/groups/brookslab/gabai/miniconda3/envs/addseq/lib/python3.9/site-packages/sklearn/utils/validation.py:595: FutureWarning: is_sparse is deprecated and will be removed in a future version. Check `isinstance(dtype, pd.SparseDtype)` instead.\n",
      "  if is_sparse(pd_dtype):\n",
      "/private/groups/brookslab/gabai/miniconda3/envs/addseq/lib/python3.9/site-packages/sklearn/utils/validation.py:604: FutureWarning: is_sparse is deprecated and will be removed in a future version. Check `isinstance(dtype, pd.SparseDtype)` instead.\n",
      "  if is_sparse(pd_dtype) or not is_extension_array_dtype(pd_dtype):\n"
     ]
    },
    {
     "name": "stdout",
     "output_type": "stream",
     "text": [
      "Clustering for ALR2\n"
     ]
    },
    {
     "name": "stderr",
     "output_type": "stream",
     "text": [
      "/private/groups/brookslab/gabai/miniconda3/envs/addseq/lib/python3.9/site-packages/sklearn/utils/validation.py:757: FutureWarning: is_sparse is deprecated and will be removed in a future version. Check `isinstance(dtype, pd.SparseDtype)` instead.\n",
      "  if not hasattr(array, \"sparse\") and array.dtypes.apply(is_sparse).any():\n",
      "/private/groups/brookslab/gabai/miniconda3/envs/addseq/lib/python3.9/site-packages/sklearn/utils/validation.py:595: FutureWarning: is_sparse is deprecated and will be removed in a future version. Check `isinstance(dtype, pd.SparseDtype)` instead.\n",
      "  if is_sparse(pd_dtype):\n",
      "/private/groups/brookslab/gabai/miniconda3/envs/addseq/lib/python3.9/site-packages/sklearn/utils/validation.py:604: FutureWarning: is_sparse is deprecated and will be removed in a future version. Check `isinstance(dtype, pd.SparseDtype)` instead.\n",
      "  if is_sparse(pd_dtype) or not is_extension_array_dtype(pd_dtype):\n"
     ]
    },
    {
     "name": "stdout",
     "output_type": "stream",
     "text": [
      "Clustering for TOR2\n"
     ]
    },
    {
     "name": "stderr",
     "output_type": "stream",
     "text": [
      "/private/groups/brookslab/gabai/miniconda3/envs/addseq/lib/python3.9/site-packages/sklearn/utils/validation.py:757: FutureWarning: is_sparse is deprecated and will be removed in a future version. Check `isinstance(dtype, pd.SparseDtype)` instead.\n",
      "  if not hasattr(array, \"sparse\") and array.dtypes.apply(is_sparse).any():\n",
      "/private/groups/brookslab/gabai/miniconda3/envs/addseq/lib/python3.9/site-packages/sklearn/utils/validation.py:595: FutureWarning: is_sparse is deprecated and will be removed in a future version. Check `isinstance(dtype, pd.SparseDtype)` instead.\n",
      "  if is_sparse(pd_dtype):\n",
      "/private/groups/brookslab/gabai/miniconda3/envs/addseq/lib/python3.9/site-packages/sklearn/utils/validation.py:604: FutureWarning: is_sparse is deprecated and will be removed in a future version. Check `isinstance(dtype, pd.SparseDtype)` instead.\n",
      "  if is_sparse(pd_dtype) or not is_extension_array_dtype(pd_dtype):\n"
     ]
    },
    {
     "name": "stdout",
     "output_type": "stream",
     "text": [
      "Clustering for FMP32\n"
     ]
    },
    {
     "name": "stderr",
     "output_type": "stream",
     "text": [
      "/private/groups/brookslab/gabai/miniconda3/envs/addseq/lib/python3.9/site-packages/sklearn/utils/validation.py:757: FutureWarning: is_sparse is deprecated and will be removed in a future version. Check `isinstance(dtype, pd.SparseDtype)` instead.\n",
      "  if not hasattr(array, \"sparse\") and array.dtypes.apply(is_sparse).any():\n",
      "/private/groups/brookslab/gabai/miniconda3/envs/addseq/lib/python3.9/site-packages/sklearn/utils/validation.py:595: FutureWarning: is_sparse is deprecated and will be removed in a future version. Check `isinstance(dtype, pd.SparseDtype)` instead.\n",
      "  if is_sparse(pd_dtype):\n",
      "/private/groups/brookslab/gabai/miniconda3/envs/addseq/lib/python3.9/site-packages/sklearn/utils/validation.py:604: FutureWarning: is_sparse is deprecated and will be removed in a future version. Check `isinstance(dtype, pd.SparseDtype)` instead.\n",
      "  if is_sparse(pd_dtype) or not is_extension_array_dtype(pd_dtype):\n"
     ]
    },
    {
     "name": "stdout",
     "output_type": "stream",
     "text": [
      "Clustering for GLE1\n"
     ]
    },
    {
     "name": "stderr",
     "output_type": "stream",
     "text": [
      "/private/groups/brookslab/gabai/miniconda3/envs/addseq/lib/python3.9/site-packages/sklearn/utils/validation.py:757: FutureWarning: is_sparse is deprecated and will be removed in a future version. Check `isinstance(dtype, pd.SparseDtype)` instead.\n",
      "  if not hasattr(array, \"sparse\") and array.dtypes.apply(is_sparse).any():\n",
      "/private/groups/brookslab/gabai/miniconda3/envs/addseq/lib/python3.9/site-packages/sklearn/utils/validation.py:595: FutureWarning: is_sparse is deprecated and will be removed in a future version. Check `isinstance(dtype, pd.SparseDtype)` instead.\n",
      "  if is_sparse(pd_dtype):\n",
      "/private/groups/brookslab/gabai/miniconda3/envs/addseq/lib/python3.9/site-packages/sklearn/utils/validation.py:604: FutureWarning: is_sparse is deprecated and will be removed in a future version. Check `isinstance(dtype, pd.SparseDtype)` instead.\n",
      "  if is_sparse(pd_dtype) or not is_extension_array_dtype(pd_dtype):\n"
     ]
    },
    {
     "name": "stdout",
     "output_type": "stream",
     "text": [
      "Clustering for SMC4\n"
     ]
    },
    {
     "name": "stderr",
     "output_type": "stream",
     "text": [
      "/private/groups/brookslab/gabai/miniconda3/envs/addseq/lib/python3.9/site-packages/sklearn/utils/validation.py:757: FutureWarning: is_sparse is deprecated and will be removed in a future version. Check `isinstance(dtype, pd.SparseDtype)` instead.\n",
      "  if not hasattr(array, \"sparse\") and array.dtypes.apply(is_sparse).any():\n",
      "/private/groups/brookslab/gabai/miniconda3/envs/addseq/lib/python3.9/site-packages/sklearn/utils/validation.py:595: FutureWarning: is_sparse is deprecated and will be removed in a future version. Check `isinstance(dtype, pd.SparseDtype)` instead.\n",
      "  if is_sparse(pd_dtype):\n",
      "/private/groups/brookslab/gabai/miniconda3/envs/addseq/lib/python3.9/site-packages/sklearn/utils/validation.py:604: FutureWarning: is_sparse is deprecated and will be removed in a future version. Check `isinstance(dtype, pd.SparseDtype)` instead.\n",
      "  if is_sparse(pd_dtype) or not is_extension_array_dtype(pd_dtype):\n"
     ]
    },
    {
     "name": "stdout",
     "output_type": "stream",
     "text": [
      "Clustering for zz-YIL161W\n"
     ]
    },
    {
     "name": "stderr",
     "output_type": "stream",
     "text": [
      "/private/groups/brookslab/gabai/miniconda3/envs/addseq/lib/python3.9/site-packages/sklearn/utils/validation.py:757: FutureWarning: is_sparse is deprecated and will be removed in a future version. Check `isinstance(dtype, pd.SparseDtype)` instead.\n",
      "  if not hasattr(array, \"sparse\") and array.dtypes.apply(is_sparse).any():\n",
      "/private/groups/brookslab/gabai/miniconda3/envs/addseq/lib/python3.9/site-packages/sklearn/utils/validation.py:595: FutureWarning: is_sparse is deprecated and will be removed in a future version. Check `isinstance(dtype, pd.SparseDtype)` instead.\n",
      "  if is_sparse(pd_dtype):\n",
      "/private/groups/brookslab/gabai/miniconda3/envs/addseq/lib/python3.9/site-packages/sklearn/utils/validation.py:604: FutureWarning: is_sparse is deprecated and will be removed in a future version. Check `isinstance(dtype, pd.SparseDtype)` instead.\n",
      "  if is_sparse(pd_dtype) or not is_extension_array_dtype(pd_dtype):\n"
     ]
    },
    {
     "name": "stdout",
     "output_type": "stream",
     "text": [
      "clustered matrix shape: (925, 1201)\n"
     ]
    }
   ],
   "source": [
    "if np.isnan(mtx).sum() != 0:\n",
    "    imp = SimpleImputer(missing_values=np.nan, strategy='most_frequent')\n",
    "    new_mtx = imp.fit_transform(mtx)\n",
    "else:\n",
    "    new_mtx = mtx\n",
    "\n",
    "df = pd.DataFrame(new_mtx)\n",
    "df['gene'] = genenames  # Add the gene annotation to the matrix as a new column\n",
    "\n",
    "# Group the matrix by gene\n",
    "df['gene'] = pd.Categorical(df['gene'], categories=[i[0] for i in pregions][::-1], ordered=True)\n",
    "df = df.sort_values('gene')\n",
    "\n",
    "grouped_by_gene = df.groupby('gene', sort=False)\n",
    "\n",
    "# Function for KMeans clustering for each gene\n",
    "def kmeans_clustering_for_gene(gene_group, n_clusters=3):\n",
    "    # Exclude the 'gene' column for clustering\n",
    "    gene_reads = gene_group.drop(columns=['gene'])\n",
    "    \n",
    "    # Perform KMeans clustering\n",
    "    kmeans = KMeans(n_clusters=n_clusters, random_state=42)\n",
    "    clusters = kmeans.fit_predict(gene_reads)\n",
    "    \n",
    "    # Add the cluster labels as a new column\n",
    "    gene_group['cluster'] = clusters\n",
    "    \n",
    "    # Sort the rows by cluster labels\n",
    "    sorted_gene_group = gene_group.sort_values(by='cluster')\n",
    "    \n",
    "    return sorted_gene_group.drop(columns=['cluster'])  # Drop the cluster column after sorting\n",
    "\n",
    "# Function for hierarchical clustering for each gene\n",
    "def hierarchical_clustering_for_gene(gene_group, method='ward', n_clusters=3):\n",
    "    # Exclude the 'gene' column for clustering\n",
    "    gene_reads = gene_group.drop(columns=['gene'])\n",
    "    \n",
    "    # Perform hierarchical clustering\n",
    "    linkage_matrix = linkage(gene_reads, method=method)\n",
    "    \n",
    "    # Get the flat clusters based on n_clusters\n",
    "    clusters = fcluster(linkage_matrix, t=n_clusters, criterion='maxclust')\n",
    "    \n",
    "    # Add the cluster labels as a new column\n",
    "    gene_group['cluster'] = clusters\n",
    "    \n",
    "    # Sort the rows by cluster labels\n",
    "    sorted_gene_group = gene_group.sort_values(by='cluster')\n",
    "    \n",
    "    return sorted_gene_group.drop(columns=['cluster'])  # Drop the cluster column after sorting\n",
    "\n",
    "# 1. Apply clustering on each gene group and collect sorted groups\n",
    "sorted_groups, clustered_genes = [], []\n",
    "\n",
    "for gene_name, gene_group in grouped_by_gene:\n",
    "    print(f\"Clustering for {gene_name}\")\n",
    "    \n",
    "    # Choose KMeans or Hierarchical clustering\n",
    "    sorted_gene_group = kmeans_clustering_for_gene(gene_group, n_clusters=3)\n",
    "    # Alternatively, use hierarchical clustering:\n",
    "    # sorted_gene_group = hierarchical_clustering_for_gene(gene_group, n_clusters=3)\n",
    "\n",
    "    # Append the sorted group to the list\n",
    "    sorted_groups.append(sorted_gene_group.drop(columns=['gene']))  # Remove 'gene' column\n",
    "\n",
    "    clustered_genes.extend([gene_name] * len(sorted_gene_group))\n",
    "# 2. Concatenate all sorted groups back into one matrix\n",
    "clustered_mtx = pd.concat(sorted_groups, axis=0).values  # Convert to numpy array\n",
    "\n",
    "# The final output matrix\n",
    "print(\"clustered matrix shape:\", clustered_mtx.shape)"
   ]
  },
  {
   "cell_type": "code",
   "execution_count": 218,
   "id": "349547ba-6a3d-470a-b848-62a3d1fff87f",
   "metadata": {},
   "outputs": [
    {
     "name": "stderr",
     "output_type": "stream",
     "text": [
      "100%|██████████████████████████████████████████████████████████████████████████████████████████████████████████████████████████████████████| 925/925 [20:40<00:00,  1.34s/it]\n"
     ]
    },
    {
     "data": {
      "image/png": "[encoded data removed]",
      "text/plain": [
       "<Figure size 500x800 with 1 Axes>"
      ]
     },
     "metadata": {},
     "output_type": "display_data"
    }
   ],
   "source": [
    "plt.figure(figsize=(5, 8))\n",
    "pstart, pend = (-600, 600)\n",
    "xticks_space = 150\n",
    "ax = plt.axes((0.1, 0.1, 0.9, 0.9))\n",
    "ax.spines['top'].set_visible(True)\n",
    "ax.spines['right'].set_visible(False)\n",
    "ax.spines['left'].set_visible(False)\n",
    "ax.spines['bottom'].set_visible(True)\n",
    "ax.set_xticks(ticks= np.arange(pstart, pend+1, xticks_space))\n",
    "ax.set_xticklabels(ax.get_xticks(), rotation = 50)\n",
    "ax.set_xlim(pstart, pend)\n",
    "ax.yaxis.tick_right()\n",
    "ax.yaxis.set_label_position(\"right\")\n",
    "height = (1, 1)\n",
    "bottom=0\n",
    "tick_yaxis, label_yaxis = [],[]\n",
    "total, count = np.zeros(clustered_mtx.shape[1], dtype = int), np.zeros(clustered_mtx.shape[1], dtype = int)\n",
    "(R,G,B) = colorMap(palette = 'viridis', log_scale=False)\n",
    "thisgene = ''\n",
    "\n",
    "for i in tqdm(range(clustered_mtx.shape[0])):\n",
    "    left = -600\n",
    "    if thisgene != clustered_genes[i]:\n",
    "        tick_yaxis.append(bottom)\n",
    "        label_yaxis.append(clustered_genes[i])\n",
    "        thisgene = clustered_genes[i]\n",
    "    for j in range(clustered_mtx.shape[1]):\n",
    "        score = clustered_mtx[i, j]\n",
    "        if not np.isnan(score):\n",
    "            count[j] += score\n",
    "            total[j] += 1\n",
    "        # no score at this position\n",
    "        if np.isnan(score):\n",
    "            col = 'lightgray'\n",
    "        else:\n",
    "            color = int((score/256)*100)\n",
    "            col=(R[color],G[color],B[color])\n",
    "        thisalpha = 1\n",
    "        rectangle = mplpatches.Rectangle([left, bottom-(height[0]*0.5)], 1, height[0], \n",
    "                                         facecolor = col, edgecolor = 'silver', linewidth = 0, alpha=thisalpha)\n",
    "        ax.add_patch(rectangle)\n",
    "        left += 1\n",
    "    bottom +=height[0]\n",
    "\n",
    "aggregate = np.divide(np.divide(count, total), 256)\n",
    "if np.max(total) < 1:\n",
    "    aggregate = np.zeros(clustered_mtx.shape[1])\n",
    "ax.bar(np.arange(pstart, pend+1), aggregate, bottom=bottom, width = 1.0, color = 'tab:blue')\n",
    "ax.set_yticks(ticks = tick_yaxis, labels = label_yaxis)\n",
    "ax.set_ylim(0-0.5*height[0], bottom)\n",
    "ax.set_xlabel('distance from +1 nucleosome')\n",
    "plt.savefig(fig_outpath+ f'6_top_well_positioned_genes_clustered_within_gene.pdf', bbox_inches='tight')"
   ]
  },
  {
   "cell_type": "code",
   "execution_count": 15,
   "id": "a8eb76af-ca4b-419c-84d8-895ff6133de8",
   "metadata": {},
   "outputs": [
    {
     "name": "stderr",
     "output_type": "stream",
     "text": [
      "100%|████████████████████████████████████████████████████████████████████████████████████████████████| 925/925 [00:08<00:00, 115.37it/s]\n"
     ]
    },
    {
     "data": {
      "image/png": "[encoded data removed]",
      "text/plain": [
       "<Figure size 500x800 with 1 Axes>"
      ]
     },
     "metadata": {},
     "output_type": "display_data"
    }
   ],
   "source": [
    "plt.figure(figsize=(5, 8))\n",
    "pstart, pend = (-600, 600)\n",
    "xticks_space = 150\n",
    "ax = plt.axes((0.1, 0.1, 0.9, 0.9))\n",
    "ax.spines['top'].set_visible(True)\n",
    "ax.spines['right'].set_visible(False)\n",
    "ax.spines['left'].set_visible(False)\n",
    "ax.spines['bottom'].set_visible(True)\n",
    "ax.set_xticks(ticks= np.arange(pstart, pend+1, xticks_space))\n",
    "ax.set_xticklabels(ax.get_xticks(), rotation = 50)\n",
    "ax.set_xlim(pstart, pend)\n",
    "ax.yaxis.tick_right()\n",
    "ax.yaxis.set_label_position(\"right\")\n",
    "height = (1, 1)\n",
    "bottom=0\n",
    "tick_yaxis, label_yaxis = [],[]\n",
    "total, count = np.zeros(clustered_mtx.shape[1], dtype = int), np.zeros(clustered_mtx.shape[1], dtype = int)\n",
    "(R,G,B) = colorMap(palette = 'viridis', log_scale=False)\n",
    "thisgene = ''\n",
    "\n",
    "for i in tqdm(range(clustered_mtx.shape[0])):\n",
    "    left = -600\n",
    "    if thisgene != clustered_genes[i]:\n",
    "        tick_yaxis.append(bottom)\n",
    "        label_yaxis.append(clustered_genes[i])\n",
    "        thisgene = clustered_genes[i]\n",
    "    for j in range(clustered_mtx.shape[1]):\n",
    "        score = clustered_mtx[i, j]\n",
    "        if not np.isnan(score):\n",
    "            count[j] += score\n",
    "            total[j] += 1\n",
    "        # no score at this position\n",
    "        if np.isnan(score):\n",
    "            col = 'lightgray'\n",
    "        else:\n",
    "            color = int((score/256)*100)\n",
    "            col=(R[color],G[color],B[color])\n",
    "        thisalpha = 1\n",
    "        # rectangle = mplpatches.Rectangle([left, bottom-(height[0]*0.5)], 1, height[0], \n",
    "                                         # facecolor = col, edgecolor = 'silver', linewidth = 0, alpha=thisalpha)\n",
    "        # ax.add_patch(rectangle)\n",
    "        left += 1\n",
    "    bottom +=height[0]\n",
    "\n",
    "aggregate = np.divide(np.divide(count, total), 256)\n",
    "if np.max(total) < 1:\n",
    "    aggregate = np.zeros(clustered_mtx.shape[1])\n",
    "ax.bar(np.arange(pstart, pend+1), aggregate, bottom=bottom, width = 1.0, color = 'tab:blue')\n",
    "ax.set_yticks(ticks = tick_yaxis, labels = label_yaxis)\n",
    "ax.set_ylim(0-0.5*height[0], bottom)\n",
    "ax.set_xlabel('distance from +1 nucleosome')\n",
    "plt.savefig(fig_outpath+ f'6_top_well_positioned_genes_clustered_within_gene_text_only.pdf', bbox_inches='tight')"
   ]
  },
  {
   "cell_type": "code",
   "execution_count": 38,
   "id": "f24fcc0f-7aa7-4218-8d6f-737901afe949",
   "metadata": {},
   "outputs": [
    {
     "data": {
      "image/png": "[encoded data removed]",
      "text/plain": [
       "<Figure size 500x100 with 1 Axes>"
      ]
     },
     "metadata": {},
     "output_type": "display_data"
    }
   ],
   "source": [
    "from scipy.signal import savgol_filter\n",
    "smoothed_agg = savgol_filter(aggregate, 150, 3, mode=\"nearest\")\n",
    "peak = max(smoothed_agg)\n",
    "smoothed_agg = smoothed_agg/peak\n",
    "plt.figure(figsize=(5, 1))\n",
    "plt.plot(np.arange(pstart, pend+1), smoothed_agg)\n",
    "plt.xticks(ticks= np.arange(pstart, pend+1, xticks_space))\n",
    "plt.yticks(ticks= [0.5, 0.75, 1.0])\n",
    "plt.ylim(0.5, max(smoothed_agg))\n",
    "plt.xlim(-600, 600)\n",
    "plt.savefig(fig_outpath+ f'6_top_aggregated_panel_rep1.pdf', bbox_inches='tight')"
   ]
  },
  {
   "cell_type": "code",
   "execution_count": null,
   "id": "5d74660d-8f83-4d0b-bde7-e682851fc1ed",
   "metadata": {},
   "outputs": [
    {
     "name": "stdout",
     "output_type": "stream",
     "text": [
      "preprocessing input matrix...\n"
     ]
    },
    {
     "name": "stderr",
     "output_type": "stream",
     "text": [
      "58289it [00:15, 3800.23it/s] \n"
     ]
    },
    {
     "name": "stdout",
     "output_type": "stream",
     "text": [
      "number of reads before filtering: 48\n",
      "number of reads kept: 27\n",
      "writing output to file:  ../figures/Figure3_all/Figure3A_zz-YIL161W_chrIX:38868-40068.mtx\n",
      "nan in output matrix!\n",
      "running hierarchical clustering...\n",
      "Clustering with number of clusters = 2\n",
      "plotting gene annotations...\n"
     ]
    },
    {
     "name": "stderr",
     "output_type": "stream",
     "text": [
      "100%|████████████████████████████████████████████████████████████████████████████████████████████████████████████████████████████████████████| 27/27 [01:00<00:00,  2.22s/it]\n"
     ]
    },
    {
     "name": "stdout",
     "output_type": "stream",
     "text": [
      "preprocessing input matrix...\n"
     ]
    },
    {
     "name": "stderr",
     "output_type": "stream",
     "text": [
      "58289it [00:22, 2596.27it/s] \n"
     ]
    },
    {
     "name": "stdout",
     "output_type": "stream",
     "text": [
      "number of reads before filtering: 36\n",
      "number of reads kept: 23\n",
      "writing output to file:  ../figures/Figure3_all/Figure3A_SMC4_chrXII:301632-302832.mtx\n",
      "nan in output matrix!\n",
      "running hierarchical clustering...\n",
      "Clustering with number of clusters = 2\n",
      "plotting gene annotations...\n"
     ]
    },
    {
     "name": "stderr",
     "output_type": "stream",
     "text": [
      "100%|████████████████████████████████████████████████████████████████████████████████████████████████████████████████████████████████████████| 23/23 [00:27<00:00,  1.18s/it]\n"
     ]
    },
    {
     "name": "stdout",
     "output_type": "stream",
     "text": [
      "preprocessing input matrix...\n"
     ]
    },
    {
     "name": "stderr",
     "output_type": "stream",
     "text": [
      "58289it [00:21, 2679.37it/s] \n"
     ]
    },
    {
     "name": "stdout",
     "output_type": "stream",
     "text": [
      "number of reads before filtering: 31\n",
      "number of reads kept: 21\n",
      "writing output to file:  ../figures/Figure3_all/Figure3A_GLE1_chrIV:87675-88875.mtx\n",
      "running hierarchical clustering...\n",
      "Clustering with number of clusters = 2\n",
      "plotting gene annotations...\n"
     ]
    },
    {
     "name": "stderr",
     "output_type": "stream",
     "text": [
      "100%|████████████████████████████████████████████████████████████████████████████████████████████████████████████████████████████████████████| 21/21 [00:25<00:00,  1.19s/it]\n"
     ]
    },
    {
     "name": "stdout",
     "output_type": "stream",
     "text": [
      "preprocessing input matrix...\n"
     ]
    },
    {
     "name": "stderr",
     "output_type": "stream",
     "text": [
      "58289it [00:09, 6185.66it/s] \n"
     ]
    },
    {
     "name": "stdout",
     "output_type": "stream",
     "text": [
      "number of reads before filtering: 28\n",
      "number of reads kept: 24\n",
      "writing output to file:  ../figures/Figure3_all/Figure3A_FMP32_chrVI:42235-43435.mtx\n",
      "nan in output matrix!\n",
      "running hierarchical clustering...\n",
      "Clustering with number of clusters = 2\n",
      "plotting gene annotations...\n"
     ]
    },
    {
     "name": "stderr",
     "output_type": "stream",
     "text": [
      "100%|████████████████████████████████████████████████████████████████████████████████████████████████████████████████████████████████████████| 24/24 [00:28<00:00,  1.19s/it]\n"
     ]
    },
    {
     "name": "stdout",
     "output_type": "stream",
     "text": [
      "preprocessing input matrix...\n"
     ]
    },
    {
     "name": "stderr",
     "output_type": "stream",
     "text": [
      "58289it [00:12, 4548.64it/s] \n"
     ]
    },
    {
     "name": "stdout",
     "output_type": "stream",
     "text": [
      "number of reads before filtering: 29\n",
      "number of reads kept: 22\n",
      "writing output to file:  ../figures/Figure3_all/Figure3A_TOR2_chrXI:62898-64098.mtx\n",
      "nan in output matrix!\n",
      "running hierarchical clustering...\n",
      "Clustering with number of clusters = 2\n",
      "plotting gene annotations...\n"
     ]
    },
    {
     "name": "stderr",
     "output_type": "stream",
     "text": [
      "100%|████████████████████████████████████████████████████████████████████████████████████████████████████████████████████████████████████████| 22/22 [00:26<00:00,  1.21s/it]\n"
     ]
    },
    {
     "name": "stdout",
     "output_type": "stream",
     "text": [
      "preprocessing input matrix...\n"
     ]
    },
    {
     "name": "stderr",
     "output_type": "stream",
     "text": [
      "58289it [00:09, 6258.75it/s] \n"
     ]
    },
    {
     "name": "stdout",
     "output_type": "stream",
     "text": [
      "number of reads before filtering: 33\n",
      "number of reads kept: 23\n",
      "writing output to file:  ../figures/Figure3_all/Figure3A_ALR2_chrVI:35968-37168.mtx\n",
      "nan in output matrix!\n",
      "running hierarchical clustering...\n",
      "Clustering with number of clusters = 2\n",
      "plotting gene annotations...\n"
     ]
    },
    {
     "name": "stderr",
     "output_type": "stream",
     "text": [
      "100%|████████████████████████████████████████████████████████████████████████████████████████████████████████████████████████████████████████| 23/23 [00:27<00:00,  1.17s/it]\n"
     ]
    },
    {
     "name": "stdout",
     "output_type": "stream",
     "text": [
      "preprocessing input matrix...\n"
     ]
    },
    {
     "name": "stderr",
     "output_type": "stream",
     "text": [
      "58289it [00:14, 4042.94it/s] \n"
     ]
    },
    {
     "name": "stdout",
     "output_type": "stream",
     "text": [
      "number of reads before filtering: 32\n",
      "number of reads kept: 21\n",
      "writing output to file:  ../figures/Figure3_all/Figure3A_ATG8_chrII:80111-81311.mtx\n",
      "nan in output matrix!\n",
      "running hierarchical clustering...\n",
      "Clustering with number of clusters = 2\n",
      "plotting gene annotations...\n"
     ]
    },
    {
     "name": "stderr",
     "output_type": "stream",
     "text": [
      "100%|████████████████████████████████████████████████████████████████████████████████████████████████████████████████████████████████████████| 21/21 [00:24<00:00,  1.17s/it]\n"
     ]
    },
    {
     "name": "stdout",
     "output_type": "stream",
     "text": [
      "preprocessing input matrix...\n"
     ]
    },
    {
     "name": "stderr",
     "output_type": "stream",
     "text": [
      "58289it [00:14, 4091.12it/s] \n"
     ]
    },
    {
     "name": "stdout",
     "output_type": "stream",
     "text": [
      "number of reads before filtering: 31\n",
      "number of reads kept: 22\n",
      "writing output to file:  ../figures/Figure3_all/Figure3A_VPS75_chrXIV:184892-186092.mtx\n",
      "running hierarchical clustering...\n",
      "Clustering with number of clusters = 2\n",
      "plotting gene annotations...\n"
     ]
    },
    {
     "name": "stderr",
     "output_type": "stream",
     "text": [
      "100%|████████████████████████████████████████████████████████████████████████████████████████████████████████████████████████████████████████| 22/22 [00:25<00:00,  1.14s/it]\n"
     ]
    },
    {
     "name": "stdout",
     "output_type": "stream",
     "text": [
      "preprocessing input matrix...\n"
     ]
    },
    {
     "name": "stderr",
     "output_type": "stream",
     "text": [
      "58289it [00:14, 4135.78it/s] \n"
     ]
    },
    {
     "name": "stdout",
     "output_type": "stream",
     "text": [
      "number of reads before filtering: 38\n",
      "number of reads kept: 23\n",
      "writing output to file:  ../figures/Figure3_all/Figure3A_SEC2_chrXIV:128537-129737.mtx\n",
      "nan in output matrix!\n",
      "running hierarchical clustering...\n",
      "Clustering with number of clusters = 2\n",
      "plotting gene annotations...\n"
     ]
    },
    {
     "name": "stderr",
     "output_type": "stream",
     "text": [
      "100%|████████████████████████████████████████████████████████████████████████████████████████████████████████████████████████████████████████| 23/23 [00:26<00:00,  1.16s/it]\n"
     ]
    },
    {
     "name": "stdout",
     "output_type": "stream",
     "text": [
      "preprocessing input matrix...\n"
     ]
    },
    {
     "name": "stderr",
     "output_type": "stream",
     "text": [
      "58289it [00:09, 6305.49it/s] \n"
     ]
    },
    {
     "name": "stdout",
     "output_type": "stream",
     "text": [
      "number of reads before filtering: 32\n",
      "number of reads kept: 22\n",
      "writing output to file:  ../figures/Figure3_all/Figure3A_TAF2_chrIII:204776-205976.mtx\n",
      "nan in output matrix!\n",
      "running hierarchical clustering...\n",
      "Clustering with number of clusters = 2\n",
      "plotting gene annotations...\n"
     ]
    },
    {
     "name": "stderr",
     "output_type": "stream",
     "text": [
      "100%|████████████████████████████████████████████████████████████████████████████████████████████████████████████████████████████████████████| 22/22 [00:58<00:00,  2.67s/it]\n"
     ]
    },
    {
     "name": "stdout",
     "output_type": "stream",
     "text": [
      "preprocessing input matrix...\n"
     ]
    },
    {
     "name": "stderr",
     "output_type": "stream",
     "text": [
      "58289it [00:16, 3478.04it/s] \n"
     ]
    },
    {
     "name": "stdout",
     "output_type": "stream",
     "text": [
      "number of reads before filtering: 27\n",
      "number of reads kept: 21\n",
      "writing output to file:  ../figures/Figure3_all/Figure3A_SPT6_chrVII:719793-720993.mtx\n",
      "nan in output matrix!\n",
      "running hierarchical clustering...\n",
      "Clustering with number of clusters = 2\n",
      "plotting gene annotations...\n"
     ]
    },
    {
     "name": "stderr",
     "output_type": "stream",
     "text": [
      "100%|████████████████████████████████████████████████████████████████████████████████████████████████████████████████████████████████████████| 21/21 [00:25<00:00,  1.22s/it]\n"
     ]
    },
    {
     "name": "stdout",
     "output_type": "stream",
     "text": [
      "preprocessing input matrix...\n"
     ]
    },
    {
     "name": "stderr",
     "output_type": "stream",
     "text": [
      "58289it [00:16, 3639.22it/s] \n"
     ]
    },
    {
     "name": "stdout",
     "output_type": "stream",
     "text": [
      "number of reads before filtering: 114\n",
      "number of reads kept: 95\n",
      "writing output to file:  ../figures/Figure3_all/Figure3A_FEX2_chrXVI:13765-14965.mtx\n",
      "nan in output matrix!\n",
      "running hierarchical clustering...\n",
      "Clustering with number of clusters = 2\n",
      "plotting gene annotations...\n"
     ]
    },
    {
     "name": "stderr",
     "output_type": "stream",
     "text": [
      "100%|████████████████████████████████████████████████████████████████████████████████████████████████████████████████████████████████████████| 95/95 [01:45<00:00,  1.11s/it]\n"
     ]
    },
    {
     "name": "stdout",
     "output_type": "stream",
     "text": [
      "preprocessing input matrix...\n"
     ]
    },
    {
     "name": "stderr",
     "output_type": "stream",
     "text": [
      "58289it [00:17, 3298.29it/s] \n"
     ]
    },
    {
     "name": "stdout",
     "output_type": "stream",
     "text": [
      "number of reads before filtering: 31\n",
      "number of reads kept: 21\n",
      "writing output to file:  ../figures/Figure3_all/Figure3A_zz-YOL029C_chrXV:270938-272138.mtx\n",
      "nan in output matrix!\n",
      "running hierarchical clustering...\n",
      "Clustering with number of clusters = 2\n",
      "plotting gene annotations...\n"
     ]
    },
    {
     "name": "stderr",
     "output_type": "stream",
     "text": [
      "100%|████████████████████████████████████████████████████████████████████████████████████████████████████████████████████████████████████████| 21/21 [00:24<00:00,  1.14s/it]\n"
     ]
    },
    {
     "name": "stdout",
     "output_type": "stream",
     "text": [
      "preprocessing input matrix...\n"
     ]
    },
    {
     "name": "stderr",
     "output_type": "stream",
     "text": [
      "58289it [00:22, 2576.94it/s] \n"
     ]
    },
    {
     "name": "stdout",
     "output_type": "stream",
     "text": [
      "number of reads before filtering: 43\n",
      "number of reads kept: 35\n",
      "writing output to file:  ../figures/Figure3_all/Figure3A_FPR4_chrXII:1030261-1031461.mtx\n",
      "nan in output matrix!\n",
      "running hierarchical clustering...\n",
      "Clustering with number of clusters = 2\n",
      "plotting gene annotations...\n"
     ]
    },
    {
     "name": "stderr",
     "output_type": "stream",
     "text": [
      "100%|████████████████████████████████████████████████████████████████████████████████████████████████████████████████████████████████████████| 35/35 [00:39<00:00,  1.14s/it]\n"
     ]
    },
    {
     "name": "stdout",
     "output_type": "stream",
     "text": [
      "preprocessing input matrix...\n"
     ]
    },
    {
     "name": "stderr",
     "output_type": "stream",
     "text": [
      "58289it [00:12, 4572.20it/s] \n"
     ]
    },
    {
     "name": "stdout",
     "output_type": "stream",
     "text": [
      "number of reads before filtering: 39\n",
      "number of reads kept: 33\n",
      "writing output to file:  ../figures/Figure3_all/Figure3A_SIR1_chrXI:639977-641177.mtx\n",
      "nan in output matrix!\n",
      "running hierarchical clustering...\n",
      "Clustering with number of clusters = 2\n",
      "plotting gene annotations...\n"
     ]
    },
    {
     "name": "stderr",
     "output_type": "stream",
     "text": [
      "100%|████████████████████████████████████████████████████████████████████████████████████████████████████████████████████████████████████████| 33/33 [00:38<00:00,  1.17s/it]\n"
     ]
    },
    {
     "name": "stdout",
     "output_type": "stream",
     "text": [
      "preprocessing input matrix...\n"
     ]
    },
    {
     "name": "stderr",
     "output_type": "stream",
     "text": [
      "58289it [00:22, 2597.71it/s] \n"
     ]
    },
    {
     "name": "stdout",
     "output_type": "stream",
     "text": [
      "number of reads before filtering: 25\n",
      "number of reads kept: 23\n",
      "writing output to file:  ../figures/Figure3_all/Figure3A_BNA5_chrXII:606504-607704.mtx\n",
      "nan in output matrix!\n",
      "running hierarchical clustering...\n",
      "Clustering with number of clusters = 2\n",
      "plotting gene annotations...\n"
     ]
    },
    {
     "name": "stderr",
     "output_type": "stream",
     "text": [
      "100%|████████████████████████████████████████████████████████████████████████████████████████████████████████████████████████████████████████| 23/23 [00:26<00:00,  1.16s/it]\n"
     ]
    },
    {
     "name": "stdout",
     "output_type": "stream",
     "text": [
      "preprocessing input matrix...\n"
     ]
    },
    {
     "name": "stderr",
     "output_type": "stream",
     "text": [
      "58289it [00:12, 4718.80it/s] \n"
     ]
    },
    {
     "name": "stdout",
     "output_type": "stream",
     "text": [
      "number of reads before filtering: 29\n",
      "number of reads kept: 23\n",
      "writing output to file:  ../figures/Figure3_all/Figure3A_NPR3_chrVIII:61953-63153.mtx\n",
      "nan in output matrix!\n",
      "running hierarchical clustering...\n",
      "Clustering with number of clusters = 2\n",
      "plotting gene annotations...\n"
     ]
    },
    {
     "name": "stderr",
     "output_type": "stream",
     "text": [
      "100%|████████████████████████████████████████████████████████████████████████████████████████████████████████████████████████████████████████| 23/23 [00:26<00:00,  1.15s/it]\n"
     ]
    },
    {
     "name": "stdout",
     "output_type": "stream",
     "text": [
      "preprocessing input matrix...\n"
     ]
    },
    {
     "name": "stderr",
     "output_type": "stream",
     "text": [
      "58289it [00:21, 2676.53it/s] \n"
     ]
    },
    {
     "name": "stdout",
     "output_type": "stream",
     "text": [
      "number of reads before filtering: 37\n",
      "number of reads kept: 22\n",
      "writing output to file:  ../figures/Figure3_all/Figure3A_MSH6_chrIV:643274-644474.mtx\n",
      "running hierarchical clustering...\n",
      "Clustering with number of clusters = 2\n",
      "plotting gene annotations...\n"
     ]
    },
    {
     "name": "stderr",
     "output_type": "stream",
     "text": [
      "100%|████████████████████████████████████████████████████████████████████████████████████████████████████████████████████████████████████████| 22/22 [01:06<00:00,  3.01s/it]\n"
     ]
    },
    {
     "name": "stdout",
     "output_type": "stream",
     "text": [
      "preprocessing input matrix...\n"
     ]
    },
    {
     "name": "stderr",
     "output_type": "stream",
     "text": [
      "58289it [00:16, 3495.70it/s] \n"
     ]
    },
    {
     "name": "stdout",
     "output_type": "stream",
     "text": [
      "number of reads before filtering: 26\n",
      "number of reads kept: 21\n",
      "writing output to file:  ../figures/Figure3_all/Figure3A_RTF1_chrVII:40901-42101.mtx\n",
      "nan in output matrix!\n",
      "running hierarchical clustering...\n",
      "Clustering with number of clusters = 2\n",
      "plotting gene annotations...\n"
     ]
    },
    {
     "name": "stderr",
     "output_type": "stream",
     "text": [
      "100%|████████████████████████████████████████████████████████████████████████████████████████████████████████████████████████████████████████| 21/21 [00:24<00:00,  1.16s/it]\n"
     ]
    },
    {
     "name": "stdout",
     "output_type": "stream",
     "text": [
      "preprocessing input matrix...\n"
     ]
    },
    {
     "name": "stderr",
     "output_type": "stream",
     "text": [
      "58289it [00:21, 2657.32it/s] \n"
     ]
    },
    {
     "name": "stdout",
     "output_type": "stream",
     "text": [
      "number of reads before filtering: 26\n",
      "number of reads kept: 22\n",
      "writing output to file:  ../figures/Figure3_all/Figure3A_VPS60_chrIV:1427483-1428683.mtx\n",
      "nan in output matrix!\n",
      "running hierarchical clustering...\n",
      "Clustering with number of clusters = 2\n",
      "plotting gene annotations...\n"
     ]
    },
    {
     "name": "stderr",
     "output_type": "stream",
     "text": [
      "100%|████████████████████████████████████████████████████████████████████████████████████████████████████████████████████████████████████████| 22/22 [00:25<00:00,  1.14s/it]\n"
     ]
    },
    {
     "name": "stdout",
     "output_type": "stream",
     "text": [
      "preprocessing input matrix...\n"
     ]
    },
    {
     "name": "stderr",
     "output_type": "stream",
     "text": [
      "58289it [00:12, 4608.83it/s] \n"
     ]
    },
    {
     "name": "stdout",
     "output_type": "stream",
     "text": [
      "number of reads before filtering: 31\n",
      "number of reads kept: 25\n",
      "writing output to file:  ../figures/Figure3_all/Figure3A_YJU2_chrXI:261562-262762.mtx\n",
      "nan in output matrix!\n"
     ]
    },
    {
     "name": "stderr",
     "output_type": "stream",
     "text": [
      "/private/groups/brookslab/gabai/tools/NEMO/src/plot.py:101: RuntimeWarning: More than 20 figures have been opened. Figures created through the pyplot interface (`matplotlib.pyplot.figure`) are retained until explicitly closed and may consume too much memory. (To control this warning, see the rcParam `figure.max_open_warning`). Consider using `matplotlib.pyplot.close()`.\n",
      "  \n"
     ]
    },
    {
     "name": "stdout",
     "output_type": "stream",
     "text": [
      "running hierarchical clustering...\n",
      "Clustering with number of clusters = 2\n",
      "plotting gene annotations...\n"
     ]
    },
    {
     "name": "stderr",
     "output_type": "stream",
     "text": [
      "100%|████████████████████████████████████████████████████████████████████████████████████████████████████████████████████████████████████████| 25/25 [00:28<00:00,  1.14s/it]\n"
     ]
    },
    {
     "name": "stdout",
     "output_type": "stream",
     "text": [
      "preprocessing input matrix...\n"
     ]
    },
    {
     "name": "stderr",
     "output_type": "stream",
     "text": [
      "58289it [00:14, 3922.15it/s] \n"
     ]
    },
    {
     "name": "stdout",
     "output_type": "stream",
     "text": [
      "number of reads before filtering: 32\n",
      "number of reads kept: 22\n",
      "writing output to file:  ../figures/Figure3_all/Figure3A_MPA43_chrXIV:180367-181567.mtx\n",
      "running hierarchical clustering...\n",
      "Clustering with number of clusters = 2\n",
      "plotting gene annotations...\n"
     ]
    },
    {
     "name": "stderr",
     "output_type": "stream",
     "text": [
      "100%|████████████████████████████████████████████████████████████████████████████████████████████████████████████████████████████████████████| 22/22 [00:25<00:00,  1.15s/it]\n"
     ]
    },
    {
     "name": "stdout",
     "output_type": "stream",
     "text": [
      "preprocessing input matrix...\n"
     ]
    },
    {
     "name": "stderr",
     "output_type": "stream",
     "text": [
      "58289it [00:14, 3957.16it/s] \n"
     ]
    },
    {
     "name": "stdout",
     "output_type": "stream",
     "text": [
      "number of reads before filtering: 33\n",
      "number of reads kept: 24\n",
      "writing output to file:  ../figures/Figure3_all/Figure3A_HOM6_chrX:689975-691175.mtx\n",
      "nan in output matrix!\n",
      "running hierarchical clustering...\n",
      "Clustering with number of clusters = 2\n",
      "plotting gene annotations...\n"
     ]
    },
    {
     "name": "stderr",
     "output_type": "stream",
     "text": [
      "100%|████████████████████████████████████████████████████████████████████████████████████████████████████████████████████████████████████████| 24/24 [00:27<00:00,  1.15s/it]\n"
     ]
    },
    {
     "name": "stdout",
     "output_type": "stream",
     "text": [
      "preprocessing input matrix...\n"
     ]
    },
    {
     "name": "stderr",
     "output_type": "stream",
     "text": [
      "58289it [00:14, 4085.02it/s] \n"
     ]
    },
    {
     "name": "stdout",
     "output_type": "stream",
     "text": [
      "number of reads before filtering: 29\n",
      "number of reads kept: 25\n",
      "writing output to file:  ../figures/Figure3_all/Figure3A_ERV41_chrXIII:139602-140802.mtx\n",
      "nan in output matrix!\n",
      "running hierarchical clustering...\n",
      "Clustering with number of clusters = 2\n",
      "plotting gene annotations...\n"
     ]
    },
    {
     "name": "stderr",
     "output_type": "stream",
     "text": [
      "100%|████████████████████████████████████████████████████████████████████████████████████████████████████████████████████████████████████████| 25/25 [00:28<00:00,  1.14s/it]\n"
     ]
    },
    {
     "name": "stdout",
     "output_type": "stream",
     "text": [
      "preprocessing input matrix...\n"
     ]
    },
    {
     "name": "stderr",
     "output_type": "stream",
     "text": [
      "58289it [00:22, 2598.03it/s] \n"
     ]
    },
    {
     "name": "stdout",
     "output_type": "stream",
     "text": [
      "number of reads before filtering: 35\n",
      "number of reads kept: 23\n",
      "writing output to file:  ../figures/Figure3_all/Figure3A_PUF6_chrIV:1442781-1443981.mtx\n",
      "nan in output matrix!\n",
      "running hierarchical clustering...\n",
      "Clustering with number of clusters = 2\n",
      "plotting gene annotations...\n"
     ]
    },
    {
     "name": "stderr",
     "output_type": "stream",
     "text": [
      "100%|████████████████████████████████████████████████████████████████████████████████████████████████████████████████████████████████████████| 23/23 [00:26<00:00,  1.17s/it]\n"
     ]
    },
    {
     "name": "stdout",
     "output_type": "stream",
     "text": [
      "preprocessing input matrix...\n"
     ]
    },
    {
     "name": "stderr",
     "output_type": "stream",
     "text": [
      "58289it [00:22, 2602.60it/s] \n"
     ]
    },
    {
     "name": "stdout",
     "output_type": "stream",
     "text": [
      "number of reads before filtering: 26\n",
      "number of reads kept: 23\n",
      "writing output to file:  ../figures/Figure3_all/Figure3A_CDC9_chrIV:166653-167853.mtx\n",
      "nan in output matrix!\n",
      "running hierarchical clustering...\n",
      "Clustering with number of clusters = 2\n",
      "plotting gene annotations...\n"
     ]
    },
    {
     "name": "stderr",
     "output_type": "stream",
     "text": [
      "100%|████████████████████████████████████████████████████████████████████████████████████████████████████████████████████████████████████████| 23/23 [00:27<00:00,  1.18s/it]\n"
     ]
    },
    {
     "name": "stdout",
     "output_type": "stream",
     "text": [
      "preprocessing input matrix...\n"
     ]
    },
    {
     "name": "stderr",
     "output_type": "stream",
     "text": [
      "58289it [00:12, 4596.49it/s] \n"
     ]
    },
    {
     "name": "stdout",
     "output_type": "stream",
     "text": [
      "number of reads before filtering: 33\n",
      "number of reads kept: 23\n",
      "writing output to file:  ../figures/Figure3_all/Figure3A_YKT6_chrXI:74946-76146.mtx\n",
      "running hierarchical clustering...\n",
      "Clustering with number of clusters = 2\n",
      "plotting gene annotations...\n"
     ]
    },
    {
     "name": "stderr",
     "output_type": "stream",
     "text": [
      "100%|████████████████████████████████████████████████████████████████████████████████████████████████████████████████████████████████████████| 23/23 [00:30<00:00,  1.31s/it]\n"
     ]
    },
    {
     "name": "stdout",
     "output_type": "stream",
     "text": [
      "preprocessing input matrix...\n"
     ]
    },
    {
     "name": "stderr",
     "output_type": "stream",
     "text": [
      "58289it [00:13, 4436.08it/s] \n"
     ]
    },
    {
     "name": "stdout",
     "output_type": "stream",
     "text": [
      "number of reads before filtering: 29\n",
      "number of reads kept: 23\n",
      "writing output to file:  ../figures/Figure3_all/Figure3A_YPF1_chrXI:254824-256024.mtx\n",
      "nan in output matrix!\n",
      "running hierarchical clustering...\n",
      "Clustering with number of clusters = 2\n",
      "plotting gene annotations...\n"
     ]
    },
    {
     "name": "stderr",
     "output_type": "stream",
     "text": [
      "100%|████████████████████████████████████████████████████████████████████████████████████████████████████████████████████████████████████████| 23/23 [00:30<00:00,  1.31s/it]\n"
     ]
    },
    {
     "name": "stdout",
     "output_type": "stream",
     "text": [
      "preprocessing input matrix...\n"
     ]
    },
    {
     "name": "stderr",
     "output_type": "stream",
     "text": [
      "58289it [00:22, 2594.83it/s] \n"
     ]
    },
    {
     "name": "stdout",
     "output_type": "stream",
     "text": [
      "number of reads before filtering: 36\n",
      "number of reads kept: 21\n",
      "writing output to file:  ../figures/Figure3_all/Figure3A_SPR28_chrIV:904447-905647.mtx\n",
      "nan in output matrix!\n",
      "running hierarchical clustering...\n",
      "Clustering with number of clusters = 2\n",
      "plotting gene annotations...\n"
     ]
    },
    {
     "name": "stderr",
     "output_type": "stream",
     "text": [
      "100%|████████████████████████████████████████████████████████████████████████████████████████████████████████████████████████████████████████| 21/21 [00:24<00:00,  1.19s/it]\n"
     ]
    },
    {
     "name": "stdout",
     "output_type": "stream",
     "text": [
      "preprocessing input matrix...\n"
     ]
    },
    {
     "name": "stderr",
     "output_type": "stream",
     "text": [
      "58289it [00:23, 2507.40it/s] \n"
     ]
    },
    {
     "name": "stdout",
     "output_type": "stream",
     "text": [
      "number of reads before filtering: 30\n",
      "number of reads kept: 23\n",
      "writing output to file:  ../figures/Figure3_all/Figure3A_REA1_chrXII:363227-364427.mtx\n",
      "nan in output matrix!\n",
      "running hierarchical clustering...\n",
      "Clustering with number of clusters = 2\n",
      "plotting gene annotations...\n"
     ]
    },
    {
     "name": "stderr",
     "output_type": "stream",
     "text": [
      "100%|████████████████████████████████████████████████████████████████████████████████████████████████████████████████████████████████████████| 23/23 [00:26<00:00,  1.17s/it]\n"
     ]
    },
    {
     "name": "stdout",
     "output_type": "stream",
     "text": [
      "preprocessing input matrix...\n"
     ]
    },
    {
     "name": "stderr",
     "output_type": "stream",
     "text": [
      "58289it [00:10, 5758.10it/s] \n"
     ]
    },
    {
     "name": "stdout",
     "output_type": "stream",
     "text": [
      "number of reads before filtering: 40\n",
      "number of reads kept: 32\n",
      "writing output to file:  ../figures/Figure3_all/Figure3A_IMG2_chrIII:239934-241134.mtx\n",
      "running hierarchical clustering...\n",
      "Clustering with number of clusters = 2\n",
      "plotting gene annotations...\n"
     ]
    },
    {
     "name": "stderr",
     "output_type": "stream",
     "text": [
      "100%|████████████████████████████████████████████████████████████████████████████████████████████████████████████████████████████████████████| 32/32 [00:36<00:00,  1.15s/it]\n"
     ]
    },
    {
     "name": "stdout",
     "output_type": "stream",
     "text": [
      "preprocessing input matrix...\n"
     ]
    },
    {
     "name": "stderr",
     "output_type": "stream",
     "text": [
      "58289it [00:22, 2646.34it/s] \n"
     ]
    },
    {
     "name": "stdout",
     "output_type": "stream",
     "text": [
      "number of reads before filtering: 31\n",
      "number of reads kept: 20\n",
      "writing output to file:  ../figures/Figure3_all/Figure3A_FOB1_chrIV:675504-676704.mtx\n",
      "running hierarchical clustering...\n",
      "Clustering with number of clusters = 2\n",
      "plotting gene annotations...\n"
     ]
    },
    {
     "name": "stderr",
     "output_type": "stream",
     "text": [
      "100%|████████████████████████████████████████████████████████████████████████████████████████████████████████████████████████████████████████| 20/20 [01:14<00:00,  3.73s/it]\n"
     ]
    },
    {
     "name": "stdout",
     "output_type": "stream",
     "text": [
      "preprocessing input matrix...\n"
     ]
    },
    {
     "name": "stderr",
     "output_type": "stream",
     "text": [
      "58289it [00:15, 3802.81it/s] \n"
     ]
    },
    {
     "name": "stdout",
     "output_type": "stream",
     "text": [
      "number of reads before filtering: 34\n",
      "number of reads kept: 26\n",
      "writing output to file:  ../figures/Figure3_all/Figure3A_FET5_chrVI:48571-49771.mtx\n",
      "nan in output matrix!\n",
      "running hierarchical clustering...\n",
      "Clustering with number of clusters = 2\n",
      "plotting gene annotations...\n"
     ]
    },
    {
     "name": "stderr",
     "output_type": "stream",
     "text": [
      "100%|████████████████████████████████████████████████████████████████████████████████████████████████████████████████████████████████████████| 26/26 [00:29<00:00,  1.14s/it]\n"
     ]
    },
    {
     "name": "stdout",
     "output_type": "stream",
     "text": [
      "preprocessing input matrix...\n"
     ]
    },
    {
     "name": "stderr",
     "output_type": "stream",
     "text": [
      "49048it [00:20, 358.78it/s]  "
     ]
    }
   ],
   "source": [
    "chrom_190429_pred = '/private/groups/brookslab/gabai/projects/Add-seq/data/chrom/modPredict/240905_prediction/240912_dorado_20190429_chrom.tsv'\n",
    "gtfFile = '/private/groups/brookslab/gabai/projects/Add-seq/data/ref/Saccharomyces_cerevisiae.R64-1-1.109.gtf'\n",
    "\n",
    "for genename, regions in pregions.items():\n",
    "    plotModTrack(chrom_190429_pred, regions, ncluster=2, outpath='../figures/Figure3_all/', prefix= f'Figure3A_{genename[0]}', \n",
    "             gtfFile=gtfFile, xticks_space = 150, na_thred=0.2)"
   ]
  }
 ],
 "metadata": {
  "kernelspec": {
   "display_name": "Python 3 (ipykernel)",
   "language": "python",
   "name": "python3"
  },
  "language_info": {
   "codemirror_mode": {
    "name": "ipython",
    "version": 3
   },
   "file_extension": ".py",
   "mimetype": "text/x-python",
   "name": "python",
   "nbconvert_exporter": "python",
   "pygments_lexer": "ipython3",
   "version": "3.9.18"
  }
 },
 "nbformat": 4,
 "nbformat_minor": 5
}
