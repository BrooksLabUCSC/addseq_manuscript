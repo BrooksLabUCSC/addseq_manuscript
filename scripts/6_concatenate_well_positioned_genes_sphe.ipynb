{
 "cells": [
  {
   "cell_type": "code",
   "execution_count": 1,
   "id": "156712ee-eb9f-47bf-ac41-394ca016ed2a",
   "metadata": {},
   "outputs": [],
   "source": [
    "import pod5\n",
    "import numpy as np\n",
    "import random\n",
    "import matplotlib.pyplot as plt\n",
    "import matplotlib as mpl\n",
    "import sys\n",
    "mpl.rcParams['pdf.fonttype'] = 42\n",
    "mpl.rcParams['font.size'] = 12\n",
    "sys.path.insert(0, '/private/groups/brookslab/gabai/tools/NEMO/src/')\n",
    "from predict import *\n",
    "from plot import *\n",
    "import importlib\n",
    "from qc import *\n",
    "from findWellPosGenes import *\n",
    "importlib.reload(sys.modules['findWellPosGenes'])\n",
    "from findWellPosGenes import *\n",
    "from tqdm import tqdm"
   ]
  },
  {
   "cell_type": "code",
   "execution_count": 2,
   "id": "ed176f44-405f-41e9-9302-b5cca7d9ffa1",
   "metadata": {},
   "outputs": [],
   "source": [
    "dt_outpath = '../data/'\n",
    "fig_outpath = '../figures/'"
   ]
  },
  {
   "cell_type": "code",
   "execution_count": 6,
   "id": "587a0558-3e1f-4977-9950-149a38fdf242",
   "metadata": {},
   "outputs": [
    {
     "name": "stdout",
     "output_type": "stream",
     "text": [
      "n genes: 57\n"
     ]
    }
   ],
   "source": [
    "# read well positioned genes\n",
    "sphe = '../data/4_dorado_202205_sphe_chrom_well_positioned_genes_cov16_cor0.5_var5500.bed'\n",
    "sphe_gene ={}\n",
    "with open(sphe) as infile:\n",
    "    for line in infile:\n",
    "        line=line.strip().split('\\t')\n",
    "        chr, start, end, genename, strand = line[0], line[1], line[2], line[3], line[5]\n",
    "        sphe_gene[(genename, strand)] = f'{chr}:{start}-{end}'\n",
    "print(f'n genes: {len(sphe_gene)}')"
   ]
  },
  {
   "cell_type": "code",
   "execution_count": 5,
   "id": "23392c7e-4aac-4899-a308-62c4c53c1c27",
   "metadata": {
    "scrolled": true
   },
   "outputs": [
    {
     "name": "stdout",
     "output_type": "stream",
     "text": [
      "start processing gene APS3...\n"
     ]
    },
    {
     "name": "stderr",
     "output_type": "stream",
     "text": [
      "13344it [00:10, 1238.53it/s]\n"
     ]
    },
    {
     "name": "stdout",
     "output_type": "stream",
     "text": [
      "finished processing gene APS3...\n",
      "start processing gene RPL21B...\n"
     ]
    },
    {
     "name": "stderr",
     "output_type": "stream",
     "text": [
      "13344it [00:09, 1401.86it/s]\n"
     ]
    },
    {
     "name": "stdout",
     "output_type": "stream",
     "text": [
      "finished processing gene RPL21B...\n",
      "start processing gene RSE1...\n"
     ]
    },
    {
     "name": "stderr",
     "output_type": "stream",
     "text": [
      "13344it [00:09, 1421.45it/s]\n"
     ]
    },
    {
     "name": "stdout",
     "output_type": "stream",
     "text": [
      "finished processing gene RSE1...\n",
      "start processing gene GSF2...\n"
     ]
    },
    {
     "name": "stderr",
     "output_type": "stream",
     "text": [
      "13344it [00:09, 1424.97it/s]\n"
     ]
    },
    {
     "name": "stdout",
     "output_type": "stream",
     "text": [
      "finished processing gene GSF2...\n",
      "start processing gene LSB6...\n"
     ]
    },
    {
     "name": "stderr",
     "output_type": "stream",
     "text": [
      "13344it [00:07, 1761.79it/s]\n"
     ]
    },
    {
     "name": "stdout",
     "output_type": "stream",
     "text": [
      "finished processing gene LSB6...\n",
      "start processing gene RDS3...\n"
     ]
    },
    {
     "name": "stderr",
     "output_type": "stream",
     "text": [
      "13344it [00:09, 1465.05it/s]\n"
     ]
    },
    {
     "name": "stdout",
     "output_type": "stream",
     "text": [
      "finished processing gene RDS3...\n",
      "start processing gene PXA1...\n"
     ]
    },
    {
     "name": "stderr",
     "output_type": "stream",
     "text": [
      "13344it [00:09, 1438.41it/s]\n"
     ]
    },
    {
     "name": "stdout",
     "output_type": "stream",
     "text": [
      "finished processing gene PXA1...\n",
      "start processing gene DPB11...\n"
     ]
    },
    {
     "name": "stderr",
     "output_type": "stream",
     "text": [
      "13344it [00:07, 1777.61it/s]\n"
     ]
    },
    {
     "name": "stdout",
     "output_type": "stream",
     "text": [
      "finished processing gene DPB11...\n",
      "start processing gene SPL2...\n"
     ]
    },
    {
     "name": "stderr",
     "output_type": "stream",
     "text": [
      "13344it [00:06, 2191.21it/s]\n"
     ]
    },
    {
     "name": "stdout",
     "output_type": "stream",
     "text": [
      "finished processing gene SPL2...\n",
      "start processing gene MTC6...\n"
     ]
    },
    {
     "name": "stderr",
     "output_type": "stream",
     "text": [
      "13344it [00:06, 2176.57it/s]\n"
     ]
    },
    {
     "name": "stdout",
     "output_type": "stream",
     "text": [
      "finished processing gene MTC6...\n",
      "start processing gene AIM39...\n"
     ]
    },
    {
     "name": "stderr",
     "output_type": "stream",
     "text": [
      "13344it [00:09, 1431.25it/s]\n"
     ]
    },
    {
     "name": "stdout",
     "output_type": "stream",
     "text": [
      "finished processing gene AIM39...\n",
      "start processing gene SUM1...\n"
     ]
    },
    {
     "name": "stderr",
     "output_type": "stream",
     "text": [
      "13344it [00:12, 1059.49it/s]\n"
     ]
    },
    {
     "name": "stdout",
     "output_type": "stream",
     "text": [
      "finished processing gene SUM1...\n",
      "start processing gene YET1...\n"
     ]
    },
    {
     "name": "stderr",
     "output_type": "stream",
     "text": [
      "13344it [00:06, 2054.59it/s]\n"
     ]
    },
    {
     "name": "stdout",
     "output_type": "stream",
     "text": [
      "finished processing gene YET1...\n",
      "start processing gene BYE1...\n"
     ]
    },
    {
     "name": "stderr",
     "output_type": "stream",
     "text": [
      "13344it [00:06, 2065.89it/s]\n"
     ]
    },
    {
     "name": "stdout",
     "output_type": "stream",
     "text": [
      "finished processing gene BYE1...\n",
      "start processing gene SEF1...\n"
     ]
    },
    {
     "name": "stderr",
     "output_type": "stream",
     "text": [
      "13344it [00:08, 1661.32it/s]\n"
     ]
    },
    {
     "name": "stdout",
     "output_type": "stream",
     "text": [
      "finished processing gene SEF1...\n",
      "start processing gene STB2...\n"
     ]
    },
    {
     "name": "stderr",
     "output_type": "stream",
     "text": [
      "13344it [00:09, 1453.07it/s]\n"
     ]
    },
    {
     "name": "stdout",
     "output_type": "stream",
     "text": [
      "finished processing gene STB2...\n",
      "start processing gene zz-YEL023C...\n"
     ]
    },
    {
     "name": "stderr",
     "output_type": "stream",
     "text": [
      "13344it [00:07, 1897.10it/s]\n"
     ]
    },
    {
     "name": "stdout",
     "output_type": "stream",
     "text": [
      "finished processing gene zz-YEL023C...\n",
      "start processing gene PUS9...\n"
     ]
    },
    {
     "name": "stderr",
     "output_type": "stream",
     "text": [
      "13344it [00:12, 1067.25it/s]\n"
     ]
    },
    {
     "name": "stdout",
     "output_type": "stream",
     "text": [
      "finished processing gene PUS9...\n",
      "start processing gene BUB1...\n"
     ]
    },
    {
     "name": "stderr",
     "output_type": "stream",
     "text": [
      "13344it [00:10, 1309.28it/s]\n"
     ]
    },
    {
     "name": "stdout",
     "output_type": "stream",
     "text": [
      "finished processing gene BUB1...\n",
      "start processing gene FYV4...\n"
     ]
    },
    {
     "name": "stderr",
     "output_type": "stream",
     "text": [
      "13344it [00:06, 2110.68it/s]\n"
     ]
    },
    {
     "name": "stdout",
     "output_type": "stream",
     "text": [
      "finished processing gene FYV4...\n",
      "start processing gene CDC16...\n"
     ]
    },
    {
     "name": "stderr",
     "output_type": "stream",
     "text": [
      "13344it [00:06, 2036.22it/s]\n"
     ]
    },
    {
     "name": "stdout",
     "output_type": "stream",
     "text": [
      "finished processing gene CDC16...\n",
      "start processing gene SSF1...\n"
     ]
    },
    {
     "name": "stderr",
     "output_type": "stream",
     "text": [
      "13344it [00:06, 2162.47it/s]\n"
     ]
    },
    {
     "name": "stdout",
     "output_type": "stream",
     "text": [
      "finished processing gene SSF1...\n",
      "start processing gene CCT3...\n"
     ]
    },
    {
     "name": "stderr",
     "output_type": "stream",
     "text": [
      "13344it [00:07, 1764.28it/s]\n"
     ]
    },
    {
     "name": "stdout",
     "output_type": "stream",
     "text": [
      "finished processing gene CCT3...\n",
      "start processing gene GPI2...\n"
     ]
    },
    {
     "name": "stderr",
     "output_type": "stream",
     "text": [
      "13344it [00:09, 1471.28it/s]\n"
     ]
    },
    {
     "name": "stdout",
     "output_type": "stream",
     "text": [
      "finished processing gene GPI2...\n",
      "start processing gene BUD13...\n"
     ]
    },
    {
     "name": "stderr",
     "output_type": "stream",
     "text": [
      "13344it [00:10, 1314.55it/s]\n"
     ]
    },
    {
     "name": "stdout",
     "output_type": "stream",
     "text": [
      "finished processing gene BUD13...\n",
      "start processing gene zz-YLR012C...\n"
     ]
    },
    {
     "name": "stderr",
     "output_type": "stream",
     "text": [
      "13344it [00:11, 1182.92it/s]\n"
     ]
    },
    {
     "name": "stdout",
     "output_type": "stream",
     "text": [
      "finished processing gene zz-YLR012C...\n",
      "start processing gene UPS1...\n"
     ]
    },
    {
     "name": "stderr",
     "output_type": "stream",
     "text": [
      "13344it [00:11, 1184.11it/s]\n"
     ]
    },
    {
     "name": "stdout",
     "output_type": "stream",
     "text": [
      "finished processing gene UPS1...\n",
      "start processing gene PSH1...\n"
     ]
    },
    {
     "name": "stderr",
     "output_type": "stream",
     "text": [
      "13344it [00:09, 1444.26it/s]\n"
     ]
    },
    {
     "name": "stdout",
     "output_type": "stream",
     "text": [
      "finished processing gene PSH1...\n",
      "start processing gene RSC6...\n"
     ]
    },
    {
     "name": "stderr",
     "output_type": "stream",
     "text": [
      "13344it [00:04, 2830.47it/s]\n"
     ]
    },
    {
     "name": "stdout",
     "output_type": "stream",
     "text": [
      "finished processing gene RSC6...\n",
      "start processing gene MDH3...\n"
     ]
    },
    {
     "name": "stderr",
     "output_type": "stream",
     "text": [
      "13344it [00:12, 1071.50it/s]\n"
     ]
    },
    {
     "name": "stdout",
     "output_type": "stream",
     "text": [
      "finished processing gene MDH3...\n",
      "start processing gene CNE1...\n"
     ]
    },
    {
     "name": "stderr",
     "output_type": "stream",
     "text": [
      "13344it [00:04, 3016.28it/s]\n"
     ]
    },
    {
     "name": "stdout",
     "output_type": "stream",
     "text": [
      "finished processing gene CNE1...\n",
      "start processing gene OM14...\n"
     ]
    },
    {
     "name": "stderr",
     "output_type": "stream",
     "text": [
      "13344it [00:08, 1666.28it/s]\n"
     ]
    },
    {
     "name": "stdout",
     "output_type": "stream",
     "text": [
      "finished processing gene OM14...\n",
      "start processing gene CAP2...\n"
     ]
    },
    {
     "name": "stderr",
     "output_type": "stream",
     "text": [
      "13344it [00:05, 2441.42it/s]\n"
     ]
    },
    {
     "name": "stdout",
     "output_type": "stream",
     "text": [
      "finished processing gene CAP2...\n",
      "start processing gene UTP5...\n"
     ]
    },
    {
     "name": "stderr",
     "output_type": "stream",
     "text": [
      "13344it [00:12, 1071.72it/s]\n"
     ]
    },
    {
     "name": "stdout",
     "output_type": "stream",
     "text": [
      "finished processing gene UTP5...\n",
      "start processing gene SCT1...\n"
     ]
    },
    {
     "name": "stderr",
     "output_type": "stream",
     "text": [
      "13344it [00:08, 1664.78it/s]\n"
     ]
    },
    {
     "name": "stdout",
     "output_type": "stream",
     "text": [
      "finished processing gene SCT1...\n",
      "start processing gene PFK1...\n"
     ]
    },
    {
     "name": "stderr",
     "output_type": "stream",
     "text": [
      "13344it [00:10, 1317.49it/s]\n"
     ]
    },
    {
     "name": "stdout",
     "output_type": "stream",
     "text": [
      "finished processing gene PFK1...\n",
      "start processing gene KAR2...\n"
     ]
    },
    {
     "name": "stderr",
     "output_type": "stream",
     "text": [
      "13344it [00:07, 1769.49it/s]\n"
     ]
    },
    {
     "name": "stdout",
     "output_type": "stream",
     "text": [
      "finished processing gene KAR2...\n",
      "start processing gene RNH201...\n"
     ]
    },
    {
     "name": "stderr",
     "output_type": "stream",
     "text": [
      "13344it [00:07, 1739.42it/s]\n"
     ]
    },
    {
     "name": "stdout",
     "output_type": "stream",
     "text": [
      "finished processing gene RNH201...\n",
      "start processing gene SHY1...\n"
     ]
    },
    {
     "name": "stderr",
     "output_type": "stream",
     "text": [
      "13344it [00:10, 1310.86it/s]\n"
     ]
    },
    {
     "name": "stdout",
     "output_type": "stream",
     "text": [
      "finished processing gene SHY1...\n",
      "start processing gene SKG3...\n"
     ]
    },
    {
     "name": "stderr",
     "output_type": "stream",
     "text": [
      "13344it [00:11, 1184.93it/s]\n"
     ]
    },
    {
     "name": "stdout",
     "output_type": "stream",
     "text": [
      "finished processing gene SKG3...\n",
      "start processing gene URA6...\n"
     ]
    },
    {
     "name": "stderr",
     "output_type": "stream",
     "text": [
      "13344it [00:06, 2047.49it/s]\n"
     ]
    },
    {
     "name": "stdout",
     "output_type": "stream",
     "text": [
      "finished processing gene URA6...\n",
      "start processing gene MIN9...\n"
     ]
    },
    {
     "name": "stderr",
     "output_type": "stream",
     "text": [
      "13344it [00:06, 2057.01it/s]\n"
     ]
    },
    {
     "name": "stdout",
     "output_type": "stream",
     "text": [
      "finished processing gene MIN9...\n",
      "start processing gene BIO5...\n"
     ]
    },
    {
     "name": "stderr",
     "output_type": "stream",
     "text": [
      "13344it [00:07, 1743.11it/s]\n"
     ]
    },
    {
     "name": "stdout",
     "output_type": "stream",
     "text": [
      "finished processing gene BIO5...\n",
      "start processing gene CDC8...\n"
     ]
    },
    {
     "name": "stderr",
     "output_type": "stream",
     "text": [
      "13344it [00:07, 1774.87it/s]\n"
     ]
    },
    {
     "name": "stdout",
     "output_type": "stream",
     "text": [
      "finished processing gene CDC8...\n",
      "start processing gene SFT1...\n"
     ]
    },
    {
     "name": "stderr",
     "output_type": "stream",
     "text": [
      "13344it [00:06, 2053.65it/s]\n"
     ]
    },
    {
     "name": "stdout",
     "output_type": "stream",
     "text": [
      "finished processing gene SFT1...\n",
      "start processing gene MIN8...\n"
     ]
    },
    {
     "name": "stderr",
     "output_type": "stream",
     "text": [
      "13344it [00:09, 1466.30it/s]\n"
     ]
    },
    {
     "name": "stdout",
     "output_type": "stream",
     "text": [
      "finished processing gene MIN8...\n",
      "start processing gene DUG3...\n"
     ]
    },
    {
     "name": "stderr",
     "output_type": "stream",
     "text": [
      "13344it [00:07, 1740.65it/s]\n"
     ]
    },
    {
     "name": "stdout",
     "output_type": "stream",
     "text": [
      "finished processing gene DUG3...\n",
      "start processing gene MED6...\n"
     ]
    },
    {
     "name": "stderr",
     "output_type": "stream",
     "text": [
      "13344it [00:06, 2172.02it/s]\n"
     ]
    },
    {
     "name": "stdout",
     "output_type": "stream",
     "text": [
      "finished processing gene MED6...\n",
      "start processing gene RCF1...\n"
     ]
    },
    {
     "name": "stderr",
     "output_type": "stream",
     "text": [
      "13344it [00:09, 1438.94it/s]\n"
     ]
    },
    {
     "name": "stdout",
     "output_type": "stream",
     "text": [
      "finished processing gene RCF1...\n",
      "start processing gene TMA22...\n"
     ]
    },
    {
     "name": "stderr",
     "output_type": "stream",
     "text": [
      "13344it [00:07, 1771.80it/s]\n"
     ]
    },
    {
     "name": "stdout",
     "output_type": "stream",
     "text": [
      "finished processing gene TMA22...\n",
      "start processing gene HGH1...\n"
     ]
    },
    {
     "name": "stderr",
     "output_type": "stream",
     "text": [
      "13344it [00:10, 1300.19it/s]\n"
     ]
    },
    {
     "name": "stdout",
     "output_type": "stream",
     "text": [
      "finished processing gene HGH1...\n",
      "start processing gene PUG1...\n"
     ]
    },
    {
     "name": "stderr",
     "output_type": "stream",
     "text": [
      "13344it [00:07, 1903.71it/s]\n"
     ]
    },
    {
     "name": "stdout",
     "output_type": "stream",
     "text": [
      "finished processing gene PUG1...\n",
      "start processing gene GUA1...\n"
     ]
    },
    {
     "name": "stderr",
     "output_type": "stream",
     "text": [
      "13344it [00:09, 1444.37it/s]\n"
     ]
    },
    {
     "name": "stdout",
     "output_type": "stream",
     "text": [
      "finished processing gene GUA1...\n",
      "start processing gene UME6...\n"
     ]
    },
    {
     "name": "stderr",
     "output_type": "stream",
     "text": [
      "13344it [00:12, 1069.13it/s]\n"
     ]
    },
    {
     "name": "stdout",
     "output_type": "stream",
     "text": [
      "finished processing gene UME6...\n",
      "start processing gene SPO12...\n"
     ]
    },
    {
     "name": "stderr",
     "output_type": "stream",
     "text": [
      "13344it [00:06, 2136.11it/s]\n"
     ]
    },
    {
     "name": "stdout",
     "output_type": "stream",
     "text": [
      "finished processing gene SPO12...\n",
      "start processing gene NOP13...\n"
     ]
    },
    {
     "name": "stderr",
     "output_type": "stream",
     "text": [
      "13344it [00:07, 1739.32it/s]\n"
     ]
    },
    {
     "name": "stdout",
     "output_type": "stream",
     "text": [
      "finished processing gene NOP13...\n",
      "start processing gene POG1...\n"
     ]
    },
    {
     "name": "stderr",
     "output_type": "stream",
     "text": [
      "13344it [00:05, 2425.33it/s]\n"
     ]
    },
    {
     "name": "stdout",
     "output_type": "stream",
     "text": [
      "finished processing gene POG1...\n",
      "number of reads before filtering: 1108\n",
      "filtering reads with more than 0.2 NA...\n",
      "number of reads kept: 977\n",
      "filtering hyper-methylated reads...\n",
      "number of reads kept: 975\n",
      "writing output to file:  ../data/6_57_genes_sphe_chrom.mtx\n"
     ]
    }
   ],
   "source": [
    "# get single reads\n",
    "predfile = '../data/prediction/240909_dorado_sphe_using_nuclei_model.tsv'\n",
    "strand = ''\n",
    "outpath = dt_outpath\n",
    "na_thred = 0.2\n",
    "max_meth = 200\n",
    "prefix = '6_57_genes_sphe_chrom'\n",
    "stranded = False\n",
    "mtx, readnames, strands, genenames = [], [], [], []\n",
    "pregions = sphe_gene\n",
    "\n",
    "\n",
    "for (genename, strand), pregion in pregions.items():\n",
    "    \n",
    "    print(f'start processing gene {genename}...')\n",
    "    \n",
    "    chrom = pregion.split(':')[0]\n",
    "    locus = pregion.split(':')[1].split('-')\n",
    "    pstart, pend = int(locus[0]), int(locus[1])\n",
    "    with open(predfile, 'r') as infile:\n",
    "        for line in tqdm(infile):\n",
    "            thischrom = line.strip().split('\\t')[1]\n",
    "            if thischrom!= chrom:\n",
    "                continue\n",
    "            thisread = line.strip().split('\\t')[0]\n",
    "            thisstrand = 1 if line.strip().split('\\t')[2] == '+' else -1\n",
    "            if stranded:\n",
    "                if thisstrand != strand:\n",
    "                    continue\n",
    "            start = int(line.strip().split('\\t')[3])\n",
    "            scores = line.strip().split('\\t')[-1]\n",
    "            scores = [float(i) for i in scores.split(',')]\n",
    "            \n",
    "            sortedread = [(start+i,j) for i, j in enumerate(scores)]\n",
    "            if sortedread[0][0] > pend or sortedread[-1][0] < pstart: continue\n",
    "            \n",
    "            pos_scores = {i:-1 for i in range(pstart, pend+1)}\n",
    "            poss = [i[0] for i in sortedread]\n",
    "            \n",
    "            left = bisect_left(poss, pstart)\n",
    "            \n",
    "            for i in range(left, len(sortedread)):\n",
    "                pos, score = sortedread[i]\n",
    "                if pos > pend:\n",
    "                    break\n",
    "                if pos not in pos_scores:\n",
    "                    continue\n",
    "                pos_scores[pos] = score\n",
    "            \n",
    "            thisscores = np.array([v for v in pos_scores.values()])\n",
    "            # flip if the gene is on reverse strand\n",
    "            thisscores = np.flip(thisscores) if strand == '-' else thisscores\n",
    "            \n",
    "            if np.sum(thisscores) != -1*len(thisscores):\n",
    "                mtx.append(thisscores)\n",
    "                readnames.append(thisread)\n",
    "                strands.append(thisstrand)\n",
    "                genenames.append(genename)\n",
    "    print(f'finished processing gene {genename}...')\n",
    "\n",
    "mtx = np.array(mtx, dtype = float)\n",
    "mtx[mtx==-1] = np.nan\n",
    "readnames = np.array(readnames, dtype = str)\n",
    "strands = np.array(strands, dtype = int)\n",
    "genenames = np.array(genenames, dtype = str)\n",
    "\n",
    "print('number of reads before filtering:', len(readnames))\n",
    "print(f'filtering reads with more than {na_thred} NA...')\n",
    "little_na = np.invert(np.isnan(mtx).sum(axis = 1)>(mtx.shape[1]*na_thred))\n",
    "mtx = mtx[little_na,:]\n",
    "readnames = readnames[little_na]\n",
    "strands = strands[little_na]\n",
    "genenames = genenames[little_na]\n",
    "print(f'number of reads kept: {len(readnames)}', )\n",
    "print(f'filtering hyper-methylated reads...')\n",
    "hyper_meth= np.invert(np.nanmean(mtx, axis = 1)>max_meth)\n",
    "mtx = mtx[hyper_meth,:]\n",
    "readnames = readnames[hyper_meth]\n",
    "strands = strands[hyper_meth]\n",
    "genenames = genenames[hyper_meth]\n",
    "print(f'number of reads kept: {len(readnames)}')\n",
    "\n",
    "outfile = outpath + prefix + '.mtx'\n",
    "print('writing output to file: ', outfile)\n",
    "mtxFh = open(outfile, 'w')\n",
    "for line in mtx:\n",
    "    mtxFh.write(','.join(np.array(line, dtype = str)) + '\\n')\n",
    "mtxFh.close()\n",
    "\n",
    "outfile2 = outpath + prefix + '_rowannot.tsv'\n",
    "outf = open(outfile2, 'w')\n",
    "for i,j,k in zip(readnames, strands, genenames):\n",
    "    outf.write(f'{i}\\t{j}\\t{k}\\n')\n",
    "outf.close()"
   ]
  },
  {
   "cell_type": "code",
   "execution_count": 7,
   "id": "88446e11-90d5-4429-b713-09ddbfdb9413",
   "metadata": {},
   "outputs": [],
   "source": [
    "mtx = []\n",
    "with open('../data/6_57_genes_sphe_chrom.mtx', 'r') as infile:\n",
    "    for line in infile:\n",
    "        mod = [float(i) for i in line.strip().split(',')]\n",
    "        mtx.append(mod)\n",
    "\n",
    "readnames, strands, genenames = [], [], []\n",
    "with open('../data/6_57_genes_sphe_chrom_rowannot.tsv', 'r') as infile:\n",
    "    for line in infile:\n",
    "        line = line.strip().split('\\t')\n",
    "        readnames.append(str(line[0]))\n",
    "        strands.append(str(line[1]))\n",
    "        genenames.append(str(line[2]))\n",
    "\n",
    "\n",
    "mtx = np.array(mtx, dtype = float)\n",
    "readnames = np.array(readnames, dtype = str)\n",
    "strands = np.array(strands, dtype = int)\n",
    "genenames = np.array(genenames, dtype = str)"
   ]
  },
  {
   "cell_type": "code",
   "execution_count": 4,
   "id": "cf346865-cd09-41f6-b130-2a2c22c64571",
   "metadata": {
    "scrolled": true
   },
   "outputs": [
    {
     "ename": "NameError",
     "evalue": "name 'pregions' is not defined",
     "output_type": "error",
     "traceback": [
      "\u001b[0;31m---------------------------------------------------------------------------\u001b[0m",
      "\u001b[0;31mNameError\u001b[0m                                 Traceback (most recent call last)",
      "Cell \u001b[0;32mIn[4], line 11\u001b[0m\n\u001b[1;32m      8\u001b[0m df[\u001b[38;5;124m'\u001b[39m\u001b[38;5;124mgene\u001b[39m\u001b[38;5;124m'\u001b[39m] \u001b[38;5;241m=\u001b[39m genenames  \u001b[38;5;66;03m# Add the gene annotation to the matrix as a new column\u001b[39;00m\n\u001b[1;32m     10\u001b[0m \u001b[38;5;66;03m# Group the matrix by gene\u001b[39;00m\n\u001b[0;32m---> 11\u001b[0m df[\u001b[38;5;124m'\u001b[39m\u001b[38;5;124mgene\u001b[39m\u001b[38;5;124m'\u001b[39m] \u001b[38;5;241m=\u001b[39m pd\u001b[38;5;241m.\u001b[39mCategorical(df[\u001b[38;5;124m'\u001b[39m\u001b[38;5;124mgene\u001b[39m\u001b[38;5;124m'\u001b[39m], categories\u001b[38;5;241m=\u001b[39m[i[\u001b[38;5;241m0\u001b[39m] \u001b[38;5;28;01mfor\u001b[39;00m i \u001b[38;5;129;01min\u001b[39;00m \u001b[43mpregions\u001b[49m][::\u001b[38;5;241m-\u001b[39m\u001b[38;5;241m1\u001b[39m], ordered\u001b[38;5;241m=\u001b[39m\u001b[38;5;28;01mTrue\u001b[39;00m)\n\u001b[1;32m     12\u001b[0m df \u001b[38;5;241m=\u001b[39m df\u001b[38;5;241m.\u001b[39msort_values(\u001b[38;5;124m'\u001b[39m\u001b[38;5;124mgene\u001b[39m\u001b[38;5;124m'\u001b[39m)\n\u001b[1;32m     14\u001b[0m grouped_by_gene \u001b[38;5;241m=\u001b[39m df\u001b[38;5;241m.\u001b[39mgroupby(\u001b[38;5;124m'\u001b[39m\u001b[38;5;124mgene\u001b[39m\u001b[38;5;124m'\u001b[39m, sort\u001b[38;5;241m=\u001b[39m\u001b[38;5;28;01mFalse\u001b[39;00m)\n",
      "\u001b[0;31mNameError\u001b[0m: name 'pregions' is not defined"
     ]
    }
   ],
   "source": [
    "if np.isnan(mtx).sum() != 0:\n",
    "    imp = SimpleImputer(missing_values=np.nan, strategy='most_frequent')\n",
    "    new_mtx = imp.fit_transform(mtx)\n",
    "else:\n",
    "    new_mtx = mtx\n",
    "\n",
    "df = pd.DataFrame(new_mtx)\n",
    "df['gene'] = genenames  # Add the gene annotation to the matrix as a new column\n",
    "\n",
    "# Group the matrix by gene\n",
    "df['gene'] = pd.Categorical(df['gene'], categories=[i[0] for i in pregions][::-1], ordered=True)\n",
    "df = df.sort_values('gene')\n",
    "\n",
    "grouped_by_gene = df.groupby('gene', sort=False)\n",
    "\n",
    "# Function for KMeans clustering for each gene\n",
    "def kmeans_clustering_for_gene(gene_group, n_clusters=3):\n",
    "    # Exclude the 'gene' column for clustering\n",
    "    gene_reads = gene_group.drop(columns=['gene'])\n",
    "    \n",
    "    # Perform KMeans clustering\n",
    "    kmeans = KMeans(n_clusters=n_clusters, random_state=42)\n",
    "    clusters = kmeans.fit_predict(gene_reads)\n",
    "    \n",
    "    # Add the cluster labels as a new column\n",
    "    gene_group['cluster'] = clusters\n",
    "    \n",
    "    # Sort the rows by cluster labels\n",
    "    sorted_gene_group = gene_group.sort_values(by='cluster')\n",
    "    \n",
    "    return sorted_gene_group.drop(columns=['cluster'])  # Drop the cluster column after sorting\n",
    "\n",
    "# Function for hierarchical clustering for each gene\n",
    "def hierarchical_clustering_for_gene(gene_group, method='ward', n_clusters=3):\n",
    "    # Exclude the 'gene' column for clustering\n",
    "    gene_reads = gene_group.drop(columns=['gene'])\n",
    "    \n",
    "    # Perform hierarchical clustering\n",
    "    linkage_matrix = linkage(gene_reads, method=method)\n",
    "    \n",
    "    # Get the flat clusters based on n_clusters\n",
    "    clusters = fcluster(linkage_matrix, t=n_clusters, criterion='maxclust')\n",
    "    \n",
    "    # Add the cluster labels as a new column\n",
    "    gene_group['cluster'] = clusters\n",
    "    \n",
    "    # Sort the rows by cluster labels\n",
    "    sorted_gene_group = gene_group.sort_values(by='cluster')\n",
    "    \n",
    "    return sorted_gene_group.drop(columns=['cluster'])  # Drop the cluster column after sorting\n",
    "\n",
    "# 1. Apply clustering on each gene group and collect sorted groups\n",
    "sorted_groups, clustered_genes = [], []\n",
    "\n",
    "for gene_name, gene_group in grouped_by_gene:\n",
    "    print(f\"Clustering for {gene_name}\")\n",
    "    \n",
    "    # Choose KMeans or Hierarchical clustering\n",
    "    sorted_gene_group = kmeans_clustering_for_gene(gene_group, n_clusters=3)\n",
    "    # Alternatively, use hierarchical clustering:\n",
    "    # sorted_gene_group = hierarchical_clustering_for_gene(gene_group, n_clusters=3)\n",
    "\n",
    "    # Append the sorted group to the list\n",
    "    sorted_groups.append(sorted_gene_group.drop(columns=['gene']))  # Remove 'gene' column\n",
    "\n",
    "    clustered_genes.extend([gene_name] * len(sorted_gene_group))\n",
    "# 2. Concatenate all sorted groups back into one matrix\n",
    "clustered_mtx = pd.concat(sorted_groups, axis=0).values  # Convert to numpy array\n",
    "\n",
    "# The final output matrix\n",
    "print(\"clustered matrix shape:\", clustered_mtx.shape)"
   ]
  },
  {
   "cell_type": "code",
   "execution_count": null,
   "id": "31543ea3-26cb-4fe5-bc28-50ce61ec9bfa",
   "metadata": {},
   "outputs": [
    {
     "name": "stderr",
     "output_type": "stream",
     "text": [
      "100%|█████████████████████████████████████████████████████████████| 975/975 [18:55<00:00,  1.16s/it]\n"
     ]
    }
   ],
   "source": [
    "plt.figure(figsize=(5, 8))\n",
    "pstart, pend = (-600, 600)\n",
    "xticks_space = 150\n",
    "ax = plt.axes((0.1, 0.1, 0.9, 0.9))\n",
    "ax.spines['top'].set_visible(True)\n",
    "ax.spines['right'].set_visible(False)\n",
    "ax.spines['left'].set_visible(False)\n",
    "ax.spines['bottom'].set_visible(True)\n",
    "ax.set_xticks(ticks= np.arange(pstart, pend+1, xticks_space))\n",
    "ax.set_xticklabels(ax.get_xticks(), rotation = 50)\n",
    "ax.set_xlim(pstart, pend)\n",
    "ax.yaxis.tick_right()\n",
    "ax.yaxis.set_label_position(\"right\")\n",
    "height = (1, 1)\n",
    "bottom=0\n",
    "tick_yaxis, label_yaxis = [],[]\n",
    "total, count = np.zeros(clustered_mtx.shape[1], dtype = int), np.zeros(clustered_mtx.shape[1], dtype = int)\n",
    "(R,G,B) = colorMap(palette = 'viridis', log_scale=False)\n",
    "thisgene = ''\n",
    "\n",
    "for i in tqdm(range(clustered_mtx.shape[0])):\n",
    "    left = -600\n",
    "    if thisgene != clustered_genes[i]:\n",
    "        tick_yaxis.append(bottom)\n",
    "        label_yaxis.append(clustered_genes[i])\n",
    "        thisgene = clustered_genes[i]\n",
    "    for j in range(clustered_mtx.shape[1]):\n",
    "        score = clustered_mtx[i, j]\n",
    "        if not np.isnan(score):\n",
    "            count[j] += score\n",
    "            total[j] += 1\n",
    "        # no score at this position\n",
    "        if np.isnan(score):\n",
    "            col = 'lightgray'\n",
    "        else:\n",
    "            color = int((score/256)*100)\n",
    "            col=(R[color],G[color],B[color])\n",
    "        thisalpha = 1\n",
    "        rectangle = mplpatches.Rectangle([left, bottom-(height[0]*0.5)], 1, height[0], \n",
    "                                         facecolor = col, edgecolor = 'silver', linewidth = 0, alpha=thisalpha)\n",
    "        ax.add_patch(rectangle)\n",
    "        left += 1\n",
    "    bottom +=height[0]\n",
    "\n",
    "aggregate = np.divide(np.divide(count, total), 256)\n",
    "if np.max(total) < 1:\n",
    "    aggregate = np.zeros(clustered_mtx.shape[1])\n",
    "ax.bar(np.arange(pstart, pend+1), aggregate, bottom=bottom, width = 1.0, color = 'tab:blue')\n",
    "ax.set_yticks(ticks = tick_yaxis, labels = label_yaxis)\n",
    "ax.set_ylim(0-0.5*height[0], bottom)\n",
    "ax.set_xlabel('distance from +1 nucleosome')\n",
    "plt.savefig(fig_outpath+ f'6_top_well_positioned_genes_clustered_within_gene_sphe.pdf', bbox_inches='tight')"
   ]
  },
  {
   "cell_type": "code",
   "execution_count": 11,
   "id": "9d54cf29-1e77-4e0f-b497-fbfd3c6e794e",
   "metadata": {},
   "outputs": [
    {
     "data": {
      "image/png": "[encoded data removed]",
      "text/plain": [
       "<Figure size 500x100 with 1 Axes>"
      ]
     },
     "metadata": {},
     "output_type": "display_data"
    }
   ],
   "source": [
    "from scipy.signal import savgol_filter\n",
    "smoothed_agg = savgol_filter(aggregate, 150, 3, mode=\"nearest\")\n",
    "peak = max(smoothed_agg)\n",
    "smoothed_agg = smoothed_agg/peak\n",
    "plt.figure(figsize=(5, 1))\n",
    "plt.plot(np.arange(pstart, pend+1), smoothed_agg)\n",
    "plt.xticks(ticks= np.arange(pstart, pend+1, xticks_space))\n",
    "plt.yticks(ticks= [0.5, 0.75, 1.0])\n",
    "plt.ylim(0.5, max(smoothed_agg))\n",
    "plt.xlim(-600, 600)\n",
    "plt.savefig(fig_outpath+ f'6_top_aggregated_panel_sphe.pdf', bbox_inches='tight')"
   ]
  },
  {
   "cell_type": "code",
   "execution_count": 12,
   "id": "cdd1cecb-c3ed-4497-be9b-65576f412f2e",
   "metadata": {},
   "outputs": [
    {
     "name": "stderr",
     "output_type": "stream",
     "text": [
      "100%|████████████████████████████████████████████████████████████| 975/975 [00:08<00:00, 111.71it/s]\n"
     ]
    },
    {
     "data": {
      "image/png": "[encoded data removed]",
      "text/plain": [
       "<Figure size 500x800 with 1 Axes>"
      ]
     },
     "metadata": {},
     "output_type": "display_data"
    }
   ],
   "source": [
    "plt.figure(figsize=(5, 8))\n",
    "pstart, pend = (-600, 600)\n",
    "xticks_space = 150\n",
    "ax = plt.axes((0.1, 0.1, 0.9, 0.9))\n",
    "ax.spines['top'].set_visible(True)\n",
    "ax.spines['right'].set_visible(False)\n",
    "ax.spines['left'].set_visible(False)\n",
    "ax.spines['bottom'].set_visible(True)\n",
    "ax.set_xticks(ticks= np.arange(pstart, pend+1, xticks_space))\n",
    "ax.set_xticklabels(ax.get_xticks(), rotation = 50)\n",
    "ax.set_xlim(pstart, pend)\n",
    "ax.yaxis.tick_right()\n",
    "ax.yaxis.set_label_position(\"right\")\n",
    "height = (1, 1)\n",
    "bottom=0\n",
    "tick_yaxis, label_yaxis = [],[]\n",
    "total, count = np.zeros(clustered_mtx.shape[1], dtype = int), np.zeros(clustered_mtx.shape[1], dtype = int)\n",
    "(R,G,B) = colorMap(palette = 'viridis', log_scale=False)\n",
    "thisgene = ''\n",
    "\n",
    "for i in tqdm(range(clustered_mtx.shape[0])):\n",
    "    left = -600\n",
    "    if thisgene != clustered_genes[i]:\n",
    "        tick_yaxis.append(bottom)\n",
    "        label_yaxis.append(clustered_genes[i])\n",
    "        thisgene = clustered_genes[i]\n",
    "    for j in range(clustered_mtx.shape[1]):\n",
    "        score = clustered_mtx[i, j]\n",
    "        if not np.isnan(score):\n",
    "            count[j] += score\n",
    "            total[j] += 1\n",
    "        # no score at this position\n",
    "        if np.isnan(score):\n",
    "            col = 'lightgray'\n",
    "        else:\n",
    "            color = int((score/256)*100)\n",
    "            col=(R[color],G[color],B[color])\n",
    "        thisalpha = 1\n",
    "        # rectangle = mplpatches.Rectangle([left, bottom-(height[0]*0.5)], 1, height[0], \n",
    "                                         # facecolor = col, edgecolor = 'silver', linewidth = 0, alpha=thisalpha)\n",
    "        # ax.add_patch(rectangle)\n",
    "        left += 1\n",
    "    bottom +=height[0]\n",
    "\n",
    "aggregate = np.divide(np.divide(count, total), 256)\n",
    "if np.max(total) < 1:\n",
    "    aggregate = np.zeros(clustered_mtx.shape[1])\n",
    "ax.bar(np.arange(pstart, pend+1), aggregate, bottom=bottom, width = 1.0, color = 'tab:blue')\n",
    "ax.set_yticks(ticks = tick_yaxis, labels = label_yaxis)\n",
    "ax.set_ylim(0-0.5*height[0], bottom)\n",
    "ax.set_xlabel('distance from +1 nucleosome')\n",
    "plt.savefig(fig_outpath+ f'6_top_well_positioned_genes_clustered_within_gene_sphe_text_only.pdf', bbox_inches='tight')"
   ]
  }
 ],
 "metadata": {
  "kernelspec": {
   "display_name": "Python 3 (ipykernel)",
   "language": "python",
   "name": "python3"
  },
  "language_info": {
   "codemirror_mode": {
    "name": "ipython",
    "version": 3
   },
   "file_extension": ".py",
   "mimetype": "text/x-python",
   "name": "python",
   "nbconvert_exporter": "python",
   "pygments_lexer": "ipython3",
   "version": "3.9.18"
  }
 },
 "nbformat": 4,
 "nbformat_minor": 5
}
